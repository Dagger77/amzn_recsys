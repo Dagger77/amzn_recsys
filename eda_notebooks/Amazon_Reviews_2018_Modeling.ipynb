{
  "cells": [
    {
      "cell_type": "markdown",
      "metadata": {
        "id": "view-in-github",
        "colab_type": "text"
      },
      "source": [
        "<a href=\"https://colab.research.google.com/github/Dagger77/amzn_recsys/blob/main/eda_notebooks/Amazon_Reviews_2018_Modeling.ipynb\" target=\"_parent\"><img src=\"https://colab.research.google.com/assets/colab-badge.svg\" alt=\"Open In Colab\"/></a>"
      ]
    },
    {
      "cell_type": "code",
      "execution_count": 1,
      "metadata": {
        "colab": {
          "base_uri": "https://localhost:8080/"
        },
        "id": "JTLc0VKIaPGz",
        "outputId": "555e7a14-6d47-4d35-8cb8-04d322a23b17"
      },
      "outputs": [
        {
          "output_type": "stream",
          "name": "stdout",
          "text": [
            "\u001b[?25l     \u001b[90m━━━━━━━━━━━━━━━━━━━━━━━━━━━━━━━━━━━━━━━━\u001b[0m \u001b[32m0.0/154.4 kB\u001b[0m \u001b[31m?\u001b[0m eta \u001b[36m-:--:--\u001b[0m\r\u001b[2K     \u001b[91m━━━━━━━━━━━━━━━━━━━━━━━━━━━━━━━━━━━━━━━\u001b[0m\u001b[91m╸\u001b[0m \u001b[32m153.6/154.4 kB\u001b[0m \u001b[31m4.6 MB/s\u001b[0m eta \u001b[36m0:00:01\u001b[0m\r\u001b[2K     \u001b[90m━━━━━━━━━━━━━━━━━━━━━━━━━━━━━━━━━━━━━━━━\u001b[0m \u001b[32m154.4/154.4 kB\u001b[0m \u001b[31m2.9 MB/s\u001b[0m eta \u001b[36m0:00:00\u001b[0m\n",
            "\u001b[?25h  Installing build dependencies ... \u001b[?25l\u001b[?25hdone\n",
            "  Getting requirements to build wheel ... \u001b[?25l\u001b[?25hdone\n",
            "  Preparing metadata (pyproject.toml) ... \u001b[?25l\u001b[?25hdone\n",
            "  Building wheel for scikit-surprise (pyproject.toml) ... \u001b[?25l\u001b[?25hdone\n"
          ]
        }
      ],
      "source": [
        "pip install scikit-surprise -q"
      ]
    },
    {
      "cell_type": "code",
      "source": [
        "pip install lightfm -q"
      ],
      "metadata": {
        "colab": {
          "base_uri": "https://localhost:8080/"
        },
        "id": "dwwUrjvuS01i",
        "outputId": "e4092435-1813-4daf-ac76-c3f3a3a9187d"
      },
      "execution_count": 2,
      "outputs": [
        {
          "output_type": "stream",
          "name": "stdout",
          "text": [
            "\u001b[?25l     \u001b[90m━━━━━━━━━━━━━━━━━━━━━━━━━━━━━━━━━━━━━━━━\u001b[0m \u001b[32m0.0/316.4 kB\u001b[0m \u001b[31m?\u001b[0m eta \u001b[36m-:--:--\u001b[0m\r\u001b[2K     \u001b[91m━━━━━━━━━━━━━━━━━━━━━━━━━━━━━━━━━━━━\u001b[0m\u001b[90m╺\u001b[0m\u001b[90m━━━\u001b[0m \u001b[32m286.7/316.4 kB\u001b[0m \u001b[31m9.0 MB/s\u001b[0m eta \u001b[36m0:00:01\u001b[0m\r\u001b[2K     \u001b[90m━━━━━━━━━━━━━━━━━━━━━━━━━━━━━━━━━━━━━━━━\u001b[0m \u001b[32m316.4/316.4 kB\u001b[0m \u001b[31m5.8 MB/s\u001b[0m eta \u001b[36m0:00:00\u001b[0m\n",
            "\u001b[?25h  Preparing metadata (setup.py) ... \u001b[?25l\u001b[?25hdone\n",
            "  Building wheel for lightfm (setup.py) ... \u001b[?25l\u001b[?25hdone\n"
          ]
        }
      ]
    },
    {
      "cell_type": "code",
      "execution_count": 3,
      "metadata": {
        "colab": {
          "base_uri": "https://localhost:8080/"
        },
        "id": "1iTy8zgjPZo6",
        "outputId": "ce50cf06-32ce-4dfc-b6c9-19659a616d65"
      },
      "outputs": [
        {
          "output_type": "stream",
          "name": "stdout",
          "text": [
            "Mounted at /content/drive\n"
          ]
        }
      ],
      "source": [
        "from google.colab import drive\n",
        "drive.mount('/content/drive')"
      ]
    },
    {
      "cell_type": "markdown",
      "source": [
        "##IMPORT"
      ],
      "metadata": {
        "id": "WavPfjILQwbm"
      }
    },
    {
      "cell_type": "code",
      "execution_count": 4,
      "metadata": {
        "id": "krKOYq_bPg9C"
      },
      "outputs": [],
      "source": [
        "import pandas as pd\n",
        "pd.set_option('display.max_rows', 100)\n",
        "pd.set_option('display.max_columns', None)\n",
        "pd.set_option('display.max_colwidth', None)\n",
        "pd.set_option('display.width', 0)"
      ]
    },
    {
      "cell_type": "code",
      "execution_count": 5,
      "metadata": {
        "id": "iB7RH8E1PjQ8"
      },
      "outputs": [],
      "source": [
        "import numpy as np\n",
        "from sklearn.model_selection import train_test_split\n",
        "import itertools\n",
        "from tqdm import tqdm\n",
        "import time\n",
        "import numpy as np\n",
        "import operator\n",
        "from itertools import combinations\n",
        "from surprise import Reader\n",
        "from surprise import Dataset\n",
        "from surprise.model_selection import PredefinedKFold, GridSearchCV\n",
        "from surprise.prediction_algorithms import *\n",
        "from sklearn.preprocessing import LabelEncoder"
      ]
    },
    {
      "cell_type": "code",
      "source": [
        "random_seed = 42"
      ],
      "metadata": {
        "id": "UP-32TVGXn-i"
      },
      "execution_count": 6,
      "outputs": []
    },
    {
      "cell_type": "markdown",
      "source": [
        "##LOAD"
      ],
      "metadata": {
        "id": "-_YPY6cEQzRa"
      }
    },
    {
      "cell_type": "code",
      "execution_count": 49,
      "metadata": {
        "id": "NU4JGrBLPma3"
      },
      "outputs": [],
      "source": [
        "df = pd.read_parquet('/content/drive/MyDrive/Velotix HA/amazon_processed.parquet')"
      ]
    },
    {
      "cell_type": "code",
      "execution_count": 50,
      "metadata": {
        "colab": {
          "base_uri": "https://localhost:8080/"
        },
        "id": "cemj_MT9QDCt",
        "outputId": "d3fdbea5-0071-4df4-ff01-43821fc2d89d"
      },
      "outputs": [
        {
          "output_type": "stream",
          "name": "stdout",
          "text": [
            "<class 'pandas.core.frame.DataFrame'>\n",
            "Index: 510312 entries, 0 to 551158\n",
            "Data columns (total 14 columns):\n",
            " #   Column            Non-Null Count   Dtype  \n",
            "---  ------            --------------   -----  \n",
            " 0   userName          510312 non-null  object \n",
            " 1   itemName          510312 non-null  object \n",
            " 2   description       510312 non-null  object \n",
            " 3   brand             510312 non-null  object \n",
            " 4   category          510312 non-null  object \n",
            " 5   price             510312 non-null  float64\n",
            " 6   rating            510312 non-null  float64\n",
            " 7   summary           510312 non-null  object \n",
            " 8   brand_encoded     510312 non-null  int64  \n",
            " 9   category_encoded  510312 non-null  int64  \n",
            " 10  user_id           510312 non-null  int64  \n",
            " 11  item_id           510312 non-null  int64  \n",
            " 12  desc_emb          510312 non-null  object \n",
            " 13  sentiment         510312 non-null  object \n",
            "dtypes: float64(2), int64(4), object(8)\n",
            "memory usage: 58.4+ MB\n"
          ]
        }
      ],
      "source": [
        "df.info()"
      ]
    },
    {
      "cell_type": "code",
      "source": [
        "# df['user_id'] = df['user_id'].astype(str)\n",
        "# df['item_id'] = df['item_id'].astype(str)\n",
        "df['brand_encoded'] = df['brand_encoded'].astype(str)\n",
        "df['category_encoded'] = df['category_encoded'].astype(str)"
      ],
      "metadata": {
        "id": "NzeA3P2bN3wb"
      },
      "execution_count": 51,
      "outputs": []
    },
    {
      "cell_type": "markdown",
      "source": [
        "##SMALL PREPROC"
      ],
      "metadata": {
        "id": "wKaMlEYuQ1_F"
      }
    },
    {
      "cell_type": "code",
      "source": [
        "#Let's filter out brands that are not so popular\n",
        "brand_counts = df['brand'].value_counts()\n",
        "popular_brands = brand_counts[brand_counts > 500].index\n",
        "df['brand_filtered'] = df['brand'].apply(lambda x: x if x in popular_brands else 'other')\n",
        "\n",
        "le = LabelEncoder()\n",
        "df['brand_encoded_filtered'] = le.fit_transform(df['brand_filtered'])\n",
        "label_mapping = dict(zip(le.classes_, le.transform(le.classes_)))\n",
        "\n",
        "print(label_mapping)\n",
        "print(df[['brand', 'brand_filtered', 'brand_encoded_filtered']].head(10))"
      ],
      "metadata": {
        "colab": {
          "base_uri": "https://localhost:8080/"
        },
        "id": "o_nUBDwy1qTJ",
        "outputId": "c17fded5-c764-499e-9ed9-8727451bba2f"
      },
      "execution_count": 52,
      "outputs": [
        {
          "output_type": "stream",
          "name": "stdout",
          "text": [
            "{'3M': 0, 'API': 1, 'AUKEY': 2, 'AmazonBasics': 3, 'Anker': 4, \"Anthony's\": 5, 'Aqueon': 6, 'Arm & Hammer': 7, 'Avery': 8, 'BIC': 9, 'BLACK+DECKER': 10, 'Bayer Animal Health': 11, 'Best Bully Sticks': 12, 'Best Pet Supplies, Inc.': 13, 'Birch Benders': 14, 'Blue Buffalo': 15, 'Blueberry Pet': 16, \"Bob's Red Mill\": 17, 'Briggs & Stratton': 18, 'Brother': 19, 'Canon': 20, 'Catit': 21, 'Chuckit!': 22, 'Classic Accessories': 23, 'Clover': 24, \"D'Addario\": 25, 'DYMO': 26, 'Darice': 27, 'Downtown Pet Supply': 28, 'Dritz': 29, 'Epson': 30, 'Ethical Pet': 31, 'Expo': 32, 'Fender': 33, 'Fiskars': 34, 'Fluval': 35, 'Frontier': 36, 'Furminator': 37, 'Go Pet Club': 38, 'GoTags': 39, 'Green Mountain Coffee Roasters': 40, 'Greenies': 41, 'Greenworks': 42, 'HP': 43, 'Hartz': 44, \"Hill's Science Diet\": 45, 'IRIS USA, Inc.': 46, 'Iams': 47, 'Intex': 48, 'JETech': 49, 'JW Pet': 50, 'K&H Pet Products': 51, 'KIND': 52, 'KONG': 53, 'Kaytee': 54, 'Kirkland Signature': 55, 'MarineLand': 56, 'McCormick': 57, 'Merrick': 58, 'MidWest Homes for Pets': 59, 'Milk-Bone': 60, 'Milliard': 61, 'Multipet': 62, 'NaturVet': 63, 'Natural Balance': 64, \"Nature's Miracle\": 65, 'No Name': 66, 'Nutro': 67, 'Nylabone': 68, 'Orbit': 69, 'OtterBox': 70, 'Our Pets': 71, 'Outward Hound': 72, 'Paper Mate': 73, 'Pedigree': 74, 'Penn Plax': 75, 'Pentel': 76, 'Pepperidge Farm': 77, 'Perky-Pet': 78, 'PetSafe': 79, 'Petmate': 80, 'Petstages': 81, 'Pilot': 82, 'Planters': 83, 'Post-it': 84, 'Puppia': 85, 'Purina Fancy Feast': 86, 'Purina Friskies': 87, 'Purina ONE': 88, 'Purina Pro Plan': 89, 'Purina Tidy Cats': 90, 'Quaker': 91, 'RAVPower': 92, 'Rachael Ray Nutrish': 93, 'Red Heart': 94, 'Samsung': 95, 'Scotch': 96, 'Scotts': 97, 'Seachem': 98, 'Sharpie': 99, 'Sincerely Nuts': 100, 'Sizzix': 101, 'SmartyKat': 102, 'Spigen': 103, 'Swingline': 104, 'Taste of the Wild': 105, 'Terrasoul Superfoods': 106, 'Tetra': 107, 'The Company of Animals': 108, 'Trixie': 109, 'Twinings': 110, \"Vet's Best\": 111, 'Virbac': 112, 'Weber': 113, 'Wellness Natural Pet Food': 114, 'ZippyPaws': 115, 'Zoo Med': 116, \"Zuke's\": 117, 'by Electronic Arts': 118, 'by Microsoft': 119, 'by Nintendo': 120, 'by Sony': 121, 'by Ubisoft': 122, 'other': 123, 'produce aisle': 124}\n",
            "                 brand brand_filtered  brand_encoded_filtered\n",
            "0            Toblerone          other                     123\n",
            "1      Prince Of Peace          other                     123\n",
            "2         Pet Champion          other                     123\n",
            "3           KOH-I-NOOR          other                     123\n",
            "4               Parker          other                     123\n",
            "5              Merrick        Merrick                      58\n",
            "6         Blue Buffalo   Blue Buffalo                      15\n",
            "7  Squishy Face Studio          other                     123\n",
            "8            Penn Plax      Penn Plax                      75\n",
            "9              PetSafe        PetSafe                      79\n"
          ]
        }
      ]
    },
    {
      "cell_type": "code",
      "execution_count": 53,
      "metadata": {
        "id": "CH4U6dWAZXcx"
      },
      "outputs": [],
      "source": [
        "#Let's save the mappings\n",
        "user_to_id_map = dict(zip(df['userName'], df['user_id']))\n",
        "user_to_name_map = {user_id: user_name for user_name, user_id in user_to_id_map.items()}\n",
        "\n",
        "item_to_id_map = dict(zip(df['itemName'], df['item_id']))\n",
        "item_to_name_map = {item_id: item_name for item_name, item_id in item_to_id_map.items()}"
      ]
    },
    {
      "cell_type": "markdown",
      "source": [
        "##TRAIN/TEST SPLIT"
      ],
      "metadata": {
        "id": "0McLWUdBQ9y3"
      }
    },
    {
      "cell_type": "code",
      "execution_count": 12,
      "metadata": {
        "id": "dwBRePGGQaqE"
      },
      "outputs": [],
      "source": [
        "#Let's filter out users and items having small number of interactions\n",
        "min_user_ratings = 10\n",
        "min_item_ratings = 10\n",
        "filtered_data = df.groupby('user_id').filter(lambda x: len(x) >= min_user_ratings)\n",
        "filtered_data = filtered_data.groupby('item_id').filter(lambda x: len(x) >= min_item_ratings)"
      ]
    },
    {
      "cell_type": "code",
      "execution_count": null,
      "metadata": {
        "id": "NYZpxbvnrdpA"
      },
      "outputs": [],
      "source": [
        "# # Downsample the highly active users\n",
        "# max_interactions = 500\n",
        "\n",
        "# # Filter out highly active users and downsample them separately\n",
        "# amazon_customer_data = df[df['userName'] == 'Amazon Customer'].sample(n=max_interactions, random_state=42)\n",
        "# kindle_customer_data = df[df['userName'] == 'Kindle Customer'].sample(n=max_interactions, random_state=42)\n",
        "\n",
        "# # Filter out the data for other users\n",
        "# other_users_data = df[(df['userName'] != 'Amazon Customer') & (df['userName'] != 'Kindle Customer')]\n",
        "\n",
        "# # Combine the downsampled data with the other users' data\n",
        "# filtered_data = pd.concat([other_users_data, amazon_customer_data, kindle_customer_data])"
      ]
    },
    {
      "cell_type": "code",
      "execution_count": 13,
      "metadata": {
        "colab": {
          "base_uri": "https://localhost:8080/"
        },
        "id": "vUB8-Km_SJX9",
        "outputId": "ebbf8c38-ce90-462a-8332-f5c32c06020f"
      },
      "outputs": [
        {
          "output_type": "stream",
          "name": "stdout",
          "text": [
            "<class 'pandas.core.frame.DataFrame'>\n",
            "Index: 67503 entries, 1 to 551150\n",
            "Data columns (total 16 columns):\n",
            " #   Column                  Non-Null Count  Dtype  \n",
            "---  ------                  --------------  -----  \n",
            " 0   userName                67503 non-null  object \n",
            " 1   itemName                67503 non-null  object \n",
            " 2   description             67503 non-null  object \n",
            " 3   brand                   67503 non-null  object \n",
            " 4   category                67503 non-null  object \n",
            " 5   price                   67503 non-null  float64\n",
            " 6   rating                  67503 non-null  float64\n",
            " 7   summary                 67503 non-null  object \n",
            " 8   brand_encoded           67503 non-null  object \n",
            " 9   category_encoded        67503 non-null  object \n",
            " 10  user_id                 67503 non-null  int64  \n",
            " 11  item_id                 67503 non-null  int64  \n",
            " 12  desc_emb                67503 non-null  object \n",
            " 13  sentiment               67503 non-null  object \n",
            " 14  brand_filtered          67503 non-null  object \n",
            " 15  brand_encoded_filtered  67503 non-null  int64  \n",
            "dtypes: float64(2), int64(3), object(11)\n",
            "memory usage: 8.8+ MB\n"
          ]
        }
      ],
      "source": [
        "filtered_data.info()"
      ]
    },
    {
      "cell_type": "code",
      "execution_count": null,
      "metadata": {
        "id": "qltUggH2VA9v"
      },
      "outputs": [],
      "source": [
        "# We need Users to have at least 2 ratings to split train/test\n",
        "eligible_users = filtered_data['user_id'].value_counts()[filtered_data['user_id'].value_counts() > 1].index\n",
        "eligible_data = filtered_data[filtered_data['user_id'].isin(eligible_users)]\n",
        "\n",
        "train_df, test_df = train_test_split(\n",
        "    eligible_data, test_size=0.2, random_state=random_seed, stratify=eligible_data['user_id']\n",
        ")\n",
        "\n",
        "# # Optionally handle users with exactly 1 rating separately\n",
        "# remaining_data = filtered_data[~filtered_data['user_id'].isin(eligible_users)]\n",
        "# # adding all to the train set\n",
        "# train_df = pd.concat([train_df, remaining_data])"
      ]
    },
    {
      "cell_type": "code",
      "execution_count": null,
      "metadata": {
        "colab": {
          "base_uri": "https://localhost:8080/"
        },
        "id": "b6Z6EthmVPLQ",
        "outputId": "4c9e53e7-6480-4313-9268-c31a01887984"
      },
      "outputs": [
        {
          "output_type": "stream",
          "name": "stdout",
          "text": [
            "66895\n",
            "53516\n",
            "13379\n"
          ]
        }
      ],
      "source": [
        "print(len(eligible_data))\n",
        "print(len(train_df))\n",
        "print(len(test_df))"
      ]
    },
    {
      "cell_type": "code",
      "execution_count": null,
      "metadata": {
        "id": "e4Tmz1f0TPCm"
      },
      "outputs": [],
      "source": [
        "# Ensure that each user in the test set has at least 5 interactions to measure Precision@5\n",
        "#test_df = test_df.groupby('user_id').filter(lambda x: len(x) >= 5)"
      ]
    },
    {
      "cell_type": "code",
      "execution_count": null,
      "metadata": {
        "id": "cmAKO_MCSsyk"
      },
      "outputs": [],
      "source": [
        "# Ensure all users in test are also in train\n",
        "train_df = train_df[train_df['user_id'].isin(test_df['user_id'])]\n",
        "\n",
        "# Ensure all items in test are also in train\n",
        "train_df = train_df[train_df['item_id'].isin(test_df['item_id'])]"
      ]
    },
    {
      "cell_type": "code",
      "execution_count": null,
      "metadata": {
        "colab": {
          "base_uri": "https://localhost:8080/"
        },
        "id": "PJZ7gK6JTJVh",
        "outputId": "00deb520-6f72-456a-88f1-f1638680d50b"
      },
      "outputs": [
        {
          "output_type": "stream",
          "name": "stdout",
          "text": [
            "50316\n",
            "13379\n"
          ]
        }
      ],
      "source": [
        "print(len(train_df))\n",
        "print(len(test_df))"
      ]
    },
    {
      "cell_type": "markdown",
      "source": [
        "##SURPRISE ALGOS"
      ],
      "metadata": {
        "id": "OWLDbK_oRrhD"
      }
    },
    {
      "cell_type": "code",
      "execution_count": null,
      "metadata": {
        "id": "Ab4pFErTZpMr"
      },
      "outputs": [],
      "source": [
        "columns = ['user_id', 'item_id', 'rating']\n",
        "train_df = train_df[columns]\n",
        "test_df = test_df[columns]"
      ]
    },
    {
      "cell_type": "code",
      "execution_count": null,
      "metadata": {
        "colab": {
          "base_uri": "https://localhost:8080/",
          "height": 206
        },
        "id": "ZruDJqNSak25",
        "outputId": "086c784c-57e3-40e5-8b68-cb4c3238c778"
      },
      "outputs": [
        {
          "output_type": "execute_result",
          "data": {
            "text/plain": [
              "        user_id  item_id  rating\n",
              "334066    26821     6974     5.0\n",
              "23994      9739     8171     1.0\n",
              "160086    49507     6232     4.0\n",
              "12011      5190     1810     4.0\n",
              "262594    22980    55716     5.0"
            ],
            "text/html": [
              "\n",
              "  <div id=\"df-bad9cce1-151b-423b-8cfb-67b056e2d4f3\" class=\"colab-df-container\">\n",
              "    <div>\n",
              "<style scoped>\n",
              "    .dataframe tbody tr th:only-of-type {\n",
              "        vertical-align: middle;\n",
              "    }\n",
              "\n",
              "    .dataframe tbody tr th {\n",
              "        vertical-align: top;\n",
              "    }\n",
              "\n",
              "    .dataframe thead th {\n",
              "        text-align: right;\n",
              "    }\n",
              "</style>\n",
              "<table border=\"1\" class=\"dataframe\">\n",
              "  <thead>\n",
              "    <tr style=\"text-align: right;\">\n",
              "      <th></th>\n",
              "      <th>user_id</th>\n",
              "      <th>item_id</th>\n",
              "      <th>rating</th>\n",
              "    </tr>\n",
              "  </thead>\n",
              "  <tbody>\n",
              "    <tr>\n",
              "      <th>334066</th>\n",
              "      <td>26821</td>\n",
              "      <td>6974</td>\n",
              "      <td>5.0</td>\n",
              "    </tr>\n",
              "    <tr>\n",
              "      <th>23994</th>\n",
              "      <td>9739</td>\n",
              "      <td>8171</td>\n",
              "      <td>1.0</td>\n",
              "    </tr>\n",
              "    <tr>\n",
              "      <th>160086</th>\n",
              "      <td>49507</td>\n",
              "      <td>6232</td>\n",
              "      <td>4.0</td>\n",
              "    </tr>\n",
              "    <tr>\n",
              "      <th>12011</th>\n",
              "      <td>5190</td>\n",
              "      <td>1810</td>\n",
              "      <td>4.0</td>\n",
              "    </tr>\n",
              "    <tr>\n",
              "      <th>262594</th>\n",
              "      <td>22980</td>\n",
              "      <td>55716</td>\n",
              "      <td>5.0</td>\n",
              "    </tr>\n",
              "  </tbody>\n",
              "</table>\n",
              "</div>\n",
              "    <div class=\"colab-df-buttons\">\n",
              "\n",
              "  <div class=\"colab-df-container\">\n",
              "    <button class=\"colab-df-convert\" onclick=\"convertToInteractive('df-bad9cce1-151b-423b-8cfb-67b056e2d4f3')\"\n",
              "            title=\"Convert this dataframe to an interactive table.\"\n",
              "            style=\"display:none;\">\n",
              "\n",
              "  <svg xmlns=\"http://www.w3.org/2000/svg\" height=\"24px\" viewBox=\"0 -960 960 960\">\n",
              "    <path d=\"M120-120v-720h720v720H120Zm60-500h600v-160H180v160Zm220 220h160v-160H400v160Zm0 220h160v-160H400v160ZM180-400h160v-160H180v160Zm440 0h160v-160H620v160ZM180-180h160v-160H180v160Zm440 0h160v-160H620v160Z\"/>\n",
              "  </svg>\n",
              "    </button>\n",
              "\n",
              "  <style>\n",
              "    .colab-df-container {\n",
              "      display:flex;\n",
              "      gap: 12px;\n",
              "    }\n",
              "\n",
              "    .colab-df-convert {\n",
              "      background-color: #E8F0FE;\n",
              "      border: none;\n",
              "      border-radius: 50%;\n",
              "      cursor: pointer;\n",
              "      display: none;\n",
              "      fill: #1967D2;\n",
              "      height: 32px;\n",
              "      padding: 0 0 0 0;\n",
              "      width: 32px;\n",
              "    }\n",
              "\n",
              "    .colab-df-convert:hover {\n",
              "      background-color: #E2EBFA;\n",
              "      box-shadow: 0px 1px 2px rgba(60, 64, 67, 0.3), 0px 1px 3px 1px rgba(60, 64, 67, 0.15);\n",
              "      fill: #174EA6;\n",
              "    }\n",
              "\n",
              "    .colab-df-buttons div {\n",
              "      margin-bottom: 4px;\n",
              "    }\n",
              "\n",
              "    [theme=dark] .colab-df-convert {\n",
              "      background-color: #3B4455;\n",
              "      fill: #D2E3FC;\n",
              "    }\n",
              "\n",
              "    [theme=dark] .colab-df-convert:hover {\n",
              "      background-color: #434B5C;\n",
              "      box-shadow: 0px 1px 3px 1px rgba(0, 0, 0, 0.15);\n",
              "      filter: drop-shadow(0px 1px 2px rgba(0, 0, 0, 0.3));\n",
              "      fill: #FFFFFF;\n",
              "    }\n",
              "  </style>\n",
              "\n",
              "    <script>\n",
              "      const buttonEl =\n",
              "        document.querySelector('#df-bad9cce1-151b-423b-8cfb-67b056e2d4f3 button.colab-df-convert');\n",
              "      buttonEl.style.display =\n",
              "        google.colab.kernel.accessAllowed ? 'block' : 'none';\n",
              "\n",
              "      async function convertToInteractive(key) {\n",
              "        const element = document.querySelector('#df-bad9cce1-151b-423b-8cfb-67b056e2d4f3');\n",
              "        const dataTable =\n",
              "          await google.colab.kernel.invokeFunction('convertToInteractive',\n",
              "                                                    [key], {});\n",
              "        if (!dataTable) return;\n",
              "\n",
              "        const docLinkHtml = 'Like what you see? Visit the ' +\n",
              "          '<a target=\"_blank\" href=https://colab.research.google.com/notebooks/data_table.ipynb>data table notebook</a>'\n",
              "          + ' to learn more about interactive tables.';\n",
              "        element.innerHTML = '';\n",
              "        dataTable['output_type'] = 'display_data';\n",
              "        await google.colab.output.renderOutput(dataTable, element);\n",
              "        const docLink = document.createElement('div');\n",
              "        docLink.innerHTML = docLinkHtml;\n",
              "        element.appendChild(docLink);\n",
              "      }\n",
              "    </script>\n",
              "  </div>\n",
              "\n",
              "\n",
              "<div id=\"df-194832ca-38d3-4498-975a-5c8dd6ca9163\">\n",
              "  <button class=\"colab-df-quickchart\" onclick=\"quickchart('df-194832ca-38d3-4498-975a-5c8dd6ca9163')\"\n",
              "            title=\"Suggest charts\"\n",
              "            style=\"display:none;\">\n",
              "\n",
              "<svg xmlns=\"http://www.w3.org/2000/svg\" height=\"24px\"viewBox=\"0 0 24 24\"\n",
              "     width=\"24px\">\n",
              "    <g>\n",
              "        <path d=\"M19 3H5c-1.1 0-2 .9-2 2v14c0 1.1.9 2 2 2h14c1.1 0 2-.9 2-2V5c0-1.1-.9-2-2-2zM9 17H7v-7h2v7zm4 0h-2V7h2v10zm4 0h-2v-4h2v4z\"/>\n",
              "    </g>\n",
              "</svg>\n",
              "  </button>\n",
              "\n",
              "<style>\n",
              "  .colab-df-quickchart {\n",
              "      --bg-color: #E8F0FE;\n",
              "      --fill-color: #1967D2;\n",
              "      --hover-bg-color: #E2EBFA;\n",
              "      --hover-fill-color: #174EA6;\n",
              "      --disabled-fill-color: #AAA;\n",
              "      --disabled-bg-color: #DDD;\n",
              "  }\n",
              "\n",
              "  [theme=dark] .colab-df-quickchart {\n",
              "      --bg-color: #3B4455;\n",
              "      --fill-color: #D2E3FC;\n",
              "      --hover-bg-color: #434B5C;\n",
              "      --hover-fill-color: #FFFFFF;\n",
              "      --disabled-bg-color: #3B4455;\n",
              "      --disabled-fill-color: #666;\n",
              "  }\n",
              "\n",
              "  .colab-df-quickchart {\n",
              "    background-color: var(--bg-color);\n",
              "    border: none;\n",
              "    border-radius: 50%;\n",
              "    cursor: pointer;\n",
              "    display: none;\n",
              "    fill: var(--fill-color);\n",
              "    height: 32px;\n",
              "    padding: 0;\n",
              "    width: 32px;\n",
              "  }\n",
              "\n",
              "  .colab-df-quickchart:hover {\n",
              "    background-color: var(--hover-bg-color);\n",
              "    box-shadow: 0 1px 2px rgba(60, 64, 67, 0.3), 0 1px 3px 1px rgba(60, 64, 67, 0.15);\n",
              "    fill: var(--button-hover-fill-color);\n",
              "  }\n",
              "\n",
              "  .colab-df-quickchart-complete:disabled,\n",
              "  .colab-df-quickchart-complete:disabled:hover {\n",
              "    background-color: var(--disabled-bg-color);\n",
              "    fill: var(--disabled-fill-color);\n",
              "    box-shadow: none;\n",
              "  }\n",
              "\n",
              "  .colab-df-spinner {\n",
              "    border: 2px solid var(--fill-color);\n",
              "    border-color: transparent;\n",
              "    border-bottom-color: var(--fill-color);\n",
              "    animation:\n",
              "      spin 1s steps(1) infinite;\n",
              "  }\n",
              "\n",
              "  @keyframes spin {\n",
              "    0% {\n",
              "      border-color: transparent;\n",
              "      border-bottom-color: var(--fill-color);\n",
              "      border-left-color: var(--fill-color);\n",
              "    }\n",
              "    20% {\n",
              "      border-color: transparent;\n",
              "      border-left-color: var(--fill-color);\n",
              "      border-top-color: var(--fill-color);\n",
              "    }\n",
              "    30% {\n",
              "      border-color: transparent;\n",
              "      border-left-color: var(--fill-color);\n",
              "      border-top-color: var(--fill-color);\n",
              "      border-right-color: var(--fill-color);\n",
              "    }\n",
              "    40% {\n",
              "      border-color: transparent;\n",
              "      border-right-color: var(--fill-color);\n",
              "      border-top-color: var(--fill-color);\n",
              "    }\n",
              "    60% {\n",
              "      border-color: transparent;\n",
              "      border-right-color: var(--fill-color);\n",
              "    }\n",
              "    80% {\n",
              "      border-color: transparent;\n",
              "      border-right-color: var(--fill-color);\n",
              "      border-bottom-color: var(--fill-color);\n",
              "    }\n",
              "    90% {\n",
              "      border-color: transparent;\n",
              "      border-bottom-color: var(--fill-color);\n",
              "    }\n",
              "  }\n",
              "</style>\n",
              "\n",
              "  <script>\n",
              "    async function quickchart(key) {\n",
              "      const quickchartButtonEl =\n",
              "        document.querySelector('#' + key + ' button');\n",
              "      quickchartButtonEl.disabled = true;  // To prevent multiple clicks.\n",
              "      quickchartButtonEl.classList.add('colab-df-spinner');\n",
              "      try {\n",
              "        const charts = await google.colab.kernel.invokeFunction(\n",
              "            'suggestCharts', [key], {});\n",
              "      } catch (error) {\n",
              "        console.error('Error during call to suggestCharts:', error);\n",
              "      }\n",
              "      quickchartButtonEl.classList.remove('colab-df-spinner');\n",
              "      quickchartButtonEl.classList.add('colab-df-quickchart-complete');\n",
              "    }\n",
              "    (() => {\n",
              "      let quickchartButtonEl =\n",
              "        document.querySelector('#df-194832ca-38d3-4498-975a-5c8dd6ca9163 button');\n",
              "      quickchartButtonEl.style.display =\n",
              "        google.colab.kernel.accessAllowed ? 'block' : 'none';\n",
              "    })();\n",
              "  </script>\n",
              "</div>\n",
              "\n",
              "    </div>\n",
              "  </div>\n"
            ],
            "application/vnd.google.colaboratory.intrinsic+json": {
              "type": "dataframe",
              "variable_name": "test_df",
              "summary": "{\n  \"name\": \"test_df\",\n  \"rows\": 13379,\n  \"fields\": [\n    {\n      \"column\": \"user_id\",\n      \"properties\": {\n        \"dtype\": \"number\",\n        \"std\": 26801,\n        \"min\": 0,\n        \"max\": 129855,\n        \"num_unique_values\": 5636,\n        \"samples\": [\n          105628,\n          1478,\n          7264\n        ],\n        \"semantic_type\": \"\",\n        \"description\": \"\"\n      }\n    },\n    {\n      \"column\": \"item_id\",\n      \"properties\": {\n        \"dtype\": \"number\",\n        \"std\": 13928,\n        \"min\": 1,\n        \"max\": 108893,\n        \"num_unique_values\": 3098,\n        \"samples\": [\n          27071,\n          6904,\n          957\n        ],\n        \"semantic_type\": \"\",\n        \"description\": \"\"\n      }\n    },\n    {\n      \"column\": \"rating\",\n      \"properties\": {\n        \"dtype\": \"number\",\n        \"std\": 1.101638961250106,\n        \"min\": 1.0,\n        \"max\": 5.0,\n        \"num_unique_values\": 5,\n        \"samples\": [\n          1.0,\n          3.0,\n          4.0\n        ],\n        \"semantic_type\": \"\",\n        \"description\": \"\"\n      }\n    }\n  ]\n}"
            }
          },
          "metadata": {},
          "execution_count": 119
        }
      ],
      "source": [
        "test_df.head()"
      ]
    },
    {
      "cell_type": "code",
      "execution_count": null,
      "metadata": {
        "colab": {
          "base_uri": "https://localhost:8080/"
        },
        "id": "tuZeslQsuHii",
        "outputId": "8d5783d4-ff74-4723-bfd9-3e2ca9c9db1f"
      },
      "outputs": [
        {
          "output_type": "stream",
          "name": "stdout",
          "text": [
            "5636 3098\n"
          ]
        }
      ],
      "source": [
        "print(test_df.user_id.nunique(), test_df.item_id.nunique())"
      ]
    },
    {
      "cell_type": "code",
      "source": [
        "print(train_df.user_id.nunique(), train_df.item_id.nunique())"
      ],
      "metadata": {
        "colab": {
          "base_uri": "https://localhost:8080/"
        },
        "id": "LH91-awfR3s1",
        "outputId": "3388676e-0851-4da4-90c7-4cbc0b52810e"
      },
      "execution_count": null,
      "outputs": [
        {
          "output_type": "stream",
          "name": "stdout",
          "text": [
            "5636 3098\n"
          ]
        }
      ]
    },
    {
      "cell_type": "markdown",
      "source": [
        "###Metric functions"
      ],
      "metadata": {
        "id": "zHoYAQc2SFYo"
      }
    },
    {
      "cell_type": "markdown",
      "source": [
        "* Precision@K measures how many of the top K items recommended to a user are relevant (i.e., items that the user actually interacted with or rated positively)\n",
        "\n",
        "* Recall@K measures how many of the total relevant items for a user were actually recommended in the top K recommendations"
      ],
      "metadata": {
        "id": "8C40-V9-SKJ8"
      }
    },
    {
      "cell_type": "code",
      "execution_count": null,
      "metadata": {
        "id": "3-NfuthXWM5Q"
      },
      "outputs": [],
      "source": [
        "def compute_precision(test_set, recommendations):\n",
        "    #hits is the number of items that were recommended and chosen\n",
        "    hits = 0\n",
        "    #recs is the total number of recommended items\n",
        "    recs = 0\n",
        "\n",
        "    for u in test_set.user_id.unique():\n",
        "        userData = test_set[test_set.user_id == u]\n",
        "        userRecs = recommendations.get(str(u))\n",
        "\n",
        "        hits += len(set(userData.item_id).intersection(set(userRecs)))\n",
        "        recs += len(userRecs)\n",
        "\n",
        "    return hits / recs"
      ]
    },
    {
      "cell_type": "code",
      "source": [
        "def compute_precision_at_k(test_set, recommendations, k=5):\n",
        "    hits = 0\n",
        "    recs = 0\n",
        "\n",
        "    for u in test_set.user_id.unique():\n",
        "        userData = test_set[test_set.user_id == u]\n",
        "        userRecs = recommendations.get(str(u), [])\n",
        "\n",
        "        top_k_recs = userRecs[:k]\n",
        "\n",
        "        # hits = intersection between relevant items and top K recommended items\n",
        "        hits += len(set(userData.item_id).intersection(set(top_k_recs)))\n",
        "\n",
        "        # Increment recs by K or fewer if fewer recommendations are available\n",
        "        recs += min(len(top_k_recs), k)\n",
        "\n",
        "    # precision at K = hits divided by total recommendations at K\n",
        "    return hits / recs if recs > 0 else 0"
      ],
      "metadata": {
        "id": "5Q7xW6WUjrOR"
      },
      "execution_count": null,
      "outputs": []
    },
    {
      "cell_type": "code",
      "execution_count": null,
      "metadata": {
        "id": "Igx-u1b6whcC"
      },
      "outputs": [],
      "source": [
        "def compute_recall(test_set, recommendations):\n",
        "    hits = 0\n",
        "    total_relevant = 0\n",
        "\n",
        "    for u in test_set.user_id.unique():\n",
        "        userData = test_set[test_set.user_id == u]\n",
        "        userRecs = recommendations.get(str(u))\n",
        "\n",
        "        hits += len(set(userData.item_id).intersection(set(userRecs)))\n",
        "        total_relevant += len(userData)\n",
        "\n",
        "    return hits / total_relevant"
      ]
    },
    {
      "cell_type": "code",
      "source": [
        "def compute_recall_at_k(test_set, recommendations, k=5):\n",
        "    hits = 0\n",
        "    total_relevant = 0\n",
        "\n",
        "    for u in test_set.user_id.unique():\n",
        "        userData = test_set[test_set.user_id == u]\n",
        "        userRecs = recommendations.get(str(u), [])\n",
        "\n",
        "        top_k_recs = userRecs[:k]\n",
        "\n",
        "        # hits = intersection between relevant items and top K recommended items\n",
        "        hits += len(set(userData.item_id).intersection(set(top_k_recs)))\n",
        "\n",
        "        #items user interacted with in the test set\n",
        "        total_relevant += len(userData)\n",
        "\n",
        "    # Return recall@k: hits divided by total relevant items\n",
        "    return hits / total_relevant if total_relevant > 0 else 0"
      ],
      "metadata": {
        "id": "2L3Ij5Ekn_o0"
      },
      "execution_count": null,
      "outputs": []
    },
    {
      "cell_type": "markdown",
      "source": [
        "###Baseline"
      ],
      "metadata": {
        "id": "mCLvLYAER_jv"
      }
    },
    {
      "cell_type": "code",
      "execution_count": null,
      "metadata": {
        "id": "LzyrE8xj1C-9"
      },
      "outputs": [],
      "source": [
        "# Most popular item recommender\n",
        "class MostPopular:\n",
        "\n",
        "    def __init__(self):\n",
        "        self.item_ratings_sorted = None\n",
        "        self.train_set = None\n",
        "\n",
        "    def learn_model(self, train_set):\n",
        "        self.train_set = train_set\n",
        "\n",
        "        self.item_ratings_sorted = (self.train_set\n",
        "                                    .groupby('item_id')\n",
        "                                    .user_id.size()\n",
        "                                    .sort_values(ascending=False)\n",
        "                                    .reset_index()\n",
        "                                    .item_id\n",
        "                                    .to_list()\n",
        "                                    )\n",
        "\n",
        "    def get_top_n_recommendations(self, test_set, top_n):\n",
        "        result = {}\n",
        "        already_ranked_items_by_user = self.train_set.groupby('user_id')['user_id'].apply(list)\n",
        "\n",
        "        #For each user in the test set compute recommendations\n",
        "        for user_id in test_set.user_id.unique():\n",
        "            ranked = set(already_ranked_items_by_user[user_id])\n",
        "            result[str(user_id)] = [item for item in self.item_ratings_sorted if item not in ranked][:top_n]\n",
        "\n",
        "        return result"
      ]
    },
    {
      "cell_type": "code",
      "execution_count": null,
      "metadata": {
        "id": "KsHisPdVaCF6"
      },
      "outputs": [],
      "source": [
        "# Class for Surprise library algos\n",
        "class SurpriseRecMethod():\n",
        "\n",
        "    #method will be the specific Surprise algorithm that we will call\n",
        "    def __init__(self, method):\n",
        "        self.method = method\n",
        "\n",
        "    def fit(self, train_set):\n",
        "        self.train_set = train_set\n",
        "\n",
        "\n",
        "    def get_top_n_recommendations(self, test_set, top_n):\n",
        "        self.test_set = test_set\n",
        "\n",
        "        #Surprise requires a slightly different input data format, so we use two different CSVs\n",
        "        test_path_tmp = \"test_file.csv\"\n",
        "        train_path_tmp = \"train_file.csv\"\n",
        "\n",
        "        self.train_set.to_csv(train_path_tmp, index=False, header=False)\n",
        "        self.test_set.to_csv(test_path_tmp, index=False, header=False)\n",
        "\n",
        "        fold_files = [(train_path_tmp, test_path_tmp)]\n",
        "        reader = Reader(rating_scale=(1, 10), line_format='user item rating', sep=',')\n",
        "        data = Dataset.load_from_folds(fold_files, reader=reader)\n",
        "\n",
        "        for trainset, testset in PredefinedKFold().split(data):\n",
        "            self.method.fit(trainset)\n",
        "\n",
        "        already_ranked_items_by_users = self.train_set.groupby('user_id')['item_id'].apply(list)\n",
        "\n",
        "        recommendations = {}\n",
        "        pbar = tqdm(total=len(self.test_set.user_id.unique()))\n",
        "        for user_id in self.test_set.user_id.unique():\n",
        "            pbar.update(1)\n",
        "\n",
        "            if user_id not in self.train_set.user_id.unique():\n",
        "                recommendations[str(user_id)] = []\n",
        "                continue\n",
        "\n",
        "            items_expected_ranking = {}\n",
        "            for item_id in self.train_set.item_id.unique():\n",
        "                if item_id in already_ranked_items_by_users[user_id]:\n",
        "                    continue\n",
        "\n",
        "                #We call here the specific Surprise method that we use for this model\n",
        "                #The method predicts a score for a given item\n",
        "                predicted = self.method.predict(str(user_id), str(item_id), clip=False)\n",
        "                items_expected_ranking[item_id] = predicted.est\n",
        "\n",
        "            #Now we just sort by decreasing scores and take the top N\n",
        "            sorted_predictions = sorted(items_expected_ranking.items(), key=operator.itemgetter(1), reverse=True)\n",
        "            user_recommendations = [x[0] for x in sorted_predictions[:top_n]]\n",
        "            recommendations[str(user_id)] = user_recommendations\n",
        "\n",
        "        pbar.close()\n",
        "        return recommendations"
      ]
    },
    {
      "cell_type": "code",
      "execution_count": null,
      "metadata": {
        "id": "-h2HJt1_1LBa"
      },
      "outputs": [],
      "source": [
        "popular = MostPopular()\n",
        "popular.learn_model(train_df)\n",
        "popular_recs = popular.get_top_n_recommendations(test_df,top_n=5)"
      ]
    },
    {
      "cell_type": "code",
      "execution_count": null,
      "metadata": {
        "colab": {
          "base_uri": "https://localhost:8080/"
        },
        "id": "Ym76fiwW1lho",
        "outputId": "50e77f6e-0109-46a4-da10-c817559362c8"
      },
      "outputs": [
        {
          "output_type": "stream",
          "name": "stdout",
          "text": [
            "Precision@5: 0.0067 Recall@5: 0.0141\n"
          ]
        }
      ],
      "source": [
        "p0 = compute_precision_at_k(test_df, popular_recs, 5)\n",
        "r0 = compute_recall_at_k(test_df, popular_recs, 5)\n",
        "print(f'Precision@5: {p0:.4f}', f'Recall@5: {r0:.4f}')"
      ]
    },
    {
      "cell_type": "markdown",
      "source": [
        "###Surpise methods"
      ],
      "metadata": {
        "id": "fQwEwB_WTs7Q"
      }
    },
    {
      "cell_type": "code",
      "execution_count": null,
      "metadata": {
        "colab": {
          "base_uri": "https://localhost:8080/"
        },
        "id": "ALaua6UabsHS",
        "outputId": "17dd68e7-051f-45eb-f1b6-8a4212945ac6"
      },
      "outputs": [
        {
          "output_type": "stream",
          "name": "stderr",
          "text": [
            "100%|██████████| 5636/5636 [04:48<00:00, 19.53it/s]\n"
          ]
        },
        {
          "output_type": "stream",
          "name": "stdout",
          "text": [
            "Precision@5: 0.0006 Recall@5: 0.0013\n"
          ]
        }
      ],
      "source": [
        "modelSlopeOne = SurpriseRecMethod(SlopeOne())\n",
        "modelSlopeOne.fit(train_df)\n",
        "recSlopeOne = modelSlopeOne.get_top_n_recommendations(test_df, 5)"
      ]
    },
    {
      "cell_type": "code",
      "source": [
        "p1 = compute_precision_at_k(test_df,recSlopeOne, 5)\n",
        "r1 = compute_recall_at_k(test_df,recSlopeOne, 5)\n",
        "print(f'Precision@5: {p1:.4f}', f'Recall@5: {r1:.4f}')"
      ],
      "metadata": {
        "colab": {
          "base_uri": "https://localhost:8080/"
        },
        "id": "Mi8s6jZTpYu-",
        "outputId": "40cdb68c-16c4-44d8-af5e-7110b0ed0a44"
      },
      "execution_count": null,
      "outputs": [
        {
          "output_type": "stream",
          "name": "stdout",
          "text": [
            "Precision@5: 0.0006 Recall@5: 0.0013\n"
          ]
        }
      ]
    },
    {
      "cell_type": "code",
      "execution_count": null,
      "metadata": {
        "colab": {
          "base_uri": "https://localhost:8080/"
        },
        "id": "w94uFSlha6lu",
        "outputId": "ae886d79-4e08-471c-db44-e5597d5714e2"
      },
      "outputs": [
        {
          "output_type": "stream",
          "name": "stdout",
          "text": [
            "Computing the cosine similarity matrix...\n",
            "Done computing similarity matrix.\n"
          ]
        },
        {
          "output_type": "stream",
          "name": "stderr",
          "text": [
            "100%|██████████| 5636/5636 [10:18<00:00,  9.11it/s]\n"
          ]
        }
      ],
      "source": [
        "modelKNNUser = SurpriseRecMethod(KNNWithMeans(sim_options={'name': 'cosine', 'user_based': True}))\n",
        "modelKNNUser.fit(train_df)\n",
        "recKNNUser = modelKNNUser.get_top_n_recommendations(test_df, 5)"
      ]
    },
    {
      "cell_type": "code",
      "execution_count": null,
      "metadata": {
        "colab": {
          "base_uri": "https://localhost:8080/"
        },
        "id": "yuNPLzj5bjeA",
        "outputId": "4e2c745d-8f76-4cd0-db30-566f7ff5558e"
      },
      "outputs": [
        {
          "output_type": "stream",
          "name": "stdout",
          "text": [
            "Precision@5: 0.0006 Recall@5: 0.0012\n"
          ]
        }
      ],
      "source": [
        "p2 = compute_precision_at_k(test_df,recKNNUser, 5)\n",
        "r2 = compute_recall_at_k(test_df,recKNNUser, 5)\n",
        "print(f'Precision@5: {p2:.4f}', f'Recall@5: {r2:.4f}')"
      ]
    },
    {
      "cell_type": "code",
      "execution_count": null,
      "metadata": {
        "colab": {
          "base_uri": "https://localhost:8080/"
        },
        "id": "ZCXHL-YeK5J2",
        "outputId": "cb5d571b-88d3-486d-8620-7e189a32bac5"
      },
      "outputs": [
        {
          "output_type": "stream",
          "name": "stdout",
          "text": [
            "Computing the cosine similarity matrix...\n",
            "Done computing similarity matrix.\n"
          ]
        },
        {
          "output_type": "stream",
          "name": "stderr",
          "text": [
            "100%|██████████| 5636/5636 [06:27<00:00, 14.56it/s]\n"
          ]
        }
      ],
      "source": [
        "modelKNNItem = SurpriseRecMethod(KNNWithMeans(sim_options={'name': 'cosine', 'user_based': False}))\n",
        "modelKNNItem.fit(train_df)\n",
        "recKNNItem = modelKNNItem.get_top_n_recommendations(test_df, 5)"
      ]
    },
    {
      "cell_type": "code",
      "execution_count": null,
      "metadata": {
        "colab": {
          "base_uri": "https://localhost:8080/"
        },
        "id": "Tm-mXtnSL71g",
        "outputId": "a111900a-48d2-4261-add4-23bc1f34d61f"
      },
      "outputs": [
        {
          "output_type": "stream",
          "name": "stdout",
          "text": [
            "Precision@5: 0.0009 Recall@5: 0.0019\n"
          ]
        }
      ],
      "source": [
        "p3 = compute_precision_at_k(test_df,recKNNItem, 5)\n",
        "r3 = compute_recall_at_k(test_df,recKNNItem, 5)\n",
        "print(f'Precision@5: {p3:.4f}', f'Recall@5: {r3:.4f}')"
      ]
    },
    {
      "cell_type": "code",
      "execution_count": null,
      "metadata": {
        "colab": {
          "base_uri": "https://localhost:8080/"
        },
        "id": "mjq6JrOKb_84",
        "outputId": "be92b097-a31f-45b8-a46a-c96ebbfb844b"
      },
      "outputs": [
        {
          "output_type": "stream",
          "name": "stderr",
          "text": [
            "100%|██████████| 5636/5636 [03:51<00:00, 24.31it/s]\n"
          ]
        }
      ],
      "source": [
        "modelNMF = SurpriseRecMethod(NMF(n_factors=15, n_epochs=50, random_state=random_seed, biased=False))\n",
        "modelNMF.fit(train_df)\n",
        "recNMF = modelNMF.get_top_n_recommendations(test_df, 5)"
      ]
    },
    {
      "cell_type": "code",
      "execution_count": null,
      "metadata": {
        "colab": {
          "base_uri": "https://localhost:8080/"
        },
        "id": "onuMrFRWMXJz",
        "outputId": "6a9823d7-8883-4fb4-c107-55f5892fb300"
      },
      "outputs": [
        {
          "output_type": "stream",
          "name": "stdout",
          "text": [
            "Precision@5: 0.0007 Recall@5: 0.0016\n"
          ]
        }
      ],
      "source": [
        "p4 = compute_precision_at_k(test_df,recNMF, 5)\n",
        "r4 = compute_recall_at_k(test_df,recNMF, 5)\n",
        "print(f'Precision@5: {p4:.4f}', f'Recall@5: {r4:.4f}')"
      ]
    },
    {
      "cell_type": "code",
      "execution_count": null,
      "metadata": {
        "colab": {
          "base_uri": "https://localhost:8080/"
        },
        "id": "ZeOX8UJxI2yP",
        "outputId": "bf611f7f-9717-4312-d5b2-7207924ed413"
      },
      "outputs": [
        {
          "output_type": "stream",
          "name": "stderr",
          "text": [
            "100%|██████████| 5636/5636 [04:06<00:00, 22.82it/s]\n"
          ]
        }
      ],
      "source": [
        "modelNMF2 = SurpriseRecMethod(NMF(n_factors=100, n_epochs=50, reg_pu=0.2, reg_qi=0.2, random_state=random_seed, biased=True))\n",
        "modelNMF2.fit(train_df)\n",
        "recNMF2 = modelNMF2.get_top_n_recommendations(test_df, 5)"
      ]
    },
    {
      "cell_type": "code",
      "execution_count": null,
      "metadata": {
        "colab": {
          "base_uri": "https://localhost:8080/"
        },
        "id": "o-D3-wuBcHzk",
        "outputId": "24697074-fc88-4257-d04d-b1da8ef029ee"
      },
      "outputs": [
        {
          "output_type": "stream",
          "name": "stdout",
          "text": [
            "Precision@5: 0.0005 Recall@5: 0.0011\n"
          ]
        }
      ],
      "source": [
        "p5 = compute_precision_at_k(test_df,recNMF2, 5)\n",
        "r5 = compute_recall_at_k(test_df,recNMF2, 5)\n",
        "print(f'Precision@5: {p5:.4f}', f'Recall@5: {r5:.4f}')"
      ]
    },
    {
      "cell_type": "code",
      "execution_count": null,
      "metadata": {
        "colab": {
          "base_uri": "https://localhost:8080/",
          "height": 237
        },
        "id": "fOBMu7ScitRq",
        "outputId": "ddd01e4d-1242-4854-ab06-b5b8e5ab8277"
      },
      "outputs": [
        {
          "output_type": "execute_result",
          "data": {
            "text/plain": [
              "                  Precision@5  Recall@5\n",
              "Baseline_Popular     0.006671  0.014052\n",
              "SlopeOne             0.000639  0.001345\n",
              "User KNN             0.000568  0.001196\n",
              "Item KNN             0.000923  0.001943\n",
              "NMF1                 0.000745  0.001570\n",
              "NMF2                 0.000532  0.001121"
            ],
            "text/html": [
              "\n",
              "  <div id=\"df-0d7af723-3851-4f41-9ba1-7df3319c858b\" class=\"colab-df-container\">\n",
              "    <div>\n",
              "<style scoped>\n",
              "    .dataframe tbody tr th:only-of-type {\n",
              "        vertical-align: middle;\n",
              "    }\n",
              "\n",
              "    .dataframe tbody tr th {\n",
              "        vertical-align: top;\n",
              "    }\n",
              "\n",
              "    .dataframe thead th {\n",
              "        text-align: right;\n",
              "    }\n",
              "</style>\n",
              "<table border=\"1\" class=\"dataframe\">\n",
              "  <thead>\n",
              "    <tr style=\"text-align: right;\">\n",
              "      <th></th>\n",
              "      <th>Precision@5</th>\n",
              "      <th>Recall@5</th>\n",
              "    </tr>\n",
              "  </thead>\n",
              "  <tbody>\n",
              "    <tr>\n",
              "      <th>Baseline_Popular</th>\n",
              "      <td>0.006671</td>\n",
              "      <td>0.014052</td>\n",
              "    </tr>\n",
              "    <tr>\n",
              "      <th>SlopeOne</th>\n",
              "      <td>0.000639</td>\n",
              "      <td>0.001345</td>\n",
              "    </tr>\n",
              "    <tr>\n",
              "      <th>User KNN</th>\n",
              "      <td>0.000568</td>\n",
              "      <td>0.001196</td>\n",
              "    </tr>\n",
              "    <tr>\n",
              "      <th>Item KNN</th>\n",
              "      <td>0.000923</td>\n",
              "      <td>0.001943</td>\n",
              "    </tr>\n",
              "    <tr>\n",
              "      <th>NMF1</th>\n",
              "      <td>0.000745</td>\n",
              "      <td>0.001570</td>\n",
              "    </tr>\n",
              "    <tr>\n",
              "      <th>NMF2</th>\n",
              "      <td>0.000532</td>\n",
              "      <td>0.001121</td>\n",
              "    </tr>\n",
              "  </tbody>\n",
              "</table>\n",
              "</div>\n",
              "    <div class=\"colab-df-buttons\">\n",
              "\n",
              "  <div class=\"colab-df-container\">\n",
              "    <button class=\"colab-df-convert\" onclick=\"convertToInteractive('df-0d7af723-3851-4f41-9ba1-7df3319c858b')\"\n",
              "            title=\"Convert this dataframe to an interactive table.\"\n",
              "            style=\"display:none;\">\n",
              "\n",
              "  <svg xmlns=\"http://www.w3.org/2000/svg\" height=\"24px\" viewBox=\"0 -960 960 960\">\n",
              "    <path d=\"M120-120v-720h720v720H120Zm60-500h600v-160H180v160Zm220 220h160v-160H400v160Zm0 220h160v-160H400v160ZM180-400h160v-160H180v160Zm440 0h160v-160H620v160ZM180-180h160v-160H180v160Zm440 0h160v-160H620v160Z\"/>\n",
              "  </svg>\n",
              "    </button>\n",
              "\n",
              "  <style>\n",
              "    .colab-df-container {\n",
              "      display:flex;\n",
              "      gap: 12px;\n",
              "    }\n",
              "\n",
              "    .colab-df-convert {\n",
              "      background-color: #E8F0FE;\n",
              "      border: none;\n",
              "      border-radius: 50%;\n",
              "      cursor: pointer;\n",
              "      display: none;\n",
              "      fill: #1967D2;\n",
              "      height: 32px;\n",
              "      padding: 0 0 0 0;\n",
              "      width: 32px;\n",
              "    }\n",
              "\n",
              "    .colab-df-convert:hover {\n",
              "      background-color: #E2EBFA;\n",
              "      box-shadow: 0px 1px 2px rgba(60, 64, 67, 0.3), 0px 1px 3px 1px rgba(60, 64, 67, 0.15);\n",
              "      fill: #174EA6;\n",
              "    }\n",
              "\n",
              "    .colab-df-buttons div {\n",
              "      margin-bottom: 4px;\n",
              "    }\n",
              "\n",
              "    [theme=dark] .colab-df-convert {\n",
              "      background-color: #3B4455;\n",
              "      fill: #D2E3FC;\n",
              "    }\n",
              "\n",
              "    [theme=dark] .colab-df-convert:hover {\n",
              "      background-color: #434B5C;\n",
              "      box-shadow: 0px 1px 3px 1px rgba(0, 0, 0, 0.15);\n",
              "      filter: drop-shadow(0px 1px 2px rgba(0, 0, 0, 0.3));\n",
              "      fill: #FFFFFF;\n",
              "    }\n",
              "  </style>\n",
              "\n",
              "    <script>\n",
              "      const buttonEl =\n",
              "        document.querySelector('#df-0d7af723-3851-4f41-9ba1-7df3319c858b button.colab-df-convert');\n",
              "      buttonEl.style.display =\n",
              "        google.colab.kernel.accessAllowed ? 'block' : 'none';\n",
              "\n",
              "      async function convertToInteractive(key) {\n",
              "        const element = document.querySelector('#df-0d7af723-3851-4f41-9ba1-7df3319c858b');\n",
              "        const dataTable =\n",
              "          await google.colab.kernel.invokeFunction('convertToInteractive',\n",
              "                                                    [key], {});\n",
              "        if (!dataTable) return;\n",
              "\n",
              "        const docLinkHtml = 'Like what you see? Visit the ' +\n",
              "          '<a target=\"_blank\" href=https://colab.research.google.com/notebooks/data_table.ipynb>data table notebook</a>'\n",
              "          + ' to learn more about interactive tables.';\n",
              "        element.innerHTML = '';\n",
              "        dataTable['output_type'] = 'display_data';\n",
              "        await google.colab.output.renderOutput(dataTable, element);\n",
              "        const docLink = document.createElement('div');\n",
              "        docLink.innerHTML = docLinkHtml;\n",
              "        element.appendChild(docLink);\n",
              "      }\n",
              "    </script>\n",
              "  </div>\n",
              "\n",
              "\n",
              "<div id=\"df-af8ce6b6-eb7f-4f12-b9d1-5b3140f45baf\">\n",
              "  <button class=\"colab-df-quickchart\" onclick=\"quickchart('df-af8ce6b6-eb7f-4f12-b9d1-5b3140f45baf')\"\n",
              "            title=\"Suggest charts\"\n",
              "            style=\"display:none;\">\n",
              "\n",
              "<svg xmlns=\"http://www.w3.org/2000/svg\" height=\"24px\"viewBox=\"0 0 24 24\"\n",
              "     width=\"24px\">\n",
              "    <g>\n",
              "        <path d=\"M19 3H5c-1.1 0-2 .9-2 2v14c0 1.1.9 2 2 2h14c1.1 0 2-.9 2-2V5c0-1.1-.9-2-2-2zM9 17H7v-7h2v7zm4 0h-2V7h2v10zm4 0h-2v-4h2v4z\"/>\n",
              "    </g>\n",
              "</svg>\n",
              "  </button>\n",
              "\n",
              "<style>\n",
              "  .colab-df-quickchart {\n",
              "      --bg-color: #E8F0FE;\n",
              "      --fill-color: #1967D2;\n",
              "      --hover-bg-color: #E2EBFA;\n",
              "      --hover-fill-color: #174EA6;\n",
              "      --disabled-fill-color: #AAA;\n",
              "      --disabled-bg-color: #DDD;\n",
              "  }\n",
              "\n",
              "  [theme=dark] .colab-df-quickchart {\n",
              "      --bg-color: #3B4455;\n",
              "      --fill-color: #D2E3FC;\n",
              "      --hover-bg-color: #434B5C;\n",
              "      --hover-fill-color: #FFFFFF;\n",
              "      --disabled-bg-color: #3B4455;\n",
              "      --disabled-fill-color: #666;\n",
              "  }\n",
              "\n",
              "  .colab-df-quickchart {\n",
              "    background-color: var(--bg-color);\n",
              "    border: none;\n",
              "    border-radius: 50%;\n",
              "    cursor: pointer;\n",
              "    display: none;\n",
              "    fill: var(--fill-color);\n",
              "    height: 32px;\n",
              "    padding: 0;\n",
              "    width: 32px;\n",
              "  }\n",
              "\n",
              "  .colab-df-quickchart:hover {\n",
              "    background-color: var(--hover-bg-color);\n",
              "    box-shadow: 0 1px 2px rgba(60, 64, 67, 0.3), 0 1px 3px 1px rgba(60, 64, 67, 0.15);\n",
              "    fill: var(--button-hover-fill-color);\n",
              "  }\n",
              "\n",
              "  .colab-df-quickchart-complete:disabled,\n",
              "  .colab-df-quickchart-complete:disabled:hover {\n",
              "    background-color: var(--disabled-bg-color);\n",
              "    fill: var(--disabled-fill-color);\n",
              "    box-shadow: none;\n",
              "  }\n",
              "\n",
              "  .colab-df-spinner {\n",
              "    border: 2px solid var(--fill-color);\n",
              "    border-color: transparent;\n",
              "    border-bottom-color: var(--fill-color);\n",
              "    animation:\n",
              "      spin 1s steps(1) infinite;\n",
              "  }\n",
              "\n",
              "  @keyframes spin {\n",
              "    0% {\n",
              "      border-color: transparent;\n",
              "      border-bottom-color: var(--fill-color);\n",
              "      border-left-color: var(--fill-color);\n",
              "    }\n",
              "    20% {\n",
              "      border-color: transparent;\n",
              "      border-left-color: var(--fill-color);\n",
              "      border-top-color: var(--fill-color);\n",
              "    }\n",
              "    30% {\n",
              "      border-color: transparent;\n",
              "      border-left-color: var(--fill-color);\n",
              "      border-top-color: var(--fill-color);\n",
              "      border-right-color: var(--fill-color);\n",
              "    }\n",
              "    40% {\n",
              "      border-color: transparent;\n",
              "      border-right-color: var(--fill-color);\n",
              "      border-top-color: var(--fill-color);\n",
              "    }\n",
              "    60% {\n",
              "      border-color: transparent;\n",
              "      border-right-color: var(--fill-color);\n",
              "    }\n",
              "    80% {\n",
              "      border-color: transparent;\n",
              "      border-right-color: var(--fill-color);\n",
              "      border-bottom-color: var(--fill-color);\n",
              "    }\n",
              "    90% {\n",
              "      border-color: transparent;\n",
              "      border-bottom-color: var(--fill-color);\n",
              "    }\n",
              "  }\n",
              "</style>\n",
              "\n",
              "  <script>\n",
              "    async function quickchart(key) {\n",
              "      const quickchartButtonEl =\n",
              "        document.querySelector('#' + key + ' button');\n",
              "      quickchartButtonEl.disabled = true;  // To prevent multiple clicks.\n",
              "      quickchartButtonEl.classList.add('colab-df-spinner');\n",
              "      try {\n",
              "        const charts = await google.colab.kernel.invokeFunction(\n",
              "            'suggestCharts', [key], {});\n",
              "      } catch (error) {\n",
              "        console.error('Error during call to suggestCharts:', error);\n",
              "      }\n",
              "      quickchartButtonEl.classList.remove('colab-df-spinner');\n",
              "      quickchartButtonEl.classList.add('colab-df-quickchart-complete');\n",
              "    }\n",
              "    (() => {\n",
              "      let quickchartButtonEl =\n",
              "        document.querySelector('#df-af8ce6b6-eb7f-4f12-b9d1-5b3140f45baf button');\n",
              "      quickchartButtonEl.style.display =\n",
              "        google.colab.kernel.accessAllowed ? 'block' : 'none';\n",
              "    })();\n",
              "  </script>\n",
              "</div>\n",
              "\n",
              "  <div id=\"id_a0be8f32-d090-4759-af84-cd40f356b63c\">\n",
              "    <style>\n",
              "      .colab-df-generate {\n",
              "        background-color: #E8F0FE;\n",
              "        border: none;\n",
              "        border-radius: 50%;\n",
              "        cursor: pointer;\n",
              "        display: none;\n",
              "        fill: #1967D2;\n",
              "        height: 32px;\n",
              "        padding: 0 0 0 0;\n",
              "        width: 32px;\n",
              "      }\n",
              "\n",
              "      .colab-df-generate:hover {\n",
              "        background-color: #E2EBFA;\n",
              "        box-shadow: 0px 1px 2px rgba(60, 64, 67, 0.3), 0px 1px 3px 1px rgba(60, 64, 67, 0.15);\n",
              "        fill: #174EA6;\n",
              "      }\n",
              "\n",
              "      [theme=dark] .colab-df-generate {\n",
              "        background-color: #3B4455;\n",
              "        fill: #D2E3FC;\n",
              "      }\n",
              "\n",
              "      [theme=dark] .colab-df-generate:hover {\n",
              "        background-color: #434B5C;\n",
              "        box-shadow: 0px 1px 3px 1px rgba(0, 0, 0, 0.15);\n",
              "        filter: drop-shadow(0px 1px 2px rgba(0, 0, 0, 0.3));\n",
              "        fill: #FFFFFF;\n",
              "      }\n",
              "    </style>\n",
              "    <button class=\"colab-df-generate\" onclick=\"generateWithVariable('results_df')\"\n",
              "            title=\"Generate code using this dataframe.\"\n",
              "            style=\"display:none;\">\n",
              "\n",
              "  <svg xmlns=\"http://www.w3.org/2000/svg\" height=\"24px\"viewBox=\"0 0 24 24\"\n",
              "       width=\"24px\">\n",
              "    <path d=\"M7,19H8.4L18.45,9,17,7.55,7,17.6ZM5,21V16.75L18.45,3.32a2,2,0,0,1,2.83,0l1.4,1.43a1.91,1.91,0,0,1,.58,1.4,1.91,1.91,0,0,1-.58,1.4L9.25,21ZM18.45,9,17,7.55Zm-12,3A5.31,5.31,0,0,0,4.9,8.1,5.31,5.31,0,0,0,1,6.5,5.31,5.31,0,0,0,4.9,4.9,5.31,5.31,0,0,0,6.5,1,5.31,5.31,0,0,0,8.1,4.9,5.31,5.31,0,0,0,12,6.5,5.46,5.46,0,0,0,6.5,12Z\"/>\n",
              "  </svg>\n",
              "    </button>\n",
              "    <script>\n",
              "      (() => {\n",
              "      const buttonEl =\n",
              "        document.querySelector('#id_a0be8f32-d090-4759-af84-cd40f356b63c button.colab-df-generate');\n",
              "      buttonEl.style.display =\n",
              "        google.colab.kernel.accessAllowed ? 'block' : 'none';\n",
              "\n",
              "      buttonEl.onclick = () => {\n",
              "        google.colab.notebook.generateWithVariable('results_df');\n",
              "      }\n",
              "      })();\n",
              "    </script>\n",
              "  </div>\n",
              "\n",
              "    </div>\n",
              "  </div>\n"
            ],
            "application/vnd.google.colaboratory.intrinsic+json": {
              "type": "dataframe",
              "variable_name": "results_df",
              "summary": "{\n  \"name\": \"results_df\",\n  \"rows\": 6,\n  \"fields\": [\n    {\n      \"column\": \"Precision@5\",\n      \"properties\": {\n        \"dtype\": \"number\",\n        \"std\": 0.00244948775495287,\n        \"min\": 0.0005322924059616749,\n        \"max\": 0.006671398154719659,\n        \"num_unique_values\": 6,\n        \"samples\": [\n          0.006671398154719659,\n          0.00063875088715401,\n          0.0005322924059616749\n        ],\n        \"semantic_type\": \"\",\n        \"description\": \"\"\n      }\n    },\n    {\n      \"column\": \"Recall@5\",\n      \"properties\": {\n        \"dtype\": \"number\",\n        \"std\": 0.005159321693293361,\n        \"min\": 0.0011211600269078407,\n        \"max\": 0.014051872337244937,\n        \"num_unique_values\": 6,\n        \"samples\": [\n          0.014051872337244937,\n          0.0013453920322894087,\n          0.0011211600269078407\n        ],\n        \"semantic_type\": \"\",\n        \"description\": \"\"\n      }\n    }\n  ]\n}"
            }
          },
          "metadata": {},
          "execution_count": 142
        }
      ],
      "source": [
        "results_df = pd.DataFrame.from_dict(\n",
        "    {'Baseline_Popular': [p0, r0],\n",
        "     'SlopeOne': [p1, r1],\n",
        "     'User KNN': [p2, r2],\n",
        "     'Item KNN': [p3, r3],\n",
        "     'NMF1': [p4, r4],\n",
        "     'NMF2': [p5, r5]},\n",
        "    orient='index',\n",
        "    columns=['Precision@5', 'Recall@5']\n",
        ")\n",
        "results_df"
      ]
    },
    {
      "cell_type": "markdown",
      "source": [
        "Very low scores. Seems like we don't have enough data to extract meaningful connections, another factor is the sparcity."
      ],
      "metadata": {
        "id": "x19sdFeo4Xjn"
      }
    },
    {
      "cell_type": "markdown",
      "source": [
        "##LightFM"
      ],
      "metadata": {
        "id": "U-MMp4yZSZUW"
      }
    },
    {
      "cell_type": "code",
      "source": [
        "from lightfm import LightFM\n",
        "from lightfm.data import Dataset\n",
        "from scipy.sparse import coo_matrix, lil_matrix, csr_matrix\n",
        "from lightfm.data import Dataset\n",
        "from sklearn.model_selection import StratifiedShuffleSplit\n",
        "from lightfm.evaluation import precision_at_k, auc_score"
      ],
      "metadata": {
        "id": "IXk3xmTNSbU-"
      },
      "execution_count": 14,
      "outputs": []
    },
    {
      "cell_type": "code",
      "source": [
        "min_user_ratings = 10\n",
        "min_item_ratings = 10\n",
        "filtered_data = df.groupby('user_id').filter(lambda x: len(x) >= min_user_ratings)\n",
        "filtered_data = filtered_data.groupby('item_id').filter(lambda x: len(x) >= min_item_ratings)"
      ],
      "metadata": {
        "id": "2wwK51bNXKfW"
      },
      "execution_count": 54,
      "outputs": []
    },
    {
      "cell_type": "code",
      "source": [
        "sss = StratifiedShuffleSplit(n_splits=1, test_size=0.2, random_state=random_seed)\n",
        "\n",
        "# For stratified split we need Users with at least 2 ratings\n",
        "eligible_users = filtered_data['user_id'].value_counts()[filtered_data['user_id'].value_counts() > 1].index\n",
        "\n",
        "eligible_data = filtered_data[filtered_data['user_id'].isin(eligible_users)]\n",
        "\n",
        "stratify_by = eligible_data['user_id']\n",
        "\n",
        "for train_index, test_index in sss.split(eligible_data, stratify_by):\n",
        "    train_df = eligible_data.iloc[train_index]\n",
        "    test_df = eligible_data.iloc[test_index]"
      ],
      "metadata": {
        "id": "NX5f1NnCSbfZ"
      },
      "execution_count": 55,
      "outputs": []
    },
    {
      "cell_type": "code",
      "source": [
        "# Ensure all users in test are also in train\n",
        "train_df = train_df[train_df['user_id'].isin(test_df['user_id'])]\n",
        "\n",
        "# Ensure all items in test are also in train\n",
        "train_df = train_df[train_df['item_id'].isin(test_df['item_id'])]"
      ],
      "metadata": {
        "id": "SleAU8RK5h6W"
      },
      "execution_count": 56,
      "outputs": []
    },
    {
      "cell_type": "code",
      "source": [
        "print(test_df.user_id.nunique(), test_df.item_id.nunique())"
      ],
      "metadata": {
        "colab": {
          "base_uri": "https://localhost:8080/"
        },
        "id": "E-tpFbp5TF9W",
        "outputId": "45f35a9d-3ff0-4619-893b-0a401815803c"
      },
      "execution_count": 57,
      "outputs": [
        {
          "output_type": "stream",
          "name": "stdout",
          "text": [
            "5636 3098\n"
          ]
        }
      ]
    },
    {
      "cell_type": "code",
      "source": [
        "print(train_df.user_id.nunique(), train_df.item_id.nunique())"
      ],
      "metadata": {
        "colab": {
          "base_uri": "https://localhost:8080/"
        },
        "id": "bGwFkRp0lrQW",
        "outputId": "7affb04b-9deb-4068-c3df-ff15b22d6c8c"
      },
      "execution_count": 58,
      "outputs": [
        {
          "output_type": "stream",
          "name": "stdout",
          "text": [
            "5636 3098\n"
          ]
        }
      ]
    },
    {
      "cell_type": "code",
      "source": [
        "train_df.shape"
      ],
      "metadata": {
        "colab": {
          "base_uri": "https://localhost:8080/"
        },
        "id": "GE2JbOvhlv6m",
        "outputId": "b5c9933d-137f-4051-905d-0fbc98678e2f"
      },
      "execution_count": 59,
      "outputs": [
        {
          "output_type": "execute_result",
          "data": {
            "text/plain": [
              "(50316, 16)"
            ]
          },
          "metadata": {},
          "execution_count": 59
        }
      ]
    },
    {
      "cell_type": "code",
      "source": [
        "test_df.shape"
      ],
      "metadata": {
        "colab": {
          "base_uri": "https://localhost:8080/"
        },
        "id": "8RKKfQdc7blA",
        "outputId": "00ed7102-d2df-44d4-eaa9-aaa450c2822f"
      },
      "execution_count": 60,
      "outputs": [
        {
          "output_type": "execute_result",
          "data": {
            "text/plain": [
              "(13379, 16)"
            ]
          },
          "metadata": {},
          "execution_count": 60
        }
      ]
    },
    {
      "cell_type": "code",
      "source": [
        "eligible_data.shape"
      ],
      "metadata": {
        "colab": {
          "base_uri": "https://localhost:8080/"
        },
        "id": "gpVpDyC17ZEr",
        "outputId": "b0536b44-197f-4004-a3cd-ca90067445b5"
      },
      "execution_count": 61,
      "outputs": [
        {
          "output_type": "execute_result",
          "data": {
            "text/plain": [
              "(66895, 16)"
            ]
          },
          "metadata": {},
          "execution_count": 61
        }
      ]
    },
    {
      "cell_type": "markdown",
      "source": [
        "###ONLY INTERACTIONS"
      ],
      "metadata": {
        "id": "R5fZDqZXGmAR"
      }
    },
    {
      "cell_type": "code",
      "source": [
        "dataset = Dataset()\n",
        "dataset.fit(users=eligible_data['user_id'].unique(), items=eligible_data['item_id'].unique())\n",
        "\n",
        "# Building the interaction matrices for training\n",
        "train_interactions, train_weights = dataset.build_interactions(\n",
        "    zip(train_df['user_id'].values, train_df['item_id'].values, train_df['rating'].values)\n",
        ")\n",
        "\n",
        "# Building the interaction matrix for testing\n",
        "test_interactions, test_weights = dataset.build_interactions(\n",
        "    zip(test_df['user_id'].values, test_df['item_id'].values, test_df['rating'].values)\n",
        ")"
      ],
      "metadata": {
        "id": "4B_tJ6ard8up"
      },
      "execution_count": 62,
      "outputs": []
    },
    {
      "cell_type": "code",
      "source": [
        "model_clear = LightFM(no_components=128,  # the dimensionality of the feature latent embeddings\n",
        "                \t\t\tlearning_schedule='adagrad', # type of optimiser to use\n",
        "                \t\t\tloss='warp', # loss type\n",
        "                \t\t\tlearning_rate=0.02, # set the initial learning rate\n",
        "                \t\t\titem_alpha=0.0, # L2 penalty on item features\n",
        "                \t\t\tuser_alpha=0.0, # L2 penalty on users features\n",
        "                \t\t\tmax_sampled=10, # maximum number of negative samples used during WARP fitting\n",
        "                \t\t\trandom_state=random_seed)\n",
        "\n",
        "model_clear.fit(train_interactions, # our training data\n",
        "               epochs = 50,\n",
        "               num_threads = 4,\n",
        "               verbose=True)"
      ],
      "metadata": {
        "colab": {
          "base_uri": "https://localhost:8080/"
        },
        "id": "fadS2TeigtnL",
        "outputId": "45ed6d18-f7b4-41a2-f5c3-db527ebc9e35"
      },
      "execution_count": 63,
      "outputs": [
        {
          "output_type": "stream",
          "name": "stderr",
          "text": [
            "Epoch: 100%|██████████| 50/50 [00:17<00:00,  2.80it/s]\n"
          ]
        },
        {
          "output_type": "execute_result",
          "data": {
            "text/plain": [
              "<lightfm.lightfm.LightFM at 0x7e019bc73970>"
            ]
          },
          "metadata": {},
          "execution_count": 63
        }
      ]
    },
    {
      "cell_type": "code",
      "source": [
        "user_id_map, user_feature_map, item_id_map, item_feature_map = dataset.mapping()"
      ],
      "metadata": {
        "id": "8qC7CRdajEwD"
      },
      "execution_count": 64,
      "outputs": []
    },
    {
      "cell_type": "code",
      "source": [
        "# Evaluate the model on the test set\n",
        "test_precision = precision_at_k(model_clear, test_interactions, k=5).mean()\n",
        "test_auc = auc_score(model_clear, test_interactions).mean()\n",
        "\n",
        "print(f\"Precision@5: {test_precision:.4f}\")\n",
        "print(f\"AUC: {test_auc:.4f}\")\n",
        "\n",
        "# Precision@5: 0.0284\n",
        "# AUC: 0.7246"
      ],
      "metadata": {
        "colab": {
          "base_uri": "https://localhost:8080/"
        },
        "id": "czevLA3JeXCf",
        "outputId": "5097d202-7528-4f6b-bdf7-1611c157a8d9"
      },
      "execution_count": 65,
      "outputs": [
        {
          "output_type": "stream",
          "name": "stdout",
          "text": [
            "Precision@5: 0.0285\n",
            "AUC: 0.7276\n"
          ]
        }
      ]
    },
    {
      "cell_type": "markdown",
      "source": [
        "Results are better!"
      ],
      "metadata": {
        "id": "k1TDdebs6BVo"
      }
    },
    {
      "cell_type": "markdown",
      "source": [
        "###ITEM FEATURES INCLUDED"
      ],
      "metadata": {
        "id": "UvRzRIGs6hzS"
      }
    },
    {
      "cell_type": "markdown",
      "source": [
        "####Categorical Features: Brand & Category"
      ],
      "metadata": {
        "id": "bk3H1JPbV17v"
      }
    },
    {
      "cell_type": "code",
      "source": [
        "# dataset = Dataset()\n",
        "# # We need to fit all features: price, embedding features, and categorical features\n",
        "# item_features_list = ['price'] + \\\n",
        "#                      [f'desc_emb_{i}' for i in range(512)] + \\\n",
        "#                      [f'brand_encoded_{val}' for val in eligible_data['brand_encoded'].unique()] + \\\n",
        "#                      [f'category_encoded_{val}' for val in eligible_data['category_encoded'].unique()]"
      ],
      "metadata": {
        "id": "uTP44ALkok30"
      },
      "execution_count": null,
      "outputs": []
    },
    {
      "cell_type": "code",
      "source": [
        "# Only categorical features experiment\n",
        "dataset = Dataset()\n",
        "item_features_list = [f'brand_encoded_filtered_{val}' for val in eligible_data['brand_encoded_filtered'].unique()] + \\\n",
        "                     [f'category_encoded_{val}' for val in eligible_data['category_encoded'].unique()]"
      ],
      "metadata": {
        "id": "-LneTaWH2yo1"
      },
      "execution_count": null,
      "outputs": []
    },
    {
      "cell_type": "code",
      "source": [
        "dataset.fit(\n",
        "    users=eligible_data['user_id'].unique(),\n",
        "    items=eligible_data['item_id'].unique(),\n",
        "    user_features=None,\n",
        "    item_features=item_features_list\n",
        ")"
      ],
      "metadata": {
        "id": "P7OcFdKUTerw"
      },
      "execution_count": null,
      "outputs": []
    },
    {
      "cell_type": "code",
      "source": [
        "# Getting mappings\n",
        "#FROM DOCUMENTATION\n",
        "user_id_map, user_feature_map, item_id_map, item_feature_map = dataset.mapping()"
      ],
      "metadata": {
        "id": "FsIaSpTUMviA"
      },
      "execution_count": null,
      "outputs": []
    },
    {
      "cell_type": "code",
      "source": [
        "item_brand_dict = eligible_data.set_index('item_id')['brand_encoded_filtered'].to_dict()\n",
        "item_category_dict = eligible_data.set_index('item_id')['category_encoded'].to_dict()"
      ],
      "metadata": {
        "id": "x7ccglfM6cIY"
      },
      "execution_count": null,
      "outputs": []
    },
    {
      "cell_type": "code",
      "source": [
        "# Construct the data for build_item_features\n",
        "item_features_data = []\n",
        "\n",
        "for idx, item_id in tqdm(enumerate(eligible_data['item_id']), total=len(eligible_data['item_id'])):\n",
        "    feature_dict = {}\n",
        "\n",
        "    # Price feature\n",
        "    # if 'price' in item_feature_map:\n",
        "    #     feature_dict['price'] = item_price_dict[item_id]\n",
        "\n",
        "    #Categorical features\n",
        "    for feature, item_dict in [('brand_encoded_filtered', item_brand_dict), ('category_encoded', item_category_dict)]:\n",
        "        value = item_dict[item_id]\n",
        "        feature_name = f'{feature}_{value}'\n",
        "        if feature_name in item_feature_map:\n",
        "            feature_dict[feature_name] = 1  # Using binary encoding for categorical features\n",
        "\n",
        "    item_features_data.append((item_id, feature_dict))\n",
        "\n",
        "# Use dataset.build_item_features to construct the feature matrix\n",
        "item_features = dataset.build_item_features(item_features_data, normalize=True)"
      ],
      "metadata": {
        "colab": {
          "base_uri": "https://localhost:8080/"
        },
        "outputId": "4e2ba8c1-c0a1-4aae-94dd-eb1356dd462a",
        "id": "5T2iu9b16tfy"
      },
      "execution_count": null,
      "outputs": [
        {
          "output_type": "stream",
          "name": "stderr",
          "text": [
            "100%|██████████| 66895/66895 [00:00<00:00, 309523.35it/s]\n"
          ]
        }
      ]
    },
    {
      "cell_type": "code",
      "source": [
        "item_features.shape"
      ],
      "metadata": {
        "colab": {
          "base_uri": "https://localhost:8080/"
        },
        "id": "5a6gHo9F8EB0",
        "outputId": "48c4dcd4-b2f6-497a-a879-1990a37cd2d4"
      },
      "execution_count": null,
      "outputs": [
        {
          "output_type": "execute_result",
          "data": {
            "text/plain": [
              "(3246, 3381)"
            ]
          },
          "metadata": {},
          "execution_count": 172
        }
      ]
    },
    {
      "cell_type": "code",
      "source": [
        "# Building the interaction matrices for training\n",
        "train_interactions, train_weights = dataset.build_interactions(\n",
        "    zip(train_df['user_id'].values, train_df['item_id'].values, train_df['rating'].values)\n",
        ")\n",
        "\n",
        "# Building the interaction matrix for testing\n",
        "test_interactions, test_weights = dataset.build_interactions(\n",
        "    zip(test_df['user_id'].values, test_df['item_id'].values, test_df['rating'].values)\n",
        ")"
      ],
      "metadata": {
        "id": "ry2UK5Ws66Cv"
      },
      "execution_count": null,
      "outputs": []
    },
    {
      "cell_type": "markdown",
      "source": [
        "####Hyperparameters tuning"
      ],
      "metadata": {
        "id": "D84ApfDZCxz4"
      }
    },
    {
      "cell_type": "code",
      "source": [
        "from sklearn.base import BaseEstimator\n",
        "from sklearn.metrics import make_scorer\n",
        "class LightFMWrapper(BaseEstimator):\n",
        "    def __init__(self, no_components=30, learning_schedule='adagrad', loss='warp', learning_rate=0.05,\n",
        "                 item_alpha=0.0, user_alpha=0.0, max_sampled=10, random_state=None, epochs=50):\n",
        "        self.no_components = no_components\n",
        "        self.learning_schedule = learning_schedule\n",
        "        self.loss = loss\n",
        "        self.learning_rate = learning_rate\n",
        "        self.item_alpha = item_alpha\n",
        "        self.user_alpha = user_alpha\n",
        "        self.max_sampled = max_sampled\n",
        "        self.random_state = random_state\n",
        "        self.epochs = epochs\n",
        "        self.model = LightFM(no_components=no_components,\n",
        "                             learning_schedule=learning_schedule,\n",
        "                             loss=loss,\n",
        "                             learning_rate=learning_rate,\n",
        "                             item_alpha=item_alpha,\n",
        "                             user_alpha=user_alpha,\n",
        "                             max_sampled=max_sampled,\n",
        "                             random_state=random_state)\n",
        "\n",
        "    def fit(self, interactions, item_features=None, epochs=None):\n",
        "        if epochs is None:\n",
        "            epochs = self.epochs\n",
        "        self.model.fit(interactions, item_features=item_features, epochs=epochs, num_threads=4)\n",
        "        return self\n",
        "\n",
        "    def score(self, interactions, item_features=None):\n",
        "        return precision_at_k(self.model, interactions, item_features=item_features, k=5, num_threads=4).mean()"
      ],
      "metadata": {
        "id": "j7V_httGx7Ow"
      },
      "execution_count": null,
      "outputs": []
    },
    {
      "cell_type": "code",
      "source": [
        "# param_grid = {\n",
        "#     'no_components': [32, 64, 128],\n",
        "#     'learning_schedule': ['adagrad'],\n",
        "#     'learning_rate': [0.01, 0.05, 0.1],\n",
        "#     'item_alpha': [0.0, 0.01, 0.1],\n",
        "#     'user_alpha': [0.0],\n",
        "#     'max_sampled': [5, 10, 15],\n",
        "#     'epochs': [20, 30, 50]\n",
        "# }"
      ],
      "metadata": {
        "id": "4r8rWCOqxiRZ"
      },
      "execution_count": null,
      "outputs": []
    },
    {
      "cell_type": "code",
      "source": [
        "# TESTED FOR CATEGORICAL FEATURE SET ONLY.\n",
        "# from sklearn.model_selection import GridSearchCV\n",
        "\n",
        "# grid_search = GridSearchCV(estimator=LightFMWrapper(random_state=42, loss='warp', epochs=30),\n",
        "#                            param_grid=param_grid,\n",
        "#                            verbose=3,\n",
        "#                            n_jobs=-1,\n",
        "#                            cv=3\n",
        "#                            )\n",
        "\n",
        "# grid_search.fit(train_interactions, item_features=item_features)\n",
        "# print(\"Best parameters found: \", grid_search.best_params_)\n",
        "\n",
        "#Best parameters found:  {'epochs': 30, 'item_alpha': 0.0, 'learning_rate': 0.1, 'learning_schedule': 'adagrad', 'max_sampled': 5, 'no_components': 64, 'user_alpha': 0.0}"
      ],
      "metadata": {
        "id": "QwwUWiW2yEnJ"
      },
      "execution_count": null,
      "outputs": []
    },
    {
      "cell_type": "code",
      "source": [
        "model = LightFM(no_components=64,\n",
        "                learning_schedule='adagrad',\n",
        "                loss='warp',\n",
        "                learning_rate=0.1,\n",
        "                item_alpha=0.0,\n",
        "                user_alpha=0.0,\n",
        "                max_sampled=5,\n",
        "                random_state=random_seed)\n",
        "\n",
        "model.fit(train_interactions,\n",
        "          item_features=item_features,\n",
        "          epochs=30,\n",
        "          num_threads=4,\n",
        "          verbose=True)"
      ],
      "metadata": {
        "colab": {
          "base_uri": "https://localhost:8080/"
        },
        "outputId": "e1dba3cf-a602-43c0-ba7d-9c590b057f38",
        "id": "D535SVxC7D2H"
      },
      "execution_count": null,
      "outputs": [
        {
          "output_type": "stream",
          "name": "stderr",
          "text": [
            "Epoch: 100%|██████████| 30/30 [00:08<00:00,  3.51it/s]\n"
          ]
        },
        {
          "output_type": "execute_result",
          "data": {
            "text/plain": [
              "<lightfm.lightfm.LightFM at 0x7fb6d64cbca0>"
            ]
          },
          "metadata": {},
          "execution_count": 192
        }
      ]
    },
    {
      "cell_type": "code",
      "source": [
        "start_time = time.time()\n",
        "test_precision = precision_at_k(model, test_interactions, item_features=item_features, k=5).mean()\n",
        "precision_time = time.time()\n",
        "test_auc = auc_score(model, test_interactions, item_features=item_features).mean()\n",
        "auc_time = time.time()\n",
        "\n",
        "precision_elapsed_time = (precision_time - start_time) / 60\n",
        "auc_elapsed_time = (auc_time - precision_time) / 60\n",
        "\n",
        "print(f\"Precision@5: {test_precision:.4f}\")\n",
        "print(f\"Time taken for Precision@5: {precision_elapsed_time:.0f} minutes\")\n",
        "\n",
        "print(f\"AUC: {test_auc:.4f}\")\n",
        "print(f\"Time taken for AUC: {auc_elapsed_time:.0f} minutes\")"
      ],
      "metadata": {
        "colab": {
          "base_uri": "https://localhost:8080/"
        },
        "outputId": "378ccfaa-c872-4639-8dd2-65f7074f2ef5",
        "id": "1gjDehRt7D2Z"
      },
      "execution_count": null,
      "outputs": [
        {
          "output_type": "stream",
          "name": "stdout",
          "text": [
            "Precision@5: 0.0237\n",
            "Time taken for Precision@5: 0 minutes\n",
            "AUC: 0.7570\n",
            "Time taken for AUC: 0 minutes\n"
          ]
        }
      ]
    },
    {
      "cell_type": "markdown",
      "source": [
        "Categorical item features don't seem to be very useful. Let's try description embeddings"
      ],
      "metadata": {
        "id": "iEzv-obrIE89"
      }
    },
    {
      "cell_type": "markdown",
      "source": [
        "####Description embeddings"
      ],
      "metadata": {
        "id": "Bb1yMw-8WwJd"
      }
    },
    {
      "cell_type": "code",
      "source": [
        "# Only embeddings experiment\n",
        "dataset = Dataset()\n",
        "item_features_list = [f'desc_emb_{i}' for i in range(512)]"
      ],
      "metadata": {
        "id": "Xzb-FvY6uPAc"
      },
      "execution_count": null,
      "outputs": []
    },
    {
      "cell_type": "code",
      "source": [
        "dataset.fit(\n",
        "    users=eligible_data['user_id'].unique(),\n",
        "    items=eligible_data['item_id'].unique(),\n",
        "    user_features=None,\n",
        "    item_features=item_features_list\n",
        ")"
      ],
      "metadata": {
        "id": "wMfktg5i6WgS"
      },
      "execution_count": null,
      "outputs": []
    },
    {
      "cell_type": "code",
      "source": [
        "user_id_map, user_feature_map, item_id_map, item_feature_map = dataset.mapping()\n",
        "item_embedding_dict = eligible_data.set_index('item_id')['desc_emb'].to_dict()"
      ],
      "metadata": {
        "id": "qwPuV0v8H6R-"
      },
      "execution_count": null,
      "outputs": []
    },
    {
      "cell_type": "code",
      "source": [
        "# Construct the data for build_item_features\n",
        "item_features_data = []\n",
        "\n",
        "for idx, item_id in tqdm(enumerate(eligible_data['item_id']), total=len(eligible_data['item_id'])):\n",
        "    feature_dict = {}\n",
        "\n",
        "    # Price feature\n",
        "    # if 'price' in item_feature_map:\n",
        "    #     feature_dict['price'] = item_price_dict[item_id]\n",
        "\n",
        "    # Embeddings\n",
        "    emb_list = item_embedding_dict[item_id]\n",
        "    for i, emb_value in enumerate(emb_list):\n",
        "        feature_name = f'desc_emb_{i}'\n",
        "        if feature_name in item_feature_map:\n",
        "            feature_dict[feature_name] = emb_value\n",
        "\n",
        "    #Categorical features\n",
        "    # for feature, item_dict in [('brand_encoded_filtered', item_brand_dict), ('category_encoded', item_category_dict)]:\n",
        "    #     value = item_dict[item_id]\n",
        "    #     feature_name = f'{feature}_{value}'\n",
        "    #     if feature_name in item_feature_map:\n",
        "    #         feature_dict[feature_name] = 1  # Using binary encoding for categorical features\n",
        "\n",
        "    item_features_data.append((item_id, feature_dict))\n",
        "\n",
        "# Use dataset.build_item_features to construct the feature matrix\n",
        "item_features = dataset.build_item_features(item_features_data, normalize=True)"
      ],
      "metadata": {
        "colab": {
          "base_uri": "https://localhost:8080/"
        },
        "id": "v3NgzguZZzJu",
        "outputId": "1a9b5d40-bbc9-4c79-c36f-ed0198d17e71"
      },
      "execution_count": null,
      "outputs": [
        {
          "output_type": "stream",
          "name": "stderr",
          "text": [
            "100%|██████████| 66895/66895 [00:38<00:00, 1744.22it/s]\n"
          ]
        }
      ]
    },
    {
      "cell_type": "code",
      "source": [
        "item_features.shape"
      ],
      "metadata": {
        "colab": {
          "base_uri": "https://localhost:8080/"
        },
        "id": "SueyhpUT4aCo",
        "outputId": "2be30d51-386e-443e-a646-dba2898aa4b5"
      },
      "execution_count": null,
      "outputs": [
        {
          "output_type": "execute_result",
          "data": {
            "text/plain": [
              "(3246, 3758)"
            ]
          },
          "metadata": {},
          "execution_count": 224
        }
      ]
    },
    {
      "cell_type": "code",
      "source": [
        "del item_features_data"
      ],
      "metadata": {
        "id": "KjAwyTqZb_Ry"
      },
      "execution_count": null,
      "outputs": []
    },
    {
      "cell_type": "code",
      "source": [
        "model = LightFM(no_components=100,\n",
        "                learning_schedule='adagrad',\n",
        "                loss='warp',\n",
        "                learning_rate=0.2,\n",
        "                item_alpha=0.0,\n",
        "                user_alpha=0.0,\n",
        "                max_sampled=5,\n",
        "                random_state=random_seed)\n",
        "\n",
        "model.fit(train_interactions,\n",
        "          item_features=item_features,\n",
        "          epochs=50,\n",
        "          num_threads=4,\n",
        "          verbose=True)"
      ],
      "metadata": {
        "colab": {
          "base_uri": "https://localhost:8080/"
        },
        "id": "7Clegj2Z3T17",
        "outputId": "07ebb956-7680-4a84-983f-4a673d14677c"
      },
      "execution_count": null,
      "outputs": [
        {
          "output_type": "stream",
          "name": "stderr",
          "text": [
            "Epoch: 100%|██████████| 50/50 [24:23<00:00, 29.26s/it]\n"
          ]
        },
        {
          "output_type": "execute_result",
          "data": {
            "text/plain": [
              "<lightfm.lightfm.LightFM at 0x7fb6d5d929b0>"
            ]
          },
          "metadata": {},
          "execution_count": 226
        }
      ]
    },
    {
      "cell_type": "code",
      "source": [
        "# Evaluate the model on the test set\n",
        "start_time = time.time()\n",
        "test_precision = precision_at_k(model, test_interactions, item_features=item_features, k=5).mean()\n",
        "precision_time = time.time()\n",
        "test_auc = auc_score(model, test_interactions, item_features=item_features).mean()\n",
        "auc_time = time.time()\n",
        "\n",
        "precision_elapsed_time = (precision_time - start_time) / 60\n",
        "auc_elapsed_time = (auc_time - precision_time) / 60\n",
        "\n",
        "# Print the results\n",
        "print(f\"Precision@5: {test_precision:.4f}\")\n",
        "print(f\"Time taken for Precision@5: {precision_elapsed_time:.0f} minutes\")\n",
        "\n",
        "print(f\"AUC: {test_auc:.4f}\")\n",
        "print(f\"Time taken for AUC: {auc_elapsed_time:.0f} minutes\")\n",
        "\n",
        "#Precision@5: 0.0176\n",
        "#AUC: 0.7441"
      ],
      "metadata": {
        "colab": {
          "base_uri": "https://localhost:8080/"
        },
        "id": "H5_cKkcgtnXa",
        "outputId": "aab8a266-4b2d-4bfc-8719-5c704ee4d442"
      },
      "execution_count": null,
      "outputs": [
        {
          "output_type": "stream",
          "name": "stdout",
          "text": [
            "Precision@5: 0.0180\n",
            "Time taken for Precision@5: 12 minutes\n",
            "AUC: 0.7428\n",
            "Time taken for AUC: 12 minutes\n"
          ]
        }
      ]
    },
    {
      "cell_type": "markdown",
      "source": [
        "No metric improvements."
      ],
      "metadata": {
        "id": "Z3x-cvXcVosb"
      }
    },
    {
      "cell_type": "markdown",
      "source": [
        "##CONCLUSION"
      ],
      "metadata": {
        "id": "EhvhV-bMYdaU"
      }
    },
    {
      "cell_type": "markdown",
      "source": [
        "* Precision@5 is relatively low for every model. This indicates that the model isn't identifying many relevant items within the top 5 recommendations.\n",
        "These values are expected in scenarios where the dataset is sparse. Users interact with only a small portion of items.\n",
        "\n",
        "* The AUC scores are reasonably good. An AUC above 0.7 generally indicates that the model is performing better than random in ranking relevant items higher than irrelevant ones.\n",
        "\n",
        "* For the sake of performance it's better to choose LightFM model based only on user/items interactions not including features.\n",
        "\n"
      ],
      "metadata": {
        "id": "AOcXwdUnYgEG"
      }
    },
    {
      "cell_type": "markdown",
      "source": [
        "##TEST"
      ],
      "metadata": {
        "id": "lyhMVkzMxPOe"
      }
    },
    {
      "cell_type": "code",
      "source": [
        "test_interactions_csr = test_interactions.tocsr()\n",
        "\n",
        "all_scores = []\n",
        "for user_id in test_df['user_id']:\n",
        "    internal_user_id = user_id_map[user_id]\n",
        "    scores = model_clear.predict(internal_user_id, np.arange(test_interactions.shape[1]))\n",
        "    all_scores.extend(scores)\n",
        "\n",
        "min_score = np.min(all_scores)\n",
        "max_score = np.max(all_scores)\n",
        "\n",
        "def rescale_score(score, min_score, max_score, new_min=1, new_max=5):\n",
        "    #rescale the predicted score to the 1-5 range\n",
        "    return ((score - min_score) / (max_score - min_score)) * (new_max - new_min) + new_min"
      ],
      "metadata": {
        "id": "wJVaFkt4xQrG"
      },
      "execution_count": 23,
      "outputs": []
    },
    {
      "cell_type": "code",
      "source": [
        "random_users = np.random.choice(test_df['user_id'].unique(), size=20, replace=False)\n",
        "\n",
        "for original_user_id in random_users:\n",
        "    # if original_user_id in user_id_map:\n",
        "        internal_user_id = user_id_map[original_user_id]\n",
        "        print(f\"User {original_user_id} (internal_id {internal_user_id}),  userName: {user_to_name_map[original_user_id]})\")\n",
        "\n",
        "        # Get the actual items the user interacted with in the test set\n",
        "        user_interactions = test_df[test_df['user_id'] == original_user_id]\n",
        "\n",
        "        # Limit to 5 actual interactions\n",
        "        if len(user_interactions) > 5:\n",
        "             user_interactions = user_interactions.sample(5, random_state=42)\n",
        "\n",
        "        actual_items = user_interactions['item_id'].values\n",
        "        actual_ratings = user_interactions['rating'].values\n",
        "        print(\"\\n\" + \"-\"*10 + \"\\n\")\n",
        "        print(f'Interacted Items IDs : {actual_items}')\n",
        "\n",
        "        # Map actual item IDs to internal indices, skip items not found in the map\n",
        "        internal_item_ids = []\n",
        "        filtered_actual_items = []\n",
        "        filtered_actual_ratings = []\n",
        "\n",
        "        for item_id, rating in zip(actual_items, actual_ratings):\n",
        "          print(f'item_id: {item_id}, item_name: {item_to_name_map[item_id]}')\n",
        "\n",
        "        print(\"\\n\" + \"-\"*10 + \"\\n\")\n",
        "        if item_id in item_id_map:\n",
        "                internal_item_ids.append(item_id_map[item_id])\n",
        "                filtered_actual_items.append(item_id)\n",
        "                filtered_actual_ratings.append(rating)\n",
        "        else:\n",
        "                print(f\"Warning: Item ID {item_id} not found in item_id_map. Item is skipped.\")\n",
        "\n",
        "        # if there are valid items after filtering\n",
        "        if internal_item_ids:\n",
        "\n",
        "            predicted_scores = model_clear.predict(internal_user_id, internal_item_ids)\n",
        "            rescaled_scores = [rescale_score(score, min_score, max_score) for score in predicted_scores]\n",
        "\n",
        "            print(f\"Actual vs Predicted Ratings:\")\n",
        "            for item_id, actual_rating, predicted_rating in zip(filtered_actual_items, filtered_actual_ratings, rescaled_scores):\n",
        "                print(f\"Item {item_id} - Actual rating: {actual_rating:.2f}, Predicted rating: {predicted_rating:.2f}\")\n",
        "\n",
        "        print(\"\\n\" + \"=\"*50 + \"\\n\")"
      ],
      "metadata": {
        "colab": {
          "base_uri": "https://localhost:8080/"
        },
        "id": "77YvaJwByzw7",
        "outputId": "4de7c441-a01f-49a9-f6df-545a1d43076b"
      },
      "execution_count": 70,
      "outputs": [
        {
          "output_type": "stream",
          "name": "stdout",
          "text": [
            "User 9528 (internal_id 1027),  userName: John B.)\n",
            "\n",
            "----------\n",
            "\n",
            "Interacted Items IDs : [8214]\n",
            "item_id: 8214, item_name: Galaxy S7 Screen Protector Glass (3D Curved Full Screen Coverage), amFilm Bye-Bye-Bubble 3D Curved Samsung Galaxy S7 Tempered Glass Screen Protector [NOT S7 Edge] 2016\n",
            "\n",
            "----------\n",
            "\n",
            "Actual vs Predicted Ratings:\n",
            "Item 8214 - Actual rating: 1.00, Predicted rating: 3.46\n",
            "\n",
            "==================================================\n",
            "\n",
            "User 56786 (internal_id 4167),  userName: Nichols)\n",
            "\n",
            "----------\n",
            "\n",
            "Interacted Items IDs : [10424]\n",
            "item_id: 10424, item_name: Bird Perch, Rope Bungee Bird Toy\n",
            "\n",
            "----------\n",
            "\n",
            "Actual vs Predicted Ratings:\n",
            "Item 10424 - Actual rating: 5.00, Predicted rating: 3.51\n",
            "\n",
            "==================================================\n",
            "\n",
            "User 43768 (internal_id 3390),  userName: certinut)\n",
            "\n",
            "----------\n",
            "\n",
            "Interacted Items IDs : [6939]\n",
            "item_id: 6939, item_name: Kitty City Kit\n",
            "\n",
            "----------\n",
            "\n",
            "Actual vs Predicted Ratings:\n",
            "Item 6939 - Actual rating: 5.00, Predicted rating: 3.44\n",
            "\n",
            "==================================================\n",
            "\n",
            "User 77353 (internal_id 5111),  userName: Sandra Hutchens)\n",
            "\n",
            "----------\n",
            "\n",
            "Interacted Items IDs : [13231  5426   414  6736]\n",
            "item_id: 13231, item_name: Coke Zero Sugar Diet Soda Soft Drink, 12 fl oz, 12 Pack\n",
            "item_id: 5426, item_name: Temptations Treats for Cats Variety Packs (6) 3 oz. Pouches\n",
            "item_id: 414, item_name: Purina Friskies Wet Cat Food Variety Pack (Pack May Vary)\n",
            "item_id: 6736, item_name: Charmin Ultra Strong Toilet Paper, 6 Mega Rolls Packaging May Vary\n",
            "\n",
            "----------\n",
            "\n",
            "Actual vs Predicted Ratings:\n",
            "Item 6736 - Actual rating: 5.00, Predicted rating: 3.44\n",
            "\n",
            "==================================================\n",
            "\n",
            "User 57435 (internal_id 4196),  userName: Neko77025)\n",
            "\n",
            "----------\n",
            "\n",
            "Interacted Items IDs : [6363 1971 7733]\n",
            "item_id: 6363, item_name: Purina Fancy Feast Classic Feast Wet Cat Food - (24) 3 oz. Cans\n",
            "item_id: 1971, item_name: Purina Beyond Grain Free Natural, Adult Wet Cat Food\n",
            "item_id: 7733, item_name: Purina Fancy Feast Seafood Classic Pate Wet Cat Food Variety Pack - (24) 3 oz. Cans\n",
            "\n",
            "----------\n",
            "\n",
            "Actual vs Predicted Ratings:\n",
            "Item 7733 - Actual rating: 4.00, Predicted rating: 3.55\n",
            "\n",
            "==================================================\n",
            "\n",
            "User 23550 (internal_id 3491),  userName: DONNA)\n",
            "\n",
            "----------\n",
            "\n",
            "Interacted Items IDs : [4782]\n",
            "item_id: 4782, item_name: Westcott 13901 8\" Straight Titanium Bonded Scissors, Gray/Yellow, 2 Per Pack\n",
            "\n",
            "----------\n",
            "\n",
            "Actual vs Predicted Ratings:\n",
            "Item 4782 - Actual rating: 5.00, Predicted rating: 3.56\n",
            "\n",
            "==================================================\n",
            "\n",
            "User 2114 (internal_id 260),  userName: Zootal)\n",
            "\n",
            "----------\n",
            "\n",
            "Interacted Items IDs : [1862 1888]\n",
            "item_id: 1862, item_name: Pilot Metropolitan Collection Gel Roller Pen, Black Barrel, Classic Design, Fine Point, Black Ink (91217)\n",
            "item_id: 1888, item_name: AmazonBasics Narrow Ruled 5 x 8-Inch Writing Pad - White (50 sheets per pad, 12 pack)\n",
            "\n",
            "----------\n",
            "\n",
            "Actual vs Predicted Ratings:\n",
            "Item 1888 - Actual rating: 5.00, Predicted rating: 3.43\n",
            "\n",
            "==================================================\n",
            "\n",
            "User 54115 (internal_id 4049),  userName: Daved Daly)\n",
            "\n",
            "----------\n",
            "\n",
            "Interacted Items IDs : [5366]\n",
            "item_id: 5366, item_name: Miracle Noodle Zero Carb, Gluten Free Shirataki Pasta, Spinach Angel Hair, 7-Ounce (Pack of 24)\n",
            "\n",
            "----------\n",
            "\n",
            "Actual vs Predicted Ratings:\n",
            "Item 5366 - Actual rating: 5.00, Predicted rating: 3.54\n",
            "\n",
            "==================================================\n",
            "\n",
            "User 1156 (internal_id 146),  userName: Diana H)\n",
            "\n",
            "----------\n",
            "\n",
            "Interacted Items IDs : [2605]\n",
            "item_id: 2605, item_name: Dogit Go Slow Anti-Gulping Dog Bowl\n",
            "\n",
            "----------\n",
            "\n",
            "Actual vs Predicted Ratings:\n",
            "Item 2605 - Actual rating: 5.00, Predicted rating: 3.50\n",
            "\n",
            "==================================================\n",
            "\n",
            "User 92745 (internal_id 6285),  userName: Crowsie)\n",
            "\n",
            "----------\n",
            "\n",
            "Interacted Items IDs : [7906]\n",
            "item_id: 7906, item_name: Colgate Extra Clean Full Head Toothbrush, Medium - 4 Count\n",
            "\n",
            "----------\n",
            "\n",
            "Actual vs Predicted Ratings:\n",
            "Item 7906 - Actual rating: 5.00, Predicted rating: 3.56\n",
            "\n",
            "==================================================\n",
            "\n",
            "User 576 (internal_id 1033),  userName: Christina)\n",
            "\n",
            "----------\n",
            "\n",
            "Interacted Items IDs : [24492  1770 51951 21625   203]\n",
            "item_id: 24492, item_name: Nutro Ultra Puppy Dry Dog Food\n",
            "item_id: 1770, item_name: Providence Engraving Pet ID Tags | 8 Shapes & Colors to Choose From | Dog Cat Aluminum\n",
            "item_id: 51951, item_name: Comfort Zone Calming Diffuser Kit for Cat Calming\n",
            "item_id: 21625, item_name: Carefresh Complete Confetti Pet Bedding, 23 L\n",
            "item_id: 203, item_name: KIND Bars, Dark Chocolate Chili Almond, Gluten Free, 1.4 Ounce Bars, 12 Count\n",
            "\n",
            "----------\n",
            "\n",
            "Actual vs Predicted Ratings:\n",
            "Item 203 - Actual rating: 5.00, Predicted rating: 3.43\n",
            "\n",
            "==================================================\n",
            "\n",
            "User 75399 (internal_id 5223),  userName: John Sanders)\n",
            "\n",
            "----------\n",
            "\n",
            "Interacted Items IDs : [268]\n",
            "item_id: 268, item_name: Lindt LINDOR Dark Chocolate Truffles, Kosher, 120 Count, 50.8 oz\n",
            "\n",
            "----------\n",
            "\n",
            "Actual vs Predicted Ratings:\n",
            "Item 268 - Actual rating: 2.00, Predicted rating: 3.34\n",
            "\n",
            "==================================================\n",
            "\n",
            "User 52205 (internal_id 5783),  userName: JENNIFER FRIXAmazon Customer)\n",
            "\n",
            "----------\n",
            "\n",
            "Interacted Items IDs : [9543]\n",
            "item_id: 9543, item_name: Stella & Chewy'S Freeze Dried Cat Food Salmon & Chicken\n",
            "\n",
            "----------\n",
            "\n",
            "Actual vs Predicted Ratings:\n",
            "Item 9543 - Actual rating: 5.00, Predicted rating: 3.65\n",
            "\n",
            "==================================================\n",
            "\n",
            "User 5764 (internal_id 1361),  userName: shawn)\n",
            "\n",
            "----------\n",
            "\n",
            "Interacted Items IDs : [12056]\n",
            "item_id: 12056, item_name: Sensodyne Sensitivity Toothpaste, Extra Whitening, for Sensitive Teeth, 24/7 Protection, 4 ounce (Pack of 2)\n",
            "\n",
            "----------\n",
            "\n",
            "Actual vs Predicted Ratings:\n",
            "Item 12056 - Actual rating: 5.00, Predicted rating: 3.40\n",
            "\n",
            "==================================================\n",
            "\n",
            "User 873 (internal_id 83),  userName: John)\n",
            "\n",
            "----------\n",
            "\n",
            "Interacted Items IDs : [ 2395 16097  9970  9380  4552]\n",
            "item_id: 2395, item_name: Wild Alaskan Salmon Oil for Dogs & Cats Pure Omega 3 Fish Oil Supplement Rich in for Allergies & Dry Itchy Skin & Paws Relief All Natural Healthy Joints Support Soft Coat & Anti-Shedding Aid Pets Love\n",
            "item_id: 16097, item_name: DEWALT DCCS620P1 20V MAX Lithium-Ion XR Brushless Compact 12 in. Cordless Chainsaw Kit (5AH)\n",
            "item_id: 9970, item_name: Nylabone Puppy Chew X Bone Beef Chew Toy, X-Small\n",
            "item_id: 9380, item_name: Special K Breakfast Cereal Red Berries, 16.9 oz\n",
            "item_id: 4552, item_name: Dunkin' Donuts Original Blend Coffee for K-cup Pods, Medium Roast, For Keurig Brewers, 60 Count\n",
            "\n",
            "----------\n",
            "\n",
            "Actual vs Predicted Ratings:\n",
            "Item 4552 - Actual rating: 3.00, Predicted rating: 3.23\n",
            "\n",
            "==================================================\n",
            "\n",
            "User 14345 (internal_id 1517),  userName: Jeri Holder)\n",
            "\n",
            "----------\n",
            "\n",
            "Interacted Items IDs : [1716]\n",
            "item_id: 1716, item_name: Kaytee Timothy Biscuits Baked Apple Treat, 4Oz Bag\n",
            "\n",
            "----------\n",
            "\n",
            "Actual vs Predicted Ratings:\n",
            "Item 1716 - Actual rating: 5.00, Predicted rating: 3.52\n",
            "\n",
            "==================================================\n",
            "\n",
            "User 17512 (internal_id 1676),  userName: Amiee)\n",
            "\n",
            "----------\n",
            "\n",
            "Interacted Items IDs : [6089]\n",
            "item_id: 6089, item_name: Tomcat Press 'N Set Mouse Trap, 2-Pack\n",
            "\n",
            "----------\n",
            "\n",
            "Actual vs Predicted Ratings:\n",
            "Item 6089 - Actual rating: 5.00, Predicted rating: 3.25\n",
            "\n",
            "==================================================\n",
            "\n",
            "User 8447 (internal_id 917),  userName: Tod Runyon)\n",
            "\n",
            "----------\n",
            "\n",
            "Interacted Items IDs : [5734]\n",
            "item_id: 5734, item_name: Pup-Peroni Original Lean Beef Flavor Dog Snacks, 5.6-Ounce (Pack of 8)\n",
            "\n",
            "----------\n",
            "\n",
            "Actual vs Predicted Ratings:\n",
            "Item 5734 - Actual rating: 5.00, Predicted rating: 3.68\n",
            "\n",
            "==================================================\n",
            "\n",
            "User 90341 (internal_id 5652),  userName: Lorie Cooper)\n",
            "\n",
            "----------\n",
            "\n",
            "Interacted Items IDs : [7973]\n",
            "item_id: 7973, item_name: Kaytee Clean & Cozy Scented Small Animal Bedding\n",
            "\n",
            "----------\n",
            "\n",
            "Actual vs Predicted Ratings:\n",
            "Item 7973 - Actual rating: 5.00, Predicted rating: 3.42\n",
            "\n",
            "==================================================\n",
            "\n",
            "User 1373 (internal_id 167),  userName: Wolfe)\n",
            "\n",
            "----------\n",
            "\n",
            "Interacted Items IDs : [594]\n",
            "item_id: 594, item_name: Scheppend Adidog Pet Clothes for Dog Cat Puppy Hoodies Coat Winter Sweatshirt Warm Sweater Dog Outfits\n",
            "\n",
            "----------\n",
            "\n",
            "Actual vs Predicted Ratings:\n",
            "Item 594 - Actual rating: 1.00, Predicted rating: 3.64\n",
            "\n",
            "==================================================\n",
            "\n"
          ]
        }
      ]
    },
    {
      "cell_type": "markdown",
      "source": [
        "##SAVING MODEL"
      ],
      "metadata": {
        "id": "XnGsfYuUhP18"
      }
    },
    {
      "cell_type": "markdown",
      "source": [
        "before saving - train the model on the whole dataset"
      ],
      "metadata": {
        "id": "d8dL1TmRH9M9"
      }
    },
    {
      "cell_type": "code",
      "source": [
        "known_interactions = eligible_data.groupby('user_id')['item_id'].apply(set).to_dict()"
      ],
      "metadata": {
        "id": "8MPo0dPNIDTH"
      },
      "execution_count": 86,
      "outputs": []
    },
    {
      "cell_type": "code",
      "source": [
        "dataset = Dataset()\n",
        "dataset.fit(users=eligible_data['user_id'].unique(), items=eligible_data['item_id'].unique())\n",
        "\n",
        "# Building the interaction matrices for training\n",
        "interactions, weights = dataset.build_interactions(\n",
        "    zip(eligible_data['user_id'].values, eligible_data['item_id'].values, eligible_data['rating'].values)\n",
        ")"
      ],
      "metadata": {
        "id": "rrYpFOG4ILF1"
      },
      "execution_count": 87,
      "outputs": []
    },
    {
      "cell_type": "code",
      "source": [
        "model_clear = LightFM(no_components=128,\n",
        "                \t\t\tlearning_schedule='adagrad',\n",
        "                \t\t\tloss='warp',\n",
        "                \t\t\tlearning_rate=0.02,\n",
        "                \t\t\titem_alpha=0.0,\n",
        "                \t\t\tuser_alpha=0.0,\n",
        "                \t\t\tmax_sampled=10,\n",
        "                \t\t\trandom_state=random_seed)\n",
        "\n",
        "model_clear.fit(interactions,\n",
        "               epochs = 50,\n",
        "               num_threads = 4,\n",
        "               verbose=True)"
      ],
      "metadata": {
        "colab": {
          "base_uri": "https://localhost:8080/"
        },
        "id": "CRnueFkVIXve",
        "outputId": "2bec187c-4d98-492a-a02a-21cb50030052"
      },
      "execution_count": 88,
      "outputs": [
        {
          "output_type": "stream",
          "name": "stderr",
          "text": [
            "Epoch: 100%|██████████| 50/50 [00:23<00:00,  2.09it/s]\n"
          ]
        },
        {
          "output_type": "execute_result",
          "data": {
            "text/plain": [
              "<lightfm.lightfm.LightFM at 0x7e040028c610>"
            ]
          },
          "metadata": {},
          "execution_count": 88
        }
      ]
    },
    {
      "cell_type": "code",
      "source": [
        "#We will recomend to interacted items with rating greater than 4 to the unknown user\n",
        "filtered_df = df[(df['rating'] >= 4)]\n",
        "top_20_items = filtered_df['item_id'].value_counts().head(20).index.tolist()"
      ],
      "metadata": {
        "id": "gDYvBUl0NPDz"
      },
      "execution_count": 93,
      "outputs": []
    },
    {
      "cell_type": "code",
      "source": [
        "import pickle"
      ],
      "metadata": {
        "id": "8titz8XLhUGw"
      },
      "execution_count": 20,
      "outputs": []
    },
    {
      "cell_type": "code",
      "source": [
        "user_id_map, user_feature_map, item_id_map, item_feature_map = dataset.mapping()"
      ],
      "metadata": {
        "id": "ET7gMNyxAMzZ"
      },
      "execution_count": 89,
      "outputs": []
    },
    {
      "cell_type": "code",
      "source": [
        "user_id_map = {int(user): user_id for user, user_id in user_id_map.items()}\n",
        "item_id_map = {int(item): item_id for item, item_id in item_id_map.items()}"
      ],
      "metadata": {
        "id": "LBySxInz7RKn"
      },
      "execution_count": 90,
      "outputs": []
    },
    {
      "cell_type": "code",
      "source": [
        "with open('lightfm_model.pkl', 'wb') as model_file:\n",
        "    pickle.dump(model_clear, model_file)\n",
        "\n",
        "# Save the user_id_mapping\n",
        "with open('model_user_id_map.pkl', 'wb') as user_file:\n",
        "    pickle.dump(user_id_map, user_file)\n",
        "\n",
        "# Save the item_id_mapping\n",
        "with open('model_item_id_map.pkl', 'wb') as item_file:\n",
        "    pickle.dump(item_id_map, item_file)\n",
        "\n",
        "    # Save the user_to_name_map\n",
        "with open('user_to_name_map.pkl', 'wb') as user_name_file:\n",
        "    pickle.dump(user_to_name_map, user_name_file)\n",
        "\n",
        "    # Save the item_to_name_map\n",
        "with open('item_to_name_map.pkl', 'wb') as item_name_file:\n",
        "    pickle.dump(item_to_name_map, item_name_file)\n",
        "\n",
        "    # Save the known user interactions\n",
        "with open('user_item_interactions.pkl', 'wb') as interactions_name_file:\n",
        "    pickle.dump(known_interactions, interactions_name_file)\n",
        "\n",
        "    # Save the top_20_items\n",
        "with open('top_20_items.pkl', 'wb') as top_20_items_file:\n",
        "    pickle.dump(top_20_items, top_20_items_file)\n",
        "\n",
        "print(\"Model and mappings have been saved successfully!\")"
      ],
      "metadata": {
        "colab": {
          "base_uri": "https://localhost:8080/"
        },
        "id": "OZnpqBfXhR4Q",
        "outputId": "5adc2859-0ba7-45f7-8a68-ac3f69924363"
      },
      "execution_count": 94,
      "outputs": [
        {
          "output_type": "stream",
          "name": "stdout",
          "text": [
            "Model and mappings have been saved successfully!\n"
          ]
        }
      ]
    }
  ],
  "metadata": {
    "colab": {
      "provenance": [],
      "toc_visible": true,
      "authorship_tag": "ABX9TyO0FZ6HK4Pnqvd28mJ9s7ZD",
      "include_colab_link": true
    },
    "kernelspec": {
      "display_name": "Python 3",
      "name": "python3"
    },
    "language_info": {
      "name": "python"
    }
  },
  "nbformat": 4,
  "nbformat_minor": 0
}