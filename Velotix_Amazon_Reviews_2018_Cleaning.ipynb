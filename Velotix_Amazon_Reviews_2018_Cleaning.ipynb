{
  "nbformat": 4,
  "nbformat_minor": 0,
  "metadata": {
    "colab": {
      "provenance": [],
      "toc_visible": true,
      "authorship_tag": "ABX9TyOoiS8ByFJbsUKa4TZ043pW",
      "include_colab_link": true
    },
    "kernelspec": {
      "name": "python3",
      "display_name": "Python 3"
    },
    "language_info": {
      "name": "python"
    }
  },
  "cells": [
    {
      "cell_type": "markdown",
      "metadata": {
        "id": "view-in-github",
        "colab_type": "text"
      },
      "source": [
        "<a href=\"https://colab.research.google.com/github/Dagger77/amzn_recsys/blob/main/Velotix_Amazon_Reviews_2018_Cleaning.ipynb\" target=\"_parent\"><img src=\"https://colab.research.google.com/assets/colab-badge.svg\" alt=\"Open In Colab\"/></a>"
      ]
    },
    {
      "cell_type": "code",
      "execution_count": null,
      "metadata": {
        "colab": {
          "base_uri": "https://localhost:8080/"
        },
        "id": "lPlVjX9m4-0y",
        "outputId": "00f8a8e9-77c8-4a6b-f957-8c6087bd1db1"
      },
      "outputs": [
        {
          "output_type": "stream",
          "name": "stdout",
          "text": [
            "Mounted at /content/drive\n"
          ]
        }
      ],
      "source": [
        "from google.colab import drive\n",
        "drive.mount('/content/drive')"
      ]
    },
    {
      "cell_type": "code",
      "source": [
        "!unzip '/content/drive/MyDrive/Velotix HA/archive.zip' -d './amazon_data/'"
      ],
      "metadata": {
        "colab": {
          "base_uri": "https://localhost:8080/"
        },
        "id": "GAOgTV2e5_sz",
        "outputId": "8f704cf1-625f-4385-94a3-e7aef18524fa"
      },
      "execution_count": null,
      "outputs": [
        {
          "output_type": "stream",
          "name": "stdout",
          "text": [
            "Archive:  /content/drive/MyDrive/Velotix HA/archive.zip\n",
            "  inflating: ./amazon_data/amazon_reviews.csv  \n"
          ]
        }
      ]
    },
    {
      "cell_type": "markdown",
      "source": [
        "##IMPORT"
      ],
      "metadata": {
        "id": "kV_WThWP7Haa"
      }
    },
    {
      "cell_type": "code",
      "source": [
        "import os\n",
        "\n",
        "import seaborn as sns\n",
        "import matplotlib.pyplot as plt\n",
        "\n",
        "import numpy as np\n",
        "import pandas as pd\n",
        "\n",
        "import html\n",
        "from bs4 import BeautifulSoup\n",
        "import ast"
      ],
      "metadata": {
        "id": "Y5AT3JxJ7BSa"
      },
      "execution_count": null,
      "outputs": []
    },
    {
      "cell_type": "code",
      "source": [
        "pd.set_option('display.max_rows', 100)\n",
        "pd.set_option('display.max_columns', None)\n",
        "pd.set_option('display.max_colwidth', 200)\n",
        "pd.set_option('display.width', None)\n",
        "pd.set_option('display.expand_frame_repr', False)"
      ],
      "metadata": {
        "id": "FgAYt0-LAv8y"
      },
      "execution_count": null,
      "outputs": []
    },
    {
      "cell_type": "markdown",
      "source": [
        "##FUNCTIONS"
      ],
      "metadata": {
        "id": "F3KVSvdGNJxM"
      }
    },
    {
      "cell_type": "code",
      "source": [
        "def clean_html(text):\n",
        "    # clean text from pieces of html code\n",
        "    if pd.notnull(text):\n",
        "        soup = BeautifulSoup(text, 'html.parser')\n",
        "        return soup.get_text(separator=\" \")\n",
        "    return text"
      ],
      "metadata": {
        "id": "6fTvYnABL_E9"
      },
      "execution_count": null,
      "outputs": []
    },
    {
      "cell_type": "code",
      "source": [
        "def clean_list_as_string_feature(list_as_string):\n",
        "    # convert text feature presented as str(list) to text\n",
        "    try:\n",
        "        list_representation = ast.literal_eval(list_as_string)\n",
        "        cleaned_list = [item.strip().rstrip('.') for item in list_representation if item.strip()]\n",
        "        result = '. '.join(cleaned_list) + '.' if cleaned_list else ''\n",
        "        return result if result else 'No record'\n",
        "    except (ValueError, SyntaxError):\n",
        "        return list_as_string"
      ],
      "metadata": {
        "id": "dyu7kz4ymzv8"
      },
      "execution_count": null,
      "outputs": []
    },
    {
      "cell_type": "code",
      "source": [
        "def clean_other(text):\n",
        "    #Clean specific cases that can't be cleaned by BS and html.unescape\n",
        "    to_clean = ['\\n', '\\\\n', '&Quot', '&Amp', '<br>']\n",
        "    for chars in to_clean:\n",
        "        text = text.replace(chars, '')\n",
        "    return text.strip()"
      ],
      "metadata": {
        "id": "NxeMHLMNZpmj"
      },
      "execution_count": null,
      "outputs": []
    },
    {
      "cell_type": "markdown",
      "source": [
        "##CLEANING"
      ],
      "metadata": {
        "id": "NkmgS8fg7NGr"
      }
    },
    {
      "cell_type": "code",
      "source": [
        "df = pd.read_csv('/content/amazon_data/amazon_reviews.csv')"
      ],
      "metadata": {
        "id": "cViRvIut7L9D"
      },
      "execution_count": null,
      "outputs": []
    },
    {
      "cell_type": "code",
      "source": [
        "df.info()"
      ],
      "metadata": {
        "colab": {
          "base_uri": "https://localhost:8080/"
        },
        "id": "4xWdtPMVRwFl",
        "outputId": "d0a06bbb-9e21-4115-c97a-7757fb6e0f2e"
      },
      "execution_count": null,
      "outputs": [
        {
          "output_type": "stream",
          "name": "stdout",
          "text": [
            "<class 'pandas.core.frame.DataFrame'>\n",
            "RangeIndex: 551159 entries, 0 to 551158\n",
            "Data columns (total 14 columns):\n",
            " #   Column       Non-Null Count   Dtype  \n",
            "---  ------       --------------   -----  \n",
            " 0   userName     551026 non-null  object \n",
            " 1   verified     551159 non-null  bool   \n",
            " 2   itemName     551158 non-null  object \n",
            " 3   description  551151 non-null  object \n",
            " 4   image        551159 non-null  object \n",
            " 5   brand        547287 non-null  object \n",
            " 6   feature      551159 non-null  object \n",
            " 7   category     551159 non-null  object \n",
            " 8   price        476825 non-null  object \n",
            " 9   rating       551159 non-null  float64\n",
            " 10  reviewTime   551159 non-null  object \n",
            " 11  summary      550916 non-null  object \n",
            " 12  reviewText   550731 non-null  object \n",
            " 13  vote         551159 non-null  int64  \n",
            "dtypes: bool(1), float64(1), int64(1), object(11)\n",
            "memory usage: 55.2+ MB\n"
          ]
        }
      ]
    },
    {
      "cell_type": "code",
      "source": [
        "df.head()"
      ],
      "metadata": {
        "colab": {
          "base_uri": "https://localhost:8080/",
          "height": 1000
        },
        "id": "ic8aW7w7VEml",
        "outputId": "63b9c9ba-7373-47a1-92c8-ab44ad0c3efa"
      },
      "execution_count": null,
      "outputs": [
        {
          "output_type": "execute_result",
          "data": {
            "text/plain": [
              "          userName  verified                                                                                         itemName                                                                                                                                                                                              description                                                                                                                                                                                                    image            brand                                                                                                                                                                                                  feature                  category   price  rating  reviewTime                                                                                                                                              summary                                                                                                                                                                                               reviewText  vote\n",
              "0  Amazon Customer      True                            Toblerone Swiss Milk Chocolate Bar, Crunchy Salted Almond, 3.52 Ounce  [\"Made from deliciously decadent ingredients, Toblerone's swiss milk chocolate is a delight for any chocolate lover. This special bar is packed with crunchy salted caramelized almonds along with T...  ['https://images-na.ssl-images-amazon.com/images/I/51ncjOQJQ0L._SS40_.jpg', 'https://images-na.ssl-images-amazon.com/images/I/518ZZLIcztL._SS40_.jpg', 'https://images-na.ssl-images-amazon.com/imag...        Toblerone                                                                                                                                                                                                       []              Prime_Pantry   $1.63     5.0  2018-01-01                                                                                                                                           Five Stars                                                                                                                                                                 super smooth and yummy with crunchy bits     0\n",
              "1            Carla      True                                                Prince of Peace Organic Tea, Oolong, 100 Tea Bags  ['Prince of Peace Enterprises, Inc., founded in 1983, earned its reputation as a leading and diversified company, specializing in the marketing, importing and distribution of gourmet products, bev...                                                   ['https://images-na.ssl-images-amazon.com/images/I/61ZBUFMoWML._SS40_.jpg', 'https://images-na.ssl-images-amazon.com/images/I/4159d8l8Q5L._SS40_.jpg']  Prince Of Peace                                                                                                                                                                                                       []  Grocery_and_Gourmet_Food   $6.40     5.0  2018-01-01                                                                                                                                           Five Stars                                                                                                                                                                                     Perfect for kombucha     0\n",
              "2           Jaclyn      True  Pet Champion Adjustable No-Pull Harness, Collar, Leash Matching Bundle Small, Medium, Large Dog  [\"The Pet Champion Large/ Extra Large 22-36 inch Chest Bright Polyester Step-In Halter Dog Harness, Pink Lemonade offers more comfort and less tug while walking. You will have no problem walking t...  ['https://images-na.ssl-images-amazon.com/images/I/41x6wIUiAlL._SS40_.jpg', 'https://images-na.ssl-images-amazon.com/images/I/415zFmWBqkL._SS40_.jpg', 'https://images-na.ssl-images-amazon.com/imag...     Pet Champion  ['Features Bright Pink Lemonade pattern', 'Dual D-ring style leash attachment for less tug', 'Made from 1 inch wide 100% high-grade polyester', 'Step-In Halter design for easier aplication', 'Larg...              Pet_Supplies   $7.99     5.0  2018-01-01  she has an odd shape chest and her pull over harness was not going over her big head so easy anymore. This harness finally adjusted to her size ...  Finally a harness that fits my puppy. I really was in need of a harness that fits my 7 pound pug Chihuahua mix.she has an odd shape chest and her pull over harness was not going over her big head ...     0\n",
              "3     Christinne M     False        Koh-I-Noor Progresso Woodless Colored 24-Pencil Set, Assorted Colored Pencils (FA8758.24)  ['Koh-I-Noor Progresso Woodless Colored 24-Pencil Set, Assorted Colors contains rich, pigmented, solid color encased in lacquer. Five times the color as wood-cased pencils, these woodless pencils ...                                                                                                                              ['https://images-na.ssl-images-amazon.com/images/I/4165rMdS1RL._SS40_.jpg']       KOH-I-NOOR  ['Rich, pigmented, solid color encased in lacquer', 'Five times the color as wood-cased pencils', 'Excellent laydown properties for layering and blending without waxy buildup', 'Create dense, even...    Arts_Crafts_and_Sewing  $14.18     5.0  2018-01-01                                                                                                                                             Loving!!  I LOVE THEM!! I bought them at Micheals our of curiosity and wanting to try a different colored pencil. I own Crayola, Prisma and Faber Castell. These colored pencils are very pigmented and there ...     0\n",
              "4            Sandy      True     Parker Urban Premium Ebony Metal Chiseled, Ballpoint Pen with Medium Black refill (S0911510)  [\"Stunning craftsmanship based on a classic style established in 1921. Ebony black with metallic highlights and a gloss varnish. Enhanced with an asymmetric chiselled pattern that echos urban's er...  ['https://images-na.ssl-images-amazon.com/images/I/31Fk3or2lDL._SS40_.jpg', 'https://images-na.ssl-images-amazon.com/images/I/41tI1d6s3fL._SS36_.jpg', 'https://images-na.ssl-images-amazon.com/imag...           Parker  ['Ebony black with metallic highlights and a gloss varnish', \"Enhanced with an asymmetric chiseled pattern that echo's Urban's ergonomic form\", 'Nib in stainless steel for superior resistance and ...           Office_Products     NaN     5.0  2018-01-01                                                                                                                                      I love this pen                                                                         I love this pen! I love the shape of it, the feel of it, the weight of it, and the color of it. I can highly recommend this pen!     0"
            ],
            "text/html": [
              "\n",
              "  <div id=\"df-3619ed4f-f2c1-40cc-9c32-603f80aab061\" class=\"colab-df-container\">\n",
              "    <div>\n",
              "<style scoped>\n",
              "    .dataframe tbody tr th:only-of-type {\n",
              "        vertical-align: middle;\n",
              "    }\n",
              "\n",
              "    .dataframe tbody tr th {\n",
              "        vertical-align: top;\n",
              "    }\n",
              "\n",
              "    .dataframe thead th {\n",
              "        text-align: right;\n",
              "    }\n",
              "</style>\n",
              "<table border=\"1\" class=\"dataframe\">\n",
              "  <thead>\n",
              "    <tr style=\"text-align: right;\">\n",
              "      <th></th>\n",
              "      <th>userName</th>\n",
              "      <th>verified</th>\n",
              "      <th>itemName</th>\n",
              "      <th>description</th>\n",
              "      <th>image</th>\n",
              "      <th>brand</th>\n",
              "      <th>feature</th>\n",
              "      <th>category</th>\n",
              "      <th>price</th>\n",
              "      <th>rating</th>\n",
              "      <th>reviewTime</th>\n",
              "      <th>summary</th>\n",
              "      <th>reviewText</th>\n",
              "      <th>vote</th>\n",
              "    </tr>\n",
              "  </thead>\n",
              "  <tbody>\n",
              "    <tr>\n",
              "      <th>0</th>\n",
              "      <td>Amazon Customer</td>\n",
              "      <td>True</td>\n",
              "      <td>Toblerone Swiss Milk Chocolate Bar, Crunchy Salted Almond, 3.52 Ounce</td>\n",
              "      <td>[\"Made from deliciously decadent ingredients, Toblerone's swiss milk chocolate is a delight for any chocolate lover. This special bar is packed with crunchy salted caramelized almonds along with T...</td>\n",
              "      <td>['https://images-na.ssl-images-amazon.com/images/I/51ncjOQJQ0L._SS40_.jpg', 'https://images-na.ssl-images-amazon.com/images/I/518ZZLIcztL._SS40_.jpg', 'https://images-na.ssl-images-amazon.com/imag...</td>\n",
              "      <td>Toblerone</td>\n",
              "      <td>[]</td>\n",
              "      <td>Prime_Pantry</td>\n",
              "      <td>$1.63</td>\n",
              "      <td>5.0</td>\n",
              "      <td>2018-01-01</td>\n",
              "      <td>Five Stars</td>\n",
              "      <td>super smooth and yummy with crunchy bits</td>\n",
              "      <td>0</td>\n",
              "    </tr>\n",
              "    <tr>\n",
              "      <th>1</th>\n",
              "      <td>Carla</td>\n",
              "      <td>True</td>\n",
              "      <td>Prince of Peace Organic Tea, Oolong, 100 Tea Bags</td>\n",
              "      <td>['Prince of Peace Enterprises, Inc., founded in 1983, earned its reputation as a leading and diversified company, specializing in the marketing, importing and distribution of gourmet products, bev...</td>\n",
              "      <td>['https://images-na.ssl-images-amazon.com/images/I/61ZBUFMoWML._SS40_.jpg', 'https://images-na.ssl-images-amazon.com/images/I/4159d8l8Q5L._SS40_.jpg']</td>\n",
              "      <td>Prince Of Peace</td>\n",
              "      <td>[]</td>\n",
              "      <td>Grocery_and_Gourmet_Food</td>\n",
              "      <td>$6.40</td>\n",
              "      <td>5.0</td>\n",
              "      <td>2018-01-01</td>\n",
              "      <td>Five Stars</td>\n",
              "      <td>Perfect for kombucha</td>\n",
              "      <td>0</td>\n",
              "    </tr>\n",
              "    <tr>\n",
              "      <th>2</th>\n",
              "      <td>Jaclyn</td>\n",
              "      <td>True</td>\n",
              "      <td>Pet Champion Adjustable No-Pull Harness, Collar, Leash Matching Bundle Small, Medium, Large Dog</td>\n",
              "      <td>[\"The Pet Champion Large/ Extra Large 22-36 inch Chest Bright Polyester Step-In Halter Dog Harness, Pink Lemonade offers more comfort and less tug while walking. You will have no problem walking t...</td>\n",
              "      <td>['https://images-na.ssl-images-amazon.com/images/I/41x6wIUiAlL._SS40_.jpg', 'https://images-na.ssl-images-amazon.com/images/I/415zFmWBqkL._SS40_.jpg', 'https://images-na.ssl-images-amazon.com/imag...</td>\n",
              "      <td>Pet Champion</td>\n",
              "      <td>['Features Bright Pink Lemonade pattern', 'Dual D-ring style leash attachment for less tug', 'Made from 1 inch wide 100% high-grade polyester', 'Step-In Halter design for easier aplication', 'Larg...</td>\n",
              "      <td>Pet_Supplies</td>\n",
              "      <td>$7.99</td>\n",
              "      <td>5.0</td>\n",
              "      <td>2018-01-01</td>\n",
              "      <td>she has an odd shape chest and her pull over harness was not going over her big head so easy anymore. This harness finally adjusted to her size ...</td>\n",
              "      <td>Finally a harness that fits my puppy. I really was in need of a harness that fits my 7 pound pug Chihuahua mix.she has an odd shape chest and her pull over harness was not going over her big head ...</td>\n",
              "      <td>0</td>\n",
              "    </tr>\n",
              "    <tr>\n",
              "      <th>3</th>\n",
              "      <td>Christinne M</td>\n",
              "      <td>False</td>\n",
              "      <td>Koh-I-Noor Progresso Woodless Colored 24-Pencil Set, Assorted Colored Pencils (FA8758.24)</td>\n",
              "      <td>['Koh-I-Noor Progresso Woodless Colored 24-Pencil Set, Assorted Colors contains rich, pigmented, solid color encased in lacquer. Five times the color as wood-cased pencils, these woodless pencils ...</td>\n",
              "      <td>['https://images-na.ssl-images-amazon.com/images/I/4165rMdS1RL._SS40_.jpg']</td>\n",
              "      <td>KOH-I-NOOR</td>\n",
              "      <td>['Rich, pigmented, solid color encased in lacquer', 'Five times the color as wood-cased pencils', 'Excellent laydown properties for layering and blending without waxy buildup', 'Create dense, even...</td>\n",
              "      <td>Arts_Crafts_and_Sewing</td>\n",
              "      <td>$14.18</td>\n",
              "      <td>5.0</td>\n",
              "      <td>2018-01-01</td>\n",
              "      <td>Loving!!</td>\n",
              "      <td>I LOVE THEM!! I bought them at Micheals our of curiosity and wanting to try a different colored pencil. I own Crayola, Prisma and Faber Castell. These colored pencils are very pigmented and there ...</td>\n",
              "      <td>0</td>\n",
              "    </tr>\n",
              "    <tr>\n",
              "      <th>4</th>\n",
              "      <td>Sandy</td>\n",
              "      <td>True</td>\n",
              "      <td>Parker Urban Premium Ebony Metal Chiseled, Ballpoint Pen with Medium Black refill (S0911510)</td>\n",
              "      <td>[\"Stunning craftsmanship based on a classic style established in 1921. Ebony black with metallic highlights and a gloss varnish. Enhanced with an asymmetric chiselled pattern that echos urban's er...</td>\n",
              "      <td>['https://images-na.ssl-images-amazon.com/images/I/31Fk3or2lDL._SS40_.jpg', 'https://images-na.ssl-images-amazon.com/images/I/41tI1d6s3fL._SS36_.jpg', 'https://images-na.ssl-images-amazon.com/imag...</td>\n",
              "      <td>Parker</td>\n",
              "      <td>['Ebony black with metallic highlights and a gloss varnish', \"Enhanced with an asymmetric chiseled pattern that echo's Urban's ergonomic form\", 'Nib in stainless steel for superior resistance and ...</td>\n",
              "      <td>Office_Products</td>\n",
              "      <td>NaN</td>\n",
              "      <td>5.0</td>\n",
              "      <td>2018-01-01</td>\n",
              "      <td>I love this pen</td>\n",
              "      <td>I love this pen! I love the shape of it, the feel of it, the weight of it, and the color of it. I can highly recommend this pen!</td>\n",
              "      <td>0</td>\n",
              "    </tr>\n",
              "  </tbody>\n",
              "</table>\n",
              "</div>\n",
              "    <div class=\"colab-df-buttons\">\n",
              "\n",
              "  <div class=\"colab-df-container\">\n",
              "    <button class=\"colab-df-convert\" onclick=\"convertToInteractive('df-3619ed4f-f2c1-40cc-9c32-603f80aab061')\"\n",
              "            title=\"Convert this dataframe to an interactive table.\"\n",
              "            style=\"display:none;\">\n",
              "\n",
              "  <svg xmlns=\"http://www.w3.org/2000/svg\" height=\"24px\" viewBox=\"0 -960 960 960\">\n",
              "    <path d=\"M120-120v-720h720v720H120Zm60-500h600v-160H180v160Zm220 220h160v-160H400v160Zm0 220h160v-160H400v160ZM180-400h160v-160H180v160Zm440 0h160v-160H620v160ZM180-180h160v-160H180v160Zm440 0h160v-160H620v160Z\"/>\n",
              "  </svg>\n",
              "    </button>\n",
              "\n",
              "  <style>\n",
              "    .colab-df-container {\n",
              "      display:flex;\n",
              "      gap: 12px;\n",
              "    }\n",
              "\n",
              "    .colab-df-convert {\n",
              "      background-color: #E8F0FE;\n",
              "      border: none;\n",
              "      border-radius: 50%;\n",
              "      cursor: pointer;\n",
              "      display: none;\n",
              "      fill: #1967D2;\n",
              "      height: 32px;\n",
              "      padding: 0 0 0 0;\n",
              "      width: 32px;\n",
              "    }\n",
              "\n",
              "    .colab-df-convert:hover {\n",
              "      background-color: #E2EBFA;\n",
              "      box-shadow: 0px 1px 2px rgba(60, 64, 67, 0.3), 0px 1px 3px 1px rgba(60, 64, 67, 0.15);\n",
              "      fill: #174EA6;\n",
              "    }\n",
              "\n",
              "    .colab-df-buttons div {\n",
              "      margin-bottom: 4px;\n",
              "    }\n",
              "\n",
              "    [theme=dark] .colab-df-convert {\n",
              "      background-color: #3B4455;\n",
              "      fill: #D2E3FC;\n",
              "    }\n",
              "\n",
              "    [theme=dark] .colab-df-convert:hover {\n",
              "      background-color: #434B5C;\n",
              "      box-shadow: 0px 1px 3px 1px rgba(0, 0, 0, 0.15);\n",
              "      filter: drop-shadow(0px 1px 2px rgba(0, 0, 0, 0.3));\n",
              "      fill: #FFFFFF;\n",
              "    }\n",
              "  </style>\n",
              "\n",
              "    <script>\n",
              "      const buttonEl =\n",
              "        document.querySelector('#df-3619ed4f-f2c1-40cc-9c32-603f80aab061 button.colab-df-convert');\n",
              "      buttonEl.style.display =\n",
              "        google.colab.kernel.accessAllowed ? 'block' : 'none';\n",
              "\n",
              "      async function convertToInteractive(key) {\n",
              "        const element = document.querySelector('#df-3619ed4f-f2c1-40cc-9c32-603f80aab061');\n",
              "        const dataTable =\n",
              "          await google.colab.kernel.invokeFunction('convertToInteractive',\n",
              "                                                    [key], {});\n",
              "        if (!dataTable) return;\n",
              "\n",
              "        const docLinkHtml = 'Like what you see? Visit the ' +\n",
              "          '<a target=\"_blank\" href=https://colab.research.google.com/notebooks/data_table.ipynb>data table notebook</a>'\n",
              "          + ' to learn more about interactive tables.';\n",
              "        element.innerHTML = '';\n",
              "        dataTable['output_type'] = 'display_data';\n",
              "        await google.colab.output.renderOutput(dataTable, element);\n",
              "        const docLink = document.createElement('div');\n",
              "        docLink.innerHTML = docLinkHtml;\n",
              "        element.appendChild(docLink);\n",
              "      }\n",
              "    </script>\n",
              "  </div>\n",
              "\n",
              "\n",
              "<div id=\"df-f382247b-5982-46b8-ba85-769734678537\">\n",
              "  <button class=\"colab-df-quickchart\" onclick=\"quickchart('df-f382247b-5982-46b8-ba85-769734678537')\"\n",
              "            title=\"Suggest charts\"\n",
              "            style=\"display:none;\">\n",
              "\n",
              "<svg xmlns=\"http://www.w3.org/2000/svg\" height=\"24px\"viewBox=\"0 0 24 24\"\n",
              "     width=\"24px\">\n",
              "    <g>\n",
              "        <path d=\"M19 3H5c-1.1 0-2 .9-2 2v14c0 1.1.9 2 2 2h14c1.1 0 2-.9 2-2V5c0-1.1-.9-2-2-2zM9 17H7v-7h2v7zm4 0h-2V7h2v10zm4 0h-2v-4h2v4z\"/>\n",
              "    </g>\n",
              "</svg>\n",
              "  </button>\n",
              "\n",
              "<style>\n",
              "  .colab-df-quickchart {\n",
              "      --bg-color: #E8F0FE;\n",
              "      --fill-color: #1967D2;\n",
              "      --hover-bg-color: #E2EBFA;\n",
              "      --hover-fill-color: #174EA6;\n",
              "      --disabled-fill-color: #AAA;\n",
              "      --disabled-bg-color: #DDD;\n",
              "  }\n",
              "\n",
              "  [theme=dark] .colab-df-quickchart {\n",
              "      --bg-color: #3B4455;\n",
              "      --fill-color: #D2E3FC;\n",
              "      --hover-bg-color: #434B5C;\n",
              "      --hover-fill-color: #FFFFFF;\n",
              "      --disabled-bg-color: #3B4455;\n",
              "      --disabled-fill-color: #666;\n",
              "  }\n",
              "\n",
              "  .colab-df-quickchart {\n",
              "    background-color: var(--bg-color);\n",
              "    border: none;\n",
              "    border-radius: 50%;\n",
              "    cursor: pointer;\n",
              "    display: none;\n",
              "    fill: var(--fill-color);\n",
              "    height: 32px;\n",
              "    padding: 0;\n",
              "    width: 32px;\n",
              "  }\n",
              "\n",
              "  .colab-df-quickchart:hover {\n",
              "    background-color: var(--hover-bg-color);\n",
              "    box-shadow: 0 1px 2px rgba(60, 64, 67, 0.3), 0 1px 3px 1px rgba(60, 64, 67, 0.15);\n",
              "    fill: var(--button-hover-fill-color);\n",
              "  }\n",
              "\n",
              "  .colab-df-quickchart-complete:disabled,\n",
              "  .colab-df-quickchart-complete:disabled:hover {\n",
              "    background-color: var(--disabled-bg-color);\n",
              "    fill: var(--disabled-fill-color);\n",
              "    box-shadow: none;\n",
              "  }\n",
              "\n",
              "  .colab-df-spinner {\n",
              "    border: 2px solid var(--fill-color);\n",
              "    border-color: transparent;\n",
              "    border-bottom-color: var(--fill-color);\n",
              "    animation:\n",
              "      spin 1s steps(1) infinite;\n",
              "  }\n",
              "\n",
              "  @keyframes spin {\n",
              "    0% {\n",
              "      border-color: transparent;\n",
              "      border-bottom-color: var(--fill-color);\n",
              "      border-left-color: var(--fill-color);\n",
              "    }\n",
              "    20% {\n",
              "      border-color: transparent;\n",
              "      border-left-color: var(--fill-color);\n",
              "      border-top-color: var(--fill-color);\n",
              "    }\n",
              "    30% {\n",
              "      border-color: transparent;\n",
              "      border-left-color: var(--fill-color);\n",
              "      border-top-color: var(--fill-color);\n",
              "      border-right-color: var(--fill-color);\n",
              "    }\n",
              "    40% {\n",
              "      border-color: transparent;\n",
              "      border-right-color: var(--fill-color);\n",
              "      border-top-color: var(--fill-color);\n",
              "    }\n",
              "    60% {\n",
              "      border-color: transparent;\n",
              "      border-right-color: var(--fill-color);\n",
              "    }\n",
              "    80% {\n",
              "      border-color: transparent;\n",
              "      border-right-color: var(--fill-color);\n",
              "      border-bottom-color: var(--fill-color);\n",
              "    }\n",
              "    90% {\n",
              "      border-color: transparent;\n",
              "      border-bottom-color: var(--fill-color);\n",
              "    }\n",
              "  }\n",
              "</style>\n",
              "\n",
              "  <script>\n",
              "    async function quickchart(key) {\n",
              "      const quickchartButtonEl =\n",
              "        document.querySelector('#' + key + ' button');\n",
              "      quickchartButtonEl.disabled = true;  // To prevent multiple clicks.\n",
              "      quickchartButtonEl.classList.add('colab-df-spinner');\n",
              "      try {\n",
              "        const charts = await google.colab.kernel.invokeFunction(\n",
              "            'suggestCharts', [key], {});\n",
              "      } catch (error) {\n",
              "        console.error('Error during call to suggestCharts:', error);\n",
              "      }\n",
              "      quickchartButtonEl.classList.remove('colab-df-spinner');\n",
              "      quickchartButtonEl.classList.add('colab-df-quickchart-complete');\n",
              "    }\n",
              "    (() => {\n",
              "      let quickchartButtonEl =\n",
              "        document.querySelector('#df-f382247b-5982-46b8-ba85-769734678537 button');\n",
              "      quickchartButtonEl.style.display =\n",
              "        google.colab.kernel.accessAllowed ? 'block' : 'none';\n",
              "    })();\n",
              "  </script>\n",
              "</div>\n",
              "\n",
              "    </div>\n",
              "  </div>\n"
            ],
            "application/vnd.google.colaboratory.intrinsic+json": {
              "type": "dataframe",
              "variable_name": "df"
            }
          },
          "metadata": {},
          "execution_count": 12
        }
      ]
    },
    {
      "cell_type": "code",
      "source": [
        "# It looks like dataset has a lot of duplicates\n",
        "\n",
        "# dulpicates = df[df.duplicated(keep=False)]\n",
        "# dulpicates.to_csv('amazon_duplicates.csv', index=False)"
      ],
      "metadata": {
        "id": "_Nliov7fAfny"
      },
      "execution_count": null,
      "outputs": []
    },
    {
      "cell_type": "code",
      "source": [
        "print(f'Number of duplicates: {len(df[df.duplicated(keep=False)])}')"
      ],
      "metadata": {
        "colab": {
          "base_uri": "https://localhost:8080/"
        },
        "id": "firUJEYERe7T",
        "outputId": "4d9bce8c-50dd-4451-98b3-10a24f48fda9"
      },
      "execution_count": null,
      "outputs": [
        {
          "output_type": "stream",
          "name": "stdout",
          "text": [
            "Number of duplicates: 80428\n"
          ]
        }
      ]
    },
    {
      "cell_type": "code",
      "source": [
        "df = df.drop_duplicates()"
      ],
      "metadata": {
        "id": "FScr8-PRMlnf"
      },
      "execution_count": null,
      "outputs": []
    },
    {
      "cell_type": "code",
      "source": [
        "df.info()\n",
        "#510363 users not null\n",
        "#510489 item not null"
      ],
      "metadata": {
        "colab": {
          "base_uri": "https://localhost:8080/"
        },
        "id": "o6Q6uW3l9KPm",
        "outputId": "9643e083-02d1-4f72-acd7-855b761e2aaf"
      },
      "execution_count": null,
      "outputs": [
        {
          "output_type": "stream",
          "name": "stdout",
          "text": [
            "<class 'pandas.core.frame.DataFrame'>\n",
            "Index: 510490 entries, 0 to 551158\n",
            "Data columns (total 14 columns):\n",
            " #   Column       Non-Null Count   Dtype  \n",
            "---  ------       --------------   -----  \n",
            " 0   userName     510363 non-null  object \n",
            " 1   verified     510490 non-null  bool   \n",
            " 2   itemName     510489 non-null  object \n",
            " 3   description  510482 non-null  object \n",
            " 4   image        510490 non-null  object \n",
            " 5   brand        507010 non-null  object \n",
            " 6   feature      510490 non-null  object \n",
            " 7   category     510490 non-null  object \n",
            " 8   price        440864 non-null  object \n",
            " 9   rating       510490 non-null  float64\n",
            " 10  reviewTime   510490 non-null  object \n",
            " 11  summary      510253 non-null  object \n",
            " 12  reviewText   510089 non-null  object \n",
            " 13  vote         510490 non-null  int64  \n",
            "dtypes: bool(1), float64(1), int64(1), object(11)\n",
            "memory usage: 55.0+ MB\n"
          ]
        }
      ]
    },
    {
      "cell_type": "markdown",
      "source": [
        "###userName & itemName"
      ],
      "metadata": {
        "id": "eOFqZbaF_vQM"
      }
    },
    {
      "cell_type": "code",
      "source": [
        "# Since we are building recommender system, User and Item entities are crucial.\n",
        "# NaN must be dropped\n",
        "df = df.dropna(subset=['userName', 'itemName'])"
      ],
      "metadata": {
        "id": "s1psfX73_JxH"
      },
      "execution_count": null,
      "outputs": []
    },
    {
      "cell_type": "code",
      "source": [
        "#Some entries have HTML entities like &amp, &quot, etc. Some even have nested HTML entities\n",
        "#For nested cases let's clean entries several times\n",
        "for i in range(5):\n",
        "  df.loc[:, 'userName'] = df['userName'].apply(html.unescape)\n",
        "  df.loc[:, 'itemName'] = df['itemName'].apply(html.unescape)"
      ],
      "metadata": {
        "id": "6g2JK3br732K"
      },
      "execution_count": null,
      "outputs": []
    },
    {
      "cell_type": "code",
      "source": [
        "#Found some items having corrupted itemName having chunks of parcing code errors\n",
        "bad_value_pattern = r'var aPageStart'\n",
        "df.loc[df['itemName'].str.contains(bad_value_pattern, na=False), 'itemName'] = 'Nike Womens Flex Supreme TR 4 training shoe'"
      ],
      "metadata": {
        "id": "gPYQYMN20qIW"
      },
      "execution_count": null,
      "outputs": []
    },
    {
      "cell_type": "code",
      "source": [
        "df[800:820][['userName', 'itemName']]"
      ],
      "metadata": {
        "colab": {
          "base_uri": "https://localhost:8080/",
          "height": 677
        },
        "id": "5Euvu-IPUlfA",
        "outputId": "66bfd6ff-6640-445b-b0ee-4e6a477b4506"
      },
      "execution_count": null,
      "outputs": [
        {
          "output_type": "execute_result",
          "data": {
            "text/plain": [
              "               userName                                                                                                                                                   itemName\n",
              "918                 kim                                                                                                                                     Laube Blade Case, Mini\n",
              "919   verified purchase                                                                                                                  PetNC Natural Care Hip & Joint Soft Chews\n",
              "920         Amazon Dude                                                            Red Vines Sugar Free Licorice, Strawberry Flavor, 5oz Bags (12 Pack), Soft & Chewy Candy Twists\n",
              "921         Glenda Hunt                                                                                                                                             Catit Fountain\n",
              "922              Pickle                                              Kohler 25-032-06-S Lawn & Garden Equipment Engine Oil Seal Genuine Original Equipment Manufacturer (OEM) Part\n",
              "923           T. Shampo                                                                               WESTERN 78057 Premium BBQ Products Post Oak Cooking Chunks, 570 cu inch Food\n",
              "924        M. L. Gaumer                                                                                                                              Comfort Zone Multicat Refills\n",
              "925      Got Influence?                                Incipio offGRID Samsung Galaxy S7 Battery Case, 3700 mAh Wireless Qi Charging Extended Battery Backup for Galaxy S7 - Black\n",
              "926           Music Man       Oregon Scientific THGR810 10-Channel Wireless Remote Thermometer/Humidity Sensor with 10 Channels for the WMR200, WMR100, and WMR90 Weather Stations\n",
              "927    Lucian A. Sperta                                                                                                         Prevue Pet Products Premium/Deluxe Cat Home, Black\n",
              "928                  CL                                                                                  Twinings of London English Afternoon Black Tea Bags, 20 Count (Pack of 6)\n",
              "929    Karoline Carlson                         LG Urbane 2nd LTE Watch Stand, Artifex Charging Dock Stand for 2nd LTE Watch, New 3D Printed Technology, Smartwatch Cradle (Black)\n",
              "930  Hector M Feliciano                                                  [2-PACK]-Mr Shield For Huawei Mate 8 [Tempered Glass] Screen Protector with Lifetime Replacement Warranty\n",
              "931             Melonie  Canwood Whistler Junior Loft Bed, Espresso, Twin-Sized Mattress (Not Included), Bunk Bed Alternative, Great for Sleepovers, Underbed Storage/Organization\n",
              "932               C. S.                                                                                                                                             Catit Fountain\n",
              "933           Heather M                                                                                        Super Design Interactive Bloat Stop Anti-Gulping Slow Feed Dog Bowl\n",
              "934           T. Shampo                                    King Kooker 04502 High Pressure Adjustable Regulator with Type 1 Connection and Listed LP Hose with Female Flare Swivel\n",
              "935                Katy                                   EcoBark Max Comfort and Control Dog Harness; No Pull & No Choke Design, Luxurious Padded Vest, Eco-Friendly Puppies Dogs\n",
              "936     Scott E. Kelley                                                                                               Bayou Classic 0880-CS, Stainless Steel Beercan ChickCAN Rack\n",
              "937       Dennis Rogers                                                                                 Season Black Capelin Caviar from Iceland, 3.5-Ounce Glass Jars (Pack of 4)"
            ],
            "text/html": [
              "\n",
              "  <div id=\"df-30b675a1-2322-4187-9ba6-94402e1cf66b\" class=\"colab-df-container\">\n",
              "    <div>\n",
              "<style scoped>\n",
              "    .dataframe tbody tr th:only-of-type {\n",
              "        vertical-align: middle;\n",
              "    }\n",
              "\n",
              "    .dataframe tbody tr th {\n",
              "        vertical-align: top;\n",
              "    }\n",
              "\n",
              "    .dataframe thead th {\n",
              "        text-align: right;\n",
              "    }\n",
              "</style>\n",
              "<table border=\"1\" class=\"dataframe\">\n",
              "  <thead>\n",
              "    <tr style=\"text-align: right;\">\n",
              "      <th></th>\n",
              "      <th>userName</th>\n",
              "      <th>itemName</th>\n",
              "    </tr>\n",
              "  </thead>\n",
              "  <tbody>\n",
              "    <tr>\n",
              "      <th>918</th>\n",
              "      <td>kim</td>\n",
              "      <td>Laube Blade Case, Mini</td>\n",
              "    </tr>\n",
              "    <tr>\n",
              "      <th>919</th>\n",
              "      <td>verified purchase</td>\n",
              "      <td>PetNC Natural Care Hip &amp; Joint Soft Chews</td>\n",
              "    </tr>\n",
              "    <tr>\n",
              "      <th>920</th>\n",
              "      <td>Amazon Dude</td>\n",
              "      <td>Red Vines Sugar Free Licorice, Strawberry Flavor, 5oz Bags (12 Pack), Soft &amp; Chewy Candy Twists</td>\n",
              "    </tr>\n",
              "    <tr>\n",
              "      <th>921</th>\n",
              "      <td>Glenda Hunt</td>\n",
              "      <td>Catit Fountain</td>\n",
              "    </tr>\n",
              "    <tr>\n",
              "      <th>922</th>\n",
              "      <td>Pickle</td>\n",
              "      <td>Kohler 25-032-06-S Lawn &amp; Garden Equipment Engine Oil Seal Genuine Original Equipment Manufacturer (OEM) Part</td>\n",
              "    </tr>\n",
              "    <tr>\n",
              "      <th>923</th>\n",
              "      <td>T. Shampo</td>\n",
              "      <td>WESTERN 78057 Premium BBQ Products Post Oak Cooking Chunks, 570 cu inch Food</td>\n",
              "    </tr>\n",
              "    <tr>\n",
              "      <th>924</th>\n",
              "      <td>M. L. Gaumer</td>\n",
              "      <td>Comfort Zone Multicat Refills</td>\n",
              "    </tr>\n",
              "    <tr>\n",
              "      <th>925</th>\n",
              "      <td>Got Influence?</td>\n",
              "      <td>Incipio offGRID Samsung Galaxy S7 Battery Case, 3700 mAh Wireless Qi Charging Extended Battery Backup for Galaxy S7 - Black</td>\n",
              "    </tr>\n",
              "    <tr>\n",
              "      <th>926</th>\n",
              "      <td>Music Man</td>\n",
              "      <td>Oregon Scientific THGR810 10-Channel Wireless Remote Thermometer/Humidity Sensor with 10 Channels for the WMR200, WMR100, and WMR90 Weather Stations</td>\n",
              "    </tr>\n",
              "    <tr>\n",
              "      <th>927</th>\n",
              "      <td>Lucian A. Sperta</td>\n",
              "      <td>Prevue Pet Products Premium/Deluxe Cat Home, Black</td>\n",
              "    </tr>\n",
              "    <tr>\n",
              "      <th>928</th>\n",
              "      <td>CL</td>\n",
              "      <td>Twinings of London English Afternoon Black Tea Bags, 20 Count (Pack of 6)</td>\n",
              "    </tr>\n",
              "    <tr>\n",
              "      <th>929</th>\n",
              "      <td>Karoline Carlson</td>\n",
              "      <td>LG Urbane 2nd LTE Watch Stand, Artifex Charging Dock Stand for 2nd LTE Watch, New 3D Printed Technology, Smartwatch Cradle (Black)</td>\n",
              "    </tr>\n",
              "    <tr>\n",
              "      <th>930</th>\n",
              "      <td>Hector M Feliciano</td>\n",
              "      <td>[2-PACK]-Mr Shield For Huawei Mate 8 [Tempered Glass] Screen Protector with Lifetime Replacement Warranty</td>\n",
              "    </tr>\n",
              "    <tr>\n",
              "      <th>931</th>\n",
              "      <td>Melonie</td>\n",
              "      <td>Canwood Whistler Junior Loft Bed, Espresso, Twin-Sized Mattress (Not Included), Bunk Bed Alternative, Great for Sleepovers, Underbed Storage/Organization</td>\n",
              "    </tr>\n",
              "    <tr>\n",
              "      <th>932</th>\n",
              "      <td>C. S.</td>\n",
              "      <td>Catit Fountain</td>\n",
              "    </tr>\n",
              "    <tr>\n",
              "      <th>933</th>\n",
              "      <td>Heather M</td>\n",
              "      <td>Super Design Interactive Bloat Stop Anti-Gulping Slow Feed Dog Bowl</td>\n",
              "    </tr>\n",
              "    <tr>\n",
              "      <th>934</th>\n",
              "      <td>T. Shampo</td>\n",
              "      <td>King Kooker 04502 High Pressure Adjustable Regulator with Type 1 Connection and Listed LP Hose with Female Flare Swivel</td>\n",
              "    </tr>\n",
              "    <tr>\n",
              "      <th>935</th>\n",
              "      <td>Katy</td>\n",
              "      <td>EcoBark Max Comfort and Control Dog Harness; No Pull &amp; No Choke Design, Luxurious Padded Vest, Eco-Friendly Puppies Dogs</td>\n",
              "    </tr>\n",
              "    <tr>\n",
              "      <th>936</th>\n",
              "      <td>Scott E. Kelley</td>\n",
              "      <td>Bayou Classic 0880-CS, Stainless Steel Beercan ChickCAN Rack</td>\n",
              "    </tr>\n",
              "    <tr>\n",
              "      <th>937</th>\n",
              "      <td>Dennis Rogers</td>\n",
              "      <td>Season Black Capelin Caviar from Iceland, 3.5-Ounce Glass Jars (Pack of 4)</td>\n",
              "    </tr>\n",
              "  </tbody>\n",
              "</table>\n",
              "</div>\n",
              "    <div class=\"colab-df-buttons\">\n",
              "\n",
              "  <div class=\"colab-df-container\">\n",
              "    <button class=\"colab-df-convert\" onclick=\"convertToInteractive('df-30b675a1-2322-4187-9ba6-94402e1cf66b')\"\n",
              "            title=\"Convert this dataframe to an interactive table.\"\n",
              "            style=\"display:none;\">\n",
              "\n",
              "  <svg xmlns=\"http://www.w3.org/2000/svg\" height=\"24px\" viewBox=\"0 -960 960 960\">\n",
              "    <path d=\"M120-120v-720h720v720H120Zm60-500h600v-160H180v160Zm220 220h160v-160H400v160Zm0 220h160v-160H400v160ZM180-400h160v-160H180v160Zm440 0h160v-160H620v160ZM180-180h160v-160H180v160Zm440 0h160v-160H620v160Z\"/>\n",
              "  </svg>\n",
              "    </button>\n",
              "\n",
              "  <style>\n",
              "    .colab-df-container {\n",
              "      display:flex;\n",
              "      gap: 12px;\n",
              "    }\n",
              "\n",
              "    .colab-df-convert {\n",
              "      background-color: #E8F0FE;\n",
              "      border: none;\n",
              "      border-radius: 50%;\n",
              "      cursor: pointer;\n",
              "      display: none;\n",
              "      fill: #1967D2;\n",
              "      height: 32px;\n",
              "      padding: 0 0 0 0;\n",
              "      width: 32px;\n",
              "    }\n",
              "\n",
              "    .colab-df-convert:hover {\n",
              "      background-color: #E2EBFA;\n",
              "      box-shadow: 0px 1px 2px rgba(60, 64, 67, 0.3), 0px 1px 3px 1px rgba(60, 64, 67, 0.15);\n",
              "      fill: #174EA6;\n",
              "    }\n",
              "\n",
              "    .colab-df-buttons div {\n",
              "      margin-bottom: 4px;\n",
              "    }\n",
              "\n",
              "    [theme=dark] .colab-df-convert {\n",
              "      background-color: #3B4455;\n",
              "      fill: #D2E3FC;\n",
              "    }\n",
              "\n",
              "    [theme=dark] .colab-df-convert:hover {\n",
              "      background-color: #434B5C;\n",
              "      box-shadow: 0px 1px 3px 1px rgba(0, 0, 0, 0.15);\n",
              "      filter: drop-shadow(0px 1px 2px rgba(0, 0, 0, 0.3));\n",
              "      fill: #FFFFFF;\n",
              "    }\n",
              "  </style>\n",
              "\n",
              "    <script>\n",
              "      const buttonEl =\n",
              "        document.querySelector('#df-30b675a1-2322-4187-9ba6-94402e1cf66b button.colab-df-convert');\n",
              "      buttonEl.style.display =\n",
              "        google.colab.kernel.accessAllowed ? 'block' : 'none';\n",
              "\n",
              "      async function convertToInteractive(key) {\n",
              "        const element = document.querySelector('#df-30b675a1-2322-4187-9ba6-94402e1cf66b');\n",
              "        const dataTable =\n",
              "          await google.colab.kernel.invokeFunction('convertToInteractive',\n",
              "                                                    [key], {});\n",
              "        if (!dataTable) return;\n",
              "\n",
              "        const docLinkHtml = 'Like what you see? Visit the ' +\n",
              "          '<a target=\"_blank\" href=https://colab.research.google.com/notebooks/data_table.ipynb>data table notebook</a>'\n",
              "          + ' to learn more about interactive tables.';\n",
              "        element.innerHTML = '';\n",
              "        dataTable['output_type'] = 'display_data';\n",
              "        await google.colab.output.renderOutput(dataTable, element);\n",
              "        const docLink = document.createElement('div');\n",
              "        docLink.innerHTML = docLinkHtml;\n",
              "        element.appendChild(docLink);\n",
              "      }\n",
              "    </script>\n",
              "  </div>\n",
              "\n",
              "\n",
              "<div id=\"df-ae8b254f-e629-4d12-95cb-b77cad3e6c0c\">\n",
              "  <button class=\"colab-df-quickchart\" onclick=\"quickchart('df-ae8b254f-e629-4d12-95cb-b77cad3e6c0c')\"\n",
              "            title=\"Suggest charts\"\n",
              "            style=\"display:none;\">\n",
              "\n",
              "<svg xmlns=\"http://www.w3.org/2000/svg\" height=\"24px\"viewBox=\"0 0 24 24\"\n",
              "     width=\"24px\">\n",
              "    <g>\n",
              "        <path d=\"M19 3H5c-1.1 0-2 .9-2 2v14c0 1.1.9 2 2 2h14c1.1 0 2-.9 2-2V5c0-1.1-.9-2-2-2zM9 17H7v-7h2v7zm4 0h-2V7h2v10zm4 0h-2v-4h2v4z\"/>\n",
              "    </g>\n",
              "</svg>\n",
              "  </button>\n",
              "\n",
              "<style>\n",
              "  .colab-df-quickchart {\n",
              "      --bg-color: #E8F0FE;\n",
              "      --fill-color: #1967D2;\n",
              "      --hover-bg-color: #E2EBFA;\n",
              "      --hover-fill-color: #174EA6;\n",
              "      --disabled-fill-color: #AAA;\n",
              "      --disabled-bg-color: #DDD;\n",
              "  }\n",
              "\n",
              "  [theme=dark] .colab-df-quickchart {\n",
              "      --bg-color: #3B4455;\n",
              "      --fill-color: #D2E3FC;\n",
              "      --hover-bg-color: #434B5C;\n",
              "      --hover-fill-color: #FFFFFF;\n",
              "      --disabled-bg-color: #3B4455;\n",
              "      --disabled-fill-color: #666;\n",
              "  }\n",
              "\n",
              "  .colab-df-quickchart {\n",
              "    background-color: var(--bg-color);\n",
              "    border: none;\n",
              "    border-radius: 50%;\n",
              "    cursor: pointer;\n",
              "    display: none;\n",
              "    fill: var(--fill-color);\n",
              "    height: 32px;\n",
              "    padding: 0;\n",
              "    width: 32px;\n",
              "  }\n",
              "\n",
              "  .colab-df-quickchart:hover {\n",
              "    background-color: var(--hover-bg-color);\n",
              "    box-shadow: 0 1px 2px rgba(60, 64, 67, 0.3), 0 1px 3px 1px rgba(60, 64, 67, 0.15);\n",
              "    fill: var(--button-hover-fill-color);\n",
              "  }\n",
              "\n",
              "  .colab-df-quickchart-complete:disabled,\n",
              "  .colab-df-quickchart-complete:disabled:hover {\n",
              "    background-color: var(--disabled-bg-color);\n",
              "    fill: var(--disabled-fill-color);\n",
              "    box-shadow: none;\n",
              "  }\n",
              "\n",
              "  .colab-df-spinner {\n",
              "    border: 2px solid var(--fill-color);\n",
              "    border-color: transparent;\n",
              "    border-bottom-color: var(--fill-color);\n",
              "    animation:\n",
              "      spin 1s steps(1) infinite;\n",
              "  }\n",
              "\n",
              "  @keyframes spin {\n",
              "    0% {\n",
              "      border-color: transparent;\n",
              "      border-bottom-color: var(--fill-color);\n",
              "      border-left-color: var(--fill-color);\n",
              "    }\n",
              "    20% {\n",
              "      border-color: transparent;\n",
              "      border-left-color: var(--fill-color);\n",
              "      border-top-color: var(--fill-color);\n",
              "    }\n",
              "    30% {\n",
              "      border-color: transparent;\n",
              "      border-left-color: var(--fill-color);\n",
              "      border-top-color: var(--fill-color);\n",
              "      border-right-color: var(--fill-color);\n",
              "    }\n",
              "    40% {\n",
              "      border-color: transparent;\n",
              "      border-right-color: var(--fill-color);\n",
              "      border-top-color: var(--fill-color);\n",
              "    }\n",
              "    60% {\n",
              "      border-color: transparent;\n",
              "      border-right-color: var(--fill-color);\n",
              "    }\n",
              "    80% {\n",
              "      border-color: transparent;\n",
              "      border-right-color: var(--fill-color);\n",
              "      border-bottom-color: var(--fill-color);\n",
              "    }\n",
              "    90% {\n",
              "      border-color: transparent;\n",
              "      border-bottom-color: var(--fill-color);\n",
              "    }\n",
              "  }\n",
              "</style>\n",
              "\n",
              "  <script>\n",
              "    async function quickchart(key) {\n",
              "      const quickchartButtonEl =\n",
              "        document.querySelector('#' + key + ' button');\n",
              "      quickchartButtonEl.disabled = true;  // To prevent multiple clicks.\n",
              "      quickchartButtonEl.classList.add('colab-df-spinner');\n",
              "      try {\n",
              "        const charts = await google.colab.kernel.invokeFunction(\n",
              "            'suggestCharts', [key], {});\n",
              "      } catch (error) {\n",
              "        console.error('Error during call to suggestCharts:', error);\n",
              "      }\n",
              "      quickchartButtonEl.classList.remove('colab-df-spinner');\n",
              "      quickchartButtonEl.classList.add('colab-df-quickchart-complete');\n",
              "    }\n",
              "    (() => {\n",
              "      let quickchartButtonEl =\n",
              "        document.querySelector('#df-ae8b254f-e629-4d12-95cb-b77cad3e6c0c button');\n",
              "      quickchartButtonEl.style.display =\n",
              "        google.colab.kernel.accessAllowed ? 'block' : 'none';\n",
              "    })();\n",
              "  </script>\n",
              "</div>\n",
              "\n",
              "    </div>\n",
              "  </div>\n"
            ],
            "application/vnd.google.colaboratory.intrinsic+json": {
              "type": "dataframe",
              "summary": "{\n  \"name\": \"df[800:820][['userName', 'itemName']]\",\n  \"rows\": 20,\n  \"fields\": [\n    {\n      \"column\": \"userName\",\n      \"properties\": {\n        \"dtype\": \"string\",\n        \"num_unique_values\": 19,\n        \"samples\": [\n          \"kim\",\n          \"T. Shampo\",\n          \"Karoline Carlson\"\n        ],\n        \"semantic_type\": \"\",\n        \"description\": \"\"\n      }\n    },\n    {\n      \"column\": \"itemName\",\n      \"properties\": {\n        \"dtype\": \"string\",\n        \"num_unique_values\": 19,\n        \"samples\": [\n          \"Laube Blade Case, Mini\",\n          \"WESTERN 78057 Premium BBQ Products Post Oak Cooking Chunks, 570 cu inch Food\",\n          \"LG Urbane 2nd LTE Watch Stand, Artifex Charging Dock Stand for 2nd LTE Watch, New 3D Printed Technology, Smartwatch Cradle (Black)\"\n        ],\n        \"semantic_type\": \"\",\n        \"description\": \"\"\n      }\n    }\n  ]\n}"
            }
          },
          "metadata": {},
          "execution_count": 20
        }
      ]
    },
    {
      "cell_type": "markdown",
      "source": [
        "###description"
      ],
      "metadata": {
        "id": "3dXW_E3DJx3p"
      }
    },
    {
      "cell_type": "code",
      "source": [
        "df.description.fillna('No description', inplace=True)"
      ],
      "metadata": {
        "id": "O-HUJ8B9WNTo"
      },
      "execution_count": null,
      "outputs": []
    },
    {
      "cell_type": "code",
      "source": [
        "#Clean specific cases that can't be cleaned by BS and html.unescape\n",
        "df.loc[:, 'description'] = df['description'].apply(clean_other)"
      ],
      "metadata": {
        "id": "VHGyA1hml3aE"
      },
      "execution_count": null,
      "outputs": []
    },
    {
      "cell_type": "code",
      "source": [
        "#HTML code cleaning and HTML entities cleaning\n",
        "df.loc[:, 'description'] = df['description'].apply(clean_html)\n",
        "for i in range(5):\n",
        "  df.loc[:, 'description'] = df['description'].apply(html.unescape)"
      ],
      "metadata": {
        "id": "maZfqdqUL0G2",
        "colab": {
          "base_uri": "https://localhost:8080/"
        },
        "outputId": "f9798ebb-b311-479f-8f2c-9d23430b91a5"
      },
      "execution_count": null,
      "outputs": [
        {
          "output_type": "stream",
          "name": "stderr",
          "text": [
            "<ipython-input-7-1f44697f75f0>:4: MarkupResemblesLocatorWarning: The input looks more like a filename than markup. You may want to open this file and pass the filehandle into Beautiful Soup.\n",
            "  soup = BeautifulSoup(text, 'html.parser')\n"
          ]
        }
      ]
    },
    {
      "cell_type": "code",
      "source": [
        "#Final feature converting to text\n",
        "df.loc[:, 'description'] = df['description'].apply(clean_list_as_string_feature)"
      ],
      "metadata": {
        "id": "rTFQptK-m71o"
      },
      "execution_count": null,
      "outputs": []
    },
    {
      "cell_type": "code",
      "source": [
        "df[480:500].description"
      ],
      "metadata": {
        "id": "iWQHZ9i_JxKP",
        "colab": {
          "base_uri": "https://localhost:8080/",
          "height": 711
        },
        "outputId": "0a7e9267-c30a-42ef-b1f8-d972745aef56"
      },
      "execution_count": null,
      "outputs": [
        {
          "output_type": "execute_result",
          "data": {
            "text/plain": [
              "568    Nothing beats the tremendously tangy, playfully chewy chew of Airheads candy! This box is the delicious answer to your sweet tooth's dream and your bulk candy needs! Gluten-free, peanut-free and k...\n",
              "569    Worry less while you're working, adventuring and living when you defend your device against drops, dirt and scrapes. Combining a solid internal shell with a resilient outer slipcover, Defender Ser...\n",
              "570    Multipet Plush Dog Toy, Sock Monkey. Dogs like socks--as anyone who's returned home to find their laundry in shreds can attest. But giving your pooch a sock to play with just reinforces bad habits...\n",
              "571                                                                                                                                                                                    Animal Crossing Series.\n",
              "573    Tiny Footprint Coffee. Tiny Footprint Coffee  Mindo Cloudforest Foundation Partnership (MCF). Statements regarding dietary supplements have not been evaluated by the FDA and are not intended to di...\n",
              "575    Redline K9 Tug Toys are Made with high quality Bite Suit Material. This 3 x 10 Bite Suit Tug Toy is our most popular tug toy. Tug Toys are meant for interactive tugging between you and your dog on...\n",
              "576    Organic, Gluten Free, Vegan, quick cooking gravies. Great over nooldes, potatoes. Organic Brown Rice Flour, Organic Tapioca Starch, Organic Tamari Powder, Unrefined Salt, Organic Onion Powder, Org...\n",
              "577    Rachael Ray Nutrish Real Salmon & Brown Rice Recipe is made with simple, natural ingredients, like real salmon, which is always the number one ingredient, combined with wholesome brown rice, veget...\n",
              "580    An odor free home starts with ARM & HAMMER Super Scoop Clumping Litter with Ammonia Odor Block formula. It combines powerful baking soda crystals with ammonia odor neutralizers to eliminate the to...\n",
              "581    Size:3XL-9XL  3XL: back length:45cm/17.71'', Chest:60cm/23.62'', Neck:40cm/15.74''.  4XL: back length:50cm/19.68'', Chest:65cm/25.6'', Neck:43cm/16.93''.  5XL: back length:55cm/21.65'', Chest:70cm...\n",
              "582    Halo 2 is the sequel to the hugely successful and critically praised Halo: Combat Evolved. In Halo 2 the saga continues as the genetically enhanced super soldier, Master Chief, must defend humanki...\n",
              "583    The Duck Brand Bubble Wrap Protects Your Valuables From Damage. Instantly Pad Items By Wrapping, Packing Or Filling Up The Box To Eliminate Voids And Prevent Your Belongings From Shifting When You...\n",
              "584    The Best Dog Ever deserves the Best Food Ever. Thats why Merricks grain-free recipes provide only the best to your best friend in quality, nutrition and taste. Merrick grain-free recipes start wit...\n",
              "585    Introducing of Elegancase Heavy Duty Kickstand Holster Case for Samsung Galaxy Core Prime G360 / Samsung Galaxy Prevail LTE    -First Layer: The first layer of protection is a silicone rubber gel ...\n",
              "586    Keep your Prismacolor Premier Colored Pencils sharp and ready for sketching with the Prismacolor Premier Pencil Sharpener. This colored pencil sharpener features two different steel blades--one fo...\n",
              "587                                                                                                                                                                                                  No record\n",
              "588    gofanco 7-Port USB Charging Station   is capable of charging 7 USB-powered mobile devices simultaneously.   All 7 ports   are equipped with an intelligent IC to detect how much power is required t...\n",
              "589                                                                                                                                                                                                  No record\n",
              "590    Ribena Blackcurrant Concentrate. A rich source of vitamin C. Ribena Blackcurrant Concentrate. Britain's blackcurrants have one thing in common ? they all want to be Ribena blackcurrant concentrate...\n",
              "591    Hand contoured packaging tape dispenser in red with braking device. Scotch  Cellulose Tape was invented in 1930 by Richard Drew, a 3M scientist. Later renamed Cellophane Tape, the tape was origina...\n",
              "Name: description, dtype: object"
            ],
            "text/html": [
              "<div>\n",
              "<style scoped>\n",
              "    .dataframe tbody tr th:only-of-type {\n",
              "        vertical-align: middle;\n",
              "    }\n",
              "\n",
              "    .dataframe tbody tr th {\n",
              "        vertical-align: top;\n",
              "    }\n",
              "\n",
              "    .dataframe thead th {\n",
              "        text-align: right;\n",
              "    }\n",
              "</style>\n",
              "<table border=\"1\" class=\"dataframe\">\n",
              "  <thead>\n",
              "    <tr style=\"text-align: right;\">\n",
              "      <th></th>\n",
              "      <th>description</th>\n",
              "    </tr>\n",
              "  </thead>\n",
              "  <tbody>\n",
              "    <tr>\n",
              "      <th>568</th>\n",
              "      <td>Nothing beats the tremendously tangy, playfully chewy chew of Airheads candy! This box is the delicious answer to your sweet tooth's dream and your bulk candy needs! Gluten-free, peanut-free and k...</td>\n",
              "    </tr>\n",
              "    <tr>\n",
              "      <th>569</th>\n",
              "      <td>Worry less while you're working, adventuring and living when you defend your device against drops, dirt and scrapes. Combining a solid internal shell with a resilient outer slipcover, Defender Ser...</td>\n",
              "    </tr>\n",
              "    <tr>\n",
              "      <th>570</th>\n",
              "      <td>Multipet Plush Dog Toy, Sock Monkey. Dogs like socks--as anyone who's returned home to find their laundry in shreds can attest. But giving your pooch a sock to play with just reinforces bad habits...</td>\n",
              "    </tr>\n",
              "    <tr>\n",
              "      <th>571</th>\n",
              "      <td>Animal Crossing Series.</td>\n",
              "    </tr>\n",
              "    <tr>\n",
              "      <th>573</th>\n",
              "      <td>Tiny Footprint Coffee. Tiny Footprint Coffee  Mindo Cloudforest Foundation Partnership (MCF). Statements regarding dietary supplements have not been evaluated by the FDA and are not intended to di...</td>\n",
              "    </tr>\n",
              "    <tr>\n",
              "      <th>575</th>\n",
              "      <td>Redline K9 Tug Toys are Made with high quality Bite Suit Material. This 3 x 10 Bite Suit Tug Toy is our most popular tug toy. Tug Toys are meant for interactive tugging between you and your dog on...</td>\n",
              "    </tr>\n",
              "    <tr>\n",
              "      <th>576</th>\n",
              "      <td>Organic, Gluten Free, Vegan, quick cooking gravies. Great over nooldes, potatoes. Organic Brown Rice Flour, Organic Tapioca Starch, Organic Tamari Powder, Unrefined Salt, Organic Onion Powder, Org...</td>\n",
              "    </tr>\n",
              "    <tr>\n",
              "      <th>577</th>\n",
              "      <td>Rachael Ray Nutrish Real Salmon &amp; Brown Rice Recipe is made with simple, natural ingredients, like real salmon, which is always the number one ingredient, combined with wholesome brown rice, veget...</td>\n",
              "    </tr>\n",
              "    <tr>\n",
              "      <th>580</th>\n",
              "      <td>An odor free home starts with ARM &amp; HAMMER Super Scoop Clumping Litter with Ammonia Odor Block formula. It combines powerful baking soda crystals with ammonia odor neutralizers to eliminate the to...</td>\n",
              "    </tr>\n",
              "    <tr>\n",
              "      <th>581</th>\n",
              "      <td>Size:3XL-9XL  3XL: back length:45cm/17.71'', Chest:60cm/23.62'', Neck:40cm/15.74''.  4XL: back length:50cm/19.68'', Chest:65cm/25.6'', Neck:43cm/16.93''.  5XL: back length:55cm/21.65'', Chest:70cm...</td>\n",
              "    </tr>\n",
              "    <tr>\n",
              "      <th>582</th>\n",
              "      <td>Halo 2 is the sequel to the hugely successful and critically praised Halo: Combat Evolved. In Halo 2 the saga continues as the genetically enhanced super soldier, Master Chief, must defend humanki...</td>\n",
              "    </tr>\n",
              "    <tr>\n",
              "      <th>583</th>\n",
              "      <td>The Duck Brand Bubble Wrap Protects Your Valuables From Damage. Instantly Pad Items By Wrapping, Packing Or Filling Up The Box To Eliminate Voids And Prevent Your Belongings From Shifting When You...</td>\n",
              "    </tr>\n",
              "    <tr>\n",
              "      <th>584</th>\n",
              "      <td>The Best Dog Ever deserves the Best Food Ever. Thats why Merricks grain-free recipes provide only the best to your best friend in quality, nutrition and taste. Merrick grain-free recipes start wit...</td>\n",
              "    </tr>\n",
              "    <tr>\n",
              "      <th>585</th>\n",
              "      <td>Introducing of Elegancase Heavy Duty Kickstand Holster Case for Samsung Galaxy Core Prime G360 / Samsung Galaxy Prevail LTE    -First Layer: The first layer of protection is a silicone rubber gel ...</td>\n",
              "    </tr>\n",
              "    <tr>\n",
              "      <th>586</th>\n",
              "      <td>Keep your Prismacolor Premier Colored Pencils sharp and ready for sketching with the Prismacolor Premier Pencil Sharpener. This colored pencil sharpener features two different steel blades--one fo...</td>\n",
              "    </tr>\n",
              "    <tr>\n",
              "      <th>587</th>\n",
              "      <td>No record</td>\n",
              "    </tr>\n",
              "    <tr>\n",
              "      <th>588</th>\n",
              "      <td>gofanco 7-Port USB Charging Station   is capable of charging 7 USB-powered mobile devices simultaneously.   All 7 ports   are equipped with an intelligent IC to detect how much power is required t...</td>\n",
              "    </tr>\n",
              "    <tr>\n",
              "      <th>589</th>\n",
              "      <td>No record</td>\n",
              "    </tr>\n",
              "    <tr>\n",
              "      <th>590</th>\n",
              "      <td>Ribena Blackcurrant Concentrate. A rich source of vitamin C. Ribena Blackcurrant Concentrate. Britain's blackcurrants have one thing in common ? they all want to be Ribena blackcurrant concentrate...</td>\n",
              "    </tr>\n",
              "    <tr>\n",
              "      <th>591</th>\n",
              "      <td>Hand contoured packaging tape dispenser in red with braking device. Scotch  Cellulose Tape was invented in 1930 by Richard Drew, a 3M scientist. Later renamed Cellophane Tape, the tape was origina...</td>\n",
              "    </tr>\n",
              "  </tbody>\n",
              "</table>\n",
              "</div><br><label><b>dtype:</b> object</label>"
            ]
          },
          "metadata": {},
          "execution_count": 25
        }
      ]
    },
    {
      "cell_type": "markdown",
      "source": [
        "###brand"
      ],
      "metadata": {
        "id": "IG7Vvza-Yyb9"
      }
    },
    {
      "cell_type": "code",
      "source": [
        "df.loc[:, 'brand'] = df['brand'].fillna(\"No Name\")"
      ],
      "metadata": {
        "id": "e6iJKPilYoAH"
      },
      "execution_count": null,
      "outputs": []
    },
    {
      "cell_type": "code",
      "source": [
        "#brand has some HTML entities, white spaces and new line symbols\n",
        "df.loc[:, 'brand'] = df['brand'].str.replace('\\n', '', regex=False).str.strip()\n",
        "df.loc[:, 'brand'] = df['brand'].str.replace(r'\\s+', ' ', regex=True).str.strip()\n",
        "for i in range(5):\n",
        "  df.loc[:, 'brand'] = df['brand'].apply(html.unescape)"
      ],
      "metadata": {
        "id": "kdKBDtqvYn_7"
      },
      "execution_count": null,
      "outputs": []
    },
    {
      "cell_type": "markdown",
      "source": [
        "###feature"
      ],
      "metadata": {
        "id": "HkKQJYrFK9SB"
      }
    },
    {
      "cell_type": "code",
      "source": [
        "df.loc[:, 'feature'] = df['feature'].apply(clean_other)\n",
        "df.loc[:, 'feature'] = df['feature'].apply(clean_html)\n",
        "for i in range(5):\n",
        "  df.loc[:, 'feature'] = df['feature'].apply(html.unescape)"
      ],
      "metadata": {
        "id": "nzaIP_16ITzE",
        "colab": {
          "base_uri": "https://localhost:8080/"
        },
        "outputId": "fb332ca6-d760-495b-de3f-151162f7c523"
      },
      "execution_count": null,
      "outputs": [
        {
          "output_type": "stream",
          "name": "stderr",
          "text": [
            "<ipython-input-7-1f44697f75f0>:4: MarkupResemblesLocatorWarning: The input looks more like a filename than markup. You may want to open this file and pass the filehandle into Beautiful Soup.\n",
            "  soup = BeautifulSoup(text, 'html.parser')\n"
          ]
        }
      ]
    },
    {
      "cell_type": "code",
      "source": [
        "df.loc[:, 'feature'] = df['feature'].apply(clean_list_as_string_feature)"
      ],
      "metadata": {
        "id": "Sd_L2oWBqZoo"
      },
      "execution_count": null,
      "outputs": []
    },
    {
      "cell_type": "code",
      "source": [
        "df[480:500].feature"
      ],
      "metadata": {
        "colab": {
          "base_uri": "https://localhost:8080/",
          "height": 711
        },
        "id": "uYydUBk5ZQaH",
        "outputId": "9612a25a-cbc7-49be-f78b-a16b286f8d0e"
      },
      "execution_count": null,
      "outputs": [
        {
          "output_type": "execute_result",
          "data": {
            "text/plain": [
              "568                                                                                                                                                                                                  No record\n",
              "569    Compatible with Samsung Galaxy Note8. New SCREENLESS design: accommodates curved touchscreen. Try the OtterBox Alpha Glass screen protector for resistance against scratches and shattering (SKU: 77...\n",
              "570                                                                                                                                                                    Sock Pal. Monkey. Plush. Dog Toy. Pets.\n",
              "571    Introducing amiibo: character figures designed to connect and interact with compatible games. By tapping the amiibo over your Wii U GamePad, you'll open up new experiences within each correspondin...\n",
              "573                                                                                                                                                                                                  No record\n",
              "575                                                  Great reward toy for all breeds of dogs. Perfect for IPO, Schutzhund, Ring Sport, Police dogs and more. Made with RedLine K9's High Quality French Linen.\n",
              "576                                                                                                                                                                                                  No record\n",
              "577    Real Salmon is the #1 Ingredient. No ground corn, wheat or soy ingredients. No poultry by-product meal or filler ingredients. No Artificial Flavors or Artificial Preservatives. Natural Cat Food wi...\n",
              "580    Great for fragrance sensitive cats and their owners. Combines powerful baking soda crystals with ammonia odor neutralizers to eliminate the toughest odors on contact. Rock-solid clumps let you rem...\n",
              "581    Measure Your Pet Read the Size Chart  to Choose the Correct Size.If the measurements are 'between' two sizes, choose the larger size.(PS:According to our customers reviews,you can order 1 size up)...\n",
              "582    Master Chief can now wield two weapons at once, board Covenant vehicles and steal Covenant weapons like the incredible double energy sword. Lead an all-new unit of super-soldiers, the ODST -- toug...\n",
              "583    Original Bubble Wrap cushioning roll features 3/16 inch height small size bubbles. Conforms easily around delicate and valuable items during moving, mailing and storage. Features Air Lock Technolo...\n",
              "584    Grain-Free Nutrition With No Gluten Ingredients For Easier Digestibility. #1 Ingredient Is Real Deboned Beef. Balanced With Optimal Protein And Fiber Without The Extra Calories Or Fat For Healthy ...\n",
              "585    Specially design for Samsung Galaxy Core Prime G360 / Samsung Galaxy Prevail LTE(will not fit the galaxy grand prime). Maximum Protection dual-layered, Shock-absorbing TPU interior + polycarbonate...\n",
              "586    Sharpens your Prismacolor colored pencils to a perfect point. Two different blades, both made from high-quality sharpened steel. Select a wide point for coverage or a fine point for sharp details....\n",
              "587                                                                                                                                                                                                  No record\n",
              "588    ONE CHARGING STATION FOR ALL - 7 SmartIC enabled USB ports allow you to charge 7 smartphones and tablets simultaneously. Compatible with most mobile devices from Apple, Samsung, LG, Nexus, HTC, an...\n",
              "589                                                                                                                                                                                                  No record\n",
              "590                                                                                                                                                                                                  No record\n",
              "591            Hand contoured packaging tape dispenser in red with braking device. Light, compact and great for the office, mailroom or shipping room!. Holds tape up to 2\" wide on a 3\" core and 60 yds long.\n",
              "Name: feature, dtype: object"
            ],
            "text/html": [
              "<div>\n",
              "<style scoped>\n",
              "    .dataframe tbody tr th:only-of-type {\n",
              "        vertical-align: middle;\n",
              "    }\n",
              "\n",
              "    .dataframe tbody tr th {\n",
              "        vertical-align: top;\n",
              "    }\n",
              "\n",
              "    .dataframe thead th {\n",
              "        text-align: right;\n",
              "    }\n",
              "</style>\n",
              "<table border=\"1\" class=\"dataframe\">\n",
              "  <thead>\n",
              "    <tr style=\"text-align: right;\">\n",
              "      <th></th>\n",
              "      <th>feature</th>\n",
              "    </tr>\n",
              "  </thead>\n",
              "  <tbody>\n",
              "    <tr>\n",
              "      <th>568</th>\n",
              "      <td>No record</td>\n",
              "    </tr>\n",
              "    <tr>\n",
              "      <th>569</th>\n",
              "      <td>Compatible with Samsung Galaxy Note8. New SCREENLESS design: accommodates curved touchscreen. Try the OtterBox Alpha Glass screen protector for resistance against scratches and shattering (SKU: 77...</td>\n",
              "    </tr>\n",
              "    <tr>\n",
              "      <th>570</th>\n",
              "      <td>Sock Pal. Monkey. Plush. Dog Toy. Pets.</td>\n",
              "    </tr>\n",
              "    <tr>\n",
              "      <th>571</th>\n",
              "      <td>Introducing amiibo: character figures designed to connect and interact with compatible games. By tapping the amiibo over your Wii U GamePad, you'll open up new experiences within each correspondin...</td>\n",
              "    </tr>\n",
              "    <tr>\n",
              "      <th>573</th>\n",
              "      <td>No record</td>\n",
              "    </tr>\n",
              "    <tr>\n",
              "      <th>575</th>\n",
              "      <td>Great reward toy for all breeds of dogs. Perfect for IPO, Schutzhund, Ring Sport, Police dogs and more. Made with RedLine K9's High Quality French Linen.</td>\n",
              "    </tr>\n",
              "    <tr>\n",
              "      <th>576</th>\n",
              "      <td>No record</td>\n",
              "    </tr>\n",
              "    <tr>\n",
              "      <th>577</th>\n",
              "      <td>Real Salmon is the #1 Ingredient. No ground corn, wheat or soy ingredients. No poultry by-product meal or filler ingredients. No Artificial Flavors or Artificial Preservatives. Natural Cat Food wi...</td>\n",
              "    </tr>\n",
              "    <tr>\n",
              "      <th>580</th>\n",
              "      <td>Great for fragrance sensitive cats and their owners. Combines powerful baking soda crystals with ammonia odor neutralizers to eliminate the toughest odors on contact. Rock-solid clumps let you rem...</td>\n",
              "    </tr>\n",
              "    <tr>\n",
              "      <th>581</th>\n",
              "      <td>Measure Your Pet Read the Size Chart  to Choose the Correct Size.If the measurements are 'between' two sizes, choose the larger size.(PS:According to our customers reviews,you can order 1 size up)...</td>\n",
              "    </tr>\n",
              "    <tr>\n",
              "      <th>582</th>\n",
              "      <td>Master Chief can now wield two weapons at once, board Covenant vehicles and steal Covenant weapons like the incredible double energy sword. Lead an all-new unit of super-soldiers, the ODST -- toug...</td>\n",
              "    </tr>\n",
              "    <tr>\n",
              "      <th>583</th>\n",
              "      <td>Original Bubble Wrap cushioning roll features 3/16 inch height small size bubbles. Conforms easily around delicate and valuable items during moving, mailing and storage. Features Air Lock Technolo...</td>\n",
              "    </tr>\n",
              "    <tr>\n",
              "      <th>584</th>\n",
              "      <td>Grain-Free Nutrition With No Gluten Ingredients For Easier Digestibility. #1 Ingredient Is Real Deboned Beef. Balanced With Optimal Protein And Fiber Without The Extra Calories Or Fat For Healthy ...</td>\n",
              "    </tr>\n",
              "    <tr>\n",
              "      <th>585</th>\n",
              "      <td>Specially design for Samsung Galaxy Core Prime G360 / Samsung Galaxy Prevail LTE(will not fit the galaxy grand prime). Maximum Protection dual-layered, Shock-absorbing TPU interior + polycarbonate...</td>\n",
              "    </tr>\n",
              "    <tr>\n",
              "      <th>586</th>\n",
              "      <td>Sharpens your Prismacolor colored pencils to a perfect point. Two different blades, both made from high-quality sharpened steel. Select a wide point for coverage or a fine point for sharp details....</td>\n",
              "    </tr>\n",
              "    <tr>\n",
              "      <th>587</th>\n",
              "      <td>No record</td>\n",
              "    </tr>\n",
              "    <tr>\n",
              "      <th>588</th>\n",
              "      <td>ONE CHARGING STATION FOR ALL - 7 SmartIC enabled USB ports allow you to charge 7 smartphones and tablets simultaneously. Compatible with most mobile devices from Apple, Samsung, LG, Nexus, HTC, an...</td>\n",
              "    </tr>\n",
              "    <tr>\n",
              "      <th>589</th>\n",
              "      <td>No record</td>\n",
              "    </tr>\n",
              "    <tr>\n",
              "      <th>590</th>\n",
              "      <td>No record</td>\n",
              "    </tr>\n",
              "    <tr>\n",
              "      <th>591</th>\n",
              "      <td>Hand contoured packaging tape dispenser in red with braking device. Light, compact and great for the office, mailroom or shipping room!. Holds tape up to 2\" wide on a 3\" core and 60 yds long.</td>\n",
              "    </tr>\n",
              "  </tbody>\n",
              "</table>\n",
              "</div><br><label><b>dtype:</b> object</label>"
            ]
          },
          "metadata": {},
          "execution_count": 30
        }
      ]
    },
    {
      "cell_type": "markdown",
      "source": [
        "###price"
      ],
      "metadata": {
        "id": "7kdbx50Wf_XO"
      }
    },
    {
      "cell_type": "code",
      "source": [
        "# Replace values that don't start with '$' with NaN\n",
        "df.loc[df['price'].notna() & ~df['price'].str.startswith('$', na=False), 'price'] = np.nan\n",
        "\n",
        "df.loc[df['price'].notna(), 'price'] = (\n",
        "    df['price']\n",
        "    .str.extract(r'(\\$\\d+\\.\\d{2})')[0]   # Extract the price in the format $xx.xx\n",
        "    .replace('[\\$,]', '', regex=True)    # Remove the $ sign\n",
        "    .astype(float)                       # Convert to float\n",
        ")\n",
        "df['price'].fillna(df['price'].median(), inplace=True)"
      ],
      "metadata": {
        "id": "JPc2yebuf9FQ"
      },
      "execution_count": null,
      "outputs": []
    },
    {
      "cell_type": "code",
      "source": [
        "print(df.price.min())\n",
        "print(df.price.max())"
      ],
      "metadata": {
        "colab": {
          "base_uri": "https://localhost:8080/"
        },
        "id": "zXkdIi85f9FQ",
        "outputId": "c01b5d90-812a-49bd-c074-1c233a100a0a"
      },
      "execution_count": null,
      "outputs": [
        {
          "output_type": "stream",
          "name": "stdout",
          "text": [
            "0.0\n",
            "999.99\n"
          ]
        }
      ]
    },
    {
      "cell_type": "markdown",
      "source": [
        "###reviewTime"
      ],
      "metadata": {
        "id": "DRRNR6YIg79Y"
      }
    },
    {
      "cell_type": "code",
      "source": [
        "df['reviewTime'] = pd.to_datetime(df['reviewTime'], format='%Y-%m-%d')"
      ],
      "metadata": {
        "id": "oXUuvtrQg79l"
      },
      "execution_count": null,
      "outputs": []
    },
    {
      "cell_type": "markdown",
      "source": [
        "###summary      "
      ],
      "metadata": {
        "id": "lbTlDbHGhjy3"
      }
    },
    {
      "cell_type": "code",
      "source": [
        "df.summary.fillna('No summary', inplace=True)"
      ],
      "metadata": {
        "id": "ZyCZRjNVhnip"
      },
      "execution_count": null,
      "outputs": []
    },
    {
      "cell_type": "markdown",
      "source": [
        "###reviewText"
      ],
      "metadata": {
        "id": "eXcegfXSj__P"
      }
    },
    {
      "cell_type": "code",
      "source": [
        "df.reviewText.fillna('No review', inplace=True)"
      ],
      "metadata": {
        "id": "52MiSgN-kX_C"
      },
      "execution_count": null,
      "outputs": []
    },
    {
      "cell_type": "code",
      "source": [
        "df.loc[:, 'reviewText'] = df['reviewText'].apply(clean_other)\n",
        "df.loc[:, 'reviewText'] = df['reviewText'].apply(clean_html)\n",
        "for i in range(5):\n",
        "  df.loc[:, 'reviewText'] = df['reviewText'].apply(html.unescape)"
      ],
      "metadata": {
        "colab": {
          "base_uri": "https://localhost:8080/"
        },
        "id": "rKAuYNvij__h",
        "outputId": "d4b450f6-5659-4b23-aad3-068c0474d051"
      },
      "execution_count": null,
      "outputs": [
        {
          "output_type": "stream",
          "name": "stderr",
          "text": [
            "<ipython-input-7-1f44697f75f0>:4: MarkupResemblesLocatorWarning: The input looks more like a filename than markup. You may want to open this file and pass the filehandle into Beautiful Soup.\n",
            "  soup = BeautifulSoup(text, 'html.parser')\n",
            "<ipython-input-7-1f44697f75f0>:4: MarkupResemblesLocatorWarning: The input looks more like a URL than markup. You may want to use an HTTP client like requests to get the document behind the URL, and feed that document to Beautiful Soup.\n",
            "  soup = BeautifulSoup(text, 'html.parser')\n"
          ]
        }
      ]
    },
    {
      "cell_type": "code",
      "source": [
        "print(f'Number of duplicates: {len(df[df.duplicated(keep=False)])}')"
      ],
      "metadata": {
        "colab": {
          "base_uri": "https://localhost:8080/"
        },
        "id": "L-7bfMVEqkX2",
        "outputId": "d86b2c26-2d20-46da-9d63-065fbedf9237"
      },
      "execution_count": null,
      "outputs": [
        {
          "output_type": "stream",
          "name": "stdout",
          "text": [
            "Number of duplicates: 99\n"
          ]
        }
      ]
    },
    {
      "cell_type": "code",
      "source": [
        "df = df.drop_duplicates()"
      ],
      "metadata": {
        "id": "A_9fUt4MqqL4"
      },
      "execution_count": null,
      "outputs": []
    },
    {
      "cell_type": "markdown",
      "source": [
        "###image"
      ],
      "metadata": {
        "id": "iBFn97bdQkFo"
      }
    },
    {
      "cell_type": "code",
      "source": [
        "#for the sake of limited time, let's set aside image feature\n",
        "df.drop(columns=['image'], inplace=True)"
      ],
      "metadata": {
        "id": "XBZyuAFQQi8S"
      },
      "execution_count": null,
      "outputs": []
    },
    {
      "cell_type": "code",
      "source": [
        "df.info()"
      ],
      "metadata": {
        "colab": {
          "base_uri": "https://localhost:8080/"
        },
        "id": "e7qkWM6Bntbw",
        "outputId": "e4b27f9f-ae07-474d-b090-67b567e45c4d"
      },
      "execution_count": null,
      "outputs": [
        {
          "output_type": "stream",
          "name": "stdout",
          "text": [
            "<class 'pandas.core.frame.DataFrame'>\n",
            "Index: 510312 entries, 0 to 551158\n",
            "Data columns (total 13 columns):\n",
            " #   Column       Non-Null Count   Dtype         \n",
            "---  ------       --------------   -----         \n",
            " 0   userName     510312 non-null  object        \n",
            " 1   verified     510312 non-null  bool          \n",
            " 2   itemName     510312 non-null  object        \n",
            " 3   description  510312 non-null  object        \n",
            " 4   brand        510312 non-null  object        \n",
            " 5   feature      510312 non-null  object        \n",
            " 6   category     510312 non-null  object        \n",
            " 7   price        510312 non-null  float64       \n",
            " 8   rating       510312 non-null  float64       \n",
            " 9   reviewTime   510312 non-null  datetime64[ns]\n",
            " 10  summary      510312 non-null  object        \n",
            " 11  reviewText   510312 non-null  object        \n",
            " 12  vote         510312 non-null  int64         \n",
            "dtypes: bool(1), datetime64[ns](1), float64(2), int64(1), object(8)\n",
            "memory usage: 51.1+ MB\n"
          ]
        }
      ]
    },
    {
      "cell_type": "markdown",
      "source": [
        "##SAVE DATASET"
      ],
      "metadata": {
        "id": "mAu2G2GDSjl4"
      }
    },
    {
      "cell_type": "code",
      "source": [
        "path = '/content/drive/MyDrive/Velotix HA/'\n",
        "file_path = os.path.join(path, 'amazon_review_clean.parquet')\n",
        "\n",
        "df.to_parquet(file_path)"
      ],
      "metadata": {
        "id": "RcRoYv9yn18M"
      },
      "execution_count": null,
      "outputs": []
    }
  ]
}